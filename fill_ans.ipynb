{
 "cells": [
  {
   "cell_type": "code",
   "execution_count": 16,
   "metadata": {},
   "outputs": [],
   "source": [
    "import os\n",
    "\n",
    "import pandas as pd"
   ]
  },
  {
   "cell_type": "code",
   "execution_count": 17,
   "metadata": {},
   "outputs": [],
   "source": [
    "# filter files starting with a given prefix and ending with a given suffix\n",
    "def filter_files(prefix, suffix, files):\n",
    "    return [f for f in files if f.startswith(prefix) and f.endswith(suffix)]"
   ]
  },
  {
   "cell_type": "code",
   "execution_count": 18,
   "metadata": {},
   "outputs": [],
   "source": [
    "data_dir = \"./data\"\n",
    "files = os.listdir(data_dir)"
   ]
  },
  {
   "cell_type": "code",
   "execution_count": 19,
   "metadata": {},
   "outputs": [
    {
     "data": {
      "text/plain": [
       "['test_set_2_2ap.csv',\n",
       " 'test_set_1_3ap.csv',\n",
       " 'test_set_2_3ap.csv',\n",
       " 'test_set_1_2ap.csv']"
      ]
     },
     "execution_count": 19,
     "metadata": {},
     "output_type": "execute_result"
    }
   ],
   "source": [
    "test_files = filter_files(\"test\", \".csv\", files)\n",
    "test_files"
   ]
  },
  {
   "cell_type": "code",
   "execution_count": 20,
   "metadata": {},
   "outputs": [],
   "source": [
    "import re\n",
    "\n",
    "data_dict = {}\n",
    "\n",
    "pattern = re.compile(r\"test_set_(\\d+)_(\\d+)ap.csv\")\n",
    "for file in test_files:\n",
    "    match = pattern.search(file)\n",
    "    if match:\n",
    "        item = dict(\n",
    "            df=pd.read_csv(os.path.join(data_dir, file)),\n",
    "            idx=int(match.group(1)),\n",
    "            ap=int(match.group(2)),\n",
    "        )\n",
    "        data_dict[file] = item"
   ]
  },
  {
   "cell_type": "code",
   "execution_count": 21,
   "metadata": {},
   "outputs": [],
   "source": [
    "q1_pred = filter_files(\"y_1\", \".csv\", os.listdir(\"./q1/results/\"))\n",
    "df_q1_pred_dict = {f: pd.read_csv(f\"./q1/results/{f}\") for f in q1_pred}"
   ]
  },
  {
   "cell_type": "code",
   "execution_count": 22,
   "metadata": {},
   "outputs": [],
   "source": [
    "q2_pred = filter_files(\"y_2\", \".csv\", os.listdir(\"./q2/results/\"))\n",
    "df_q2_pred_dict = {f: pd.read_csv(f\"./q2/results/{f}\") for f in q2_pred}"
   ]
  },
  {
   "cell_type": "code",
   "execution_count": 23,
   "metadata": {},
   "outputs": [],
   "source": [
    "q3_pred = filter_files(\"y_1\", \".csv\", os.listdir(\"./q3/results/\"))\n",
    "df_q3_pred_dict = {f: pd.read_csv(f\"./q3/results/{f}\") for f in q3_pred}"
   ]
  },
  {
   "cell_type": "code",
   "execution_count": 24,
   "metadata": {},
   "outputs": [],
   "source": [
    "# ['test_set_2_2ap.csv',\n",
    "#  'test_set_1_3ap.csv',\n",
    "#  'test_set_2_3ap.csv',\n",
    "#  'test_set_1_2ap.csv']"
   ]
  },
  {
   "cell_type": "code",
   "execution_count": 25,
   "metadata": {},
   "outputs": [
    {
     "data": {
      "text/plain": [
       "{'y_1_3ap_test_pred.csv':       seq_time\n",
       " 0    25.487962\n",
       " 1    40.731501\n",
       " 2    41.299140\n",
       " 3    32.355554\n",
       " 4    36.852595\n",
       " ..         ...\n",
       " 100  19.963448\n",
       " 101  17.239413\n",
       " 102  20.622665\n",
       " 103  23.042954\n",
       " 104  24.276940\n",
       " \n",
       " [105 rows x 1 columns],\n",
       " 'y_1_2ap_test_pred.csv':      seq_time\n",
       " 0   46.818991\n",
       " 1   48.061628\n",
       " 2   48.906269\n",
       " 3   50.144725\n",
       " 4   48.383384\n",
       " ..        ...\n",
       " 75  26.648716\n",
       " 76  29.103638\n",
       " 77  29.293620\n",
       " 78  31.461882\n",
       " 79  28.618666\n",
       " \n",
       " [80 rows x 1 columns]}"
      ]
     },
     "execution_count": 25,
     "metadata": {},
     "output_type": "execute_result"
    }
   ],
   "source": [
    "df_q1_pred_dict"
   ]
  },
  {
   "cell_type": "code",
   "execution_count": 26,
   "metadata": {},
   "outputs": [],
   "source": [
    "(\n",
    "    data_dict[\"test_set_1_2ap.csv\"][\"df\"][\"seq_time\"],\n",
    "    data_dict[\"test_set_1_3ap.csv\"][\"df\"][\"seq_time\"],\n",
    ") = (\n",
    "    df_q1_pred_dict[\"y_1_2ap_test_pred.csv\"][\"seq_time\"],\n",
    "    df_q1_pred_dict[\"y_1_3ap_test_pred.csv\"][\"seq_time\"],\n",
    ")"
   ]
  },
  {
   "cell_type": "code",
   "execution_count": 27,
   "metadata": {},
   "outputs": [
    {
     "data": {
      "text/plain": [
       "{'y_2_3ap_test_pred.csv':     mcs  nss\n",
       " 0     4    2\n",
       " 1     4    2\n",
       " 2    11    2\n",
       " 3     4    2\n",
       " 4    10    2\n",
       " ..  ...  ...\n",
       " 82   11    2\n",
       " 83   11    2\n",
       " 84   11    2\n",
       " 85   11    2\n",
       " 86   11    2\n",
       " \n",
       " [87 rows x 2 columns],\n",
       " 'y_2_2ap_test_pred.csv':     mcs  nss\n",
       " 0     5    2\n",
       " 1     4    2\n",
       " 2     5    2\n",
       " 3     3    2\n",
       " 4     4    2\n",
       " ..  ...  ...\n",
       " 59   11    2\n",
       " 60   11    2\n",
       " 61   11    2\n",
       " 62   11    2\n",
       " 63   11    2\n",
       " \n",
       " [64 rows x 2 columns]}"
      ]
     },
     "execution_count": 27,
     "metadata": {},
     "output_type": "execute_result"
    }
   ],
   "source": [
    "df_q2_pred_dict"
   ]
  },
  {
   "cell_type": "code",
   "execution_count": 28,
   "metadata": {},
   "outputs": [],
   "source": [
    "# mcs nss\n",
    "(\n",
    "    data_dict[\"test_set_2_2ap.csv\"][\"df\"][\"mcs\"],\n",
    "    data_dict[\"test_set_2_2ap.csv\"][\"df\"][\"nss\"],\n",
    "    data_dict[\"test_set_2_3ap.csv\"][\"df\"][\"mcs\"],\n",
    "    data_dict[\"test_set_2_3ap.csv\"][\"df\"][\"nss\"],\n",
    ") = (\n",
    "    df_q2_pred_dict[\"y_2_2ap_test_pred.csv\"][\"mcs\"],\n",
    "    df_q2_pred_dict[\"y_2_2ap_test_pred.csv\"][\"nss\"],\n",
    "    df_q2_pred_dict[\"y_2_3ap_test_pred.csv\"][\"mcs\"],\n",
    "    df_q2_pred_dict[\"y_2_3ap_test_pred.csv\"][\"nss\"],\n",
    ")"
   ]
  },
  {
   "cell_type": "code",
   "execution_count": 29,
   "metadata": {},
   "outputs": [
    {
     "data": {
      "text/plain": [
       "{'y_1_3ap_test_pred.csv':      throughput\n",
       " 0     34.727810\n",
       " 1     56.660491\n",
       " 2     51.769286\n",
       " 3     39.845886\n",
       " 4     54.001150\n",
       " ..          ...\n",
       " 100   59.645414\n",
       " 101   63.341597\n",
       " 102   44.356317\n",
       " 103   56.675614\n",
       " 104   68.763904\n",
       " \n",
       " [105 rows x 1 columns],\n",
       " 'y_1_2ap_test_pred.csv':     throughput\n",
       " 0     132.0354\n",
       " 1     121.2320\n",
       " 2     152.3528\n",
       " 3     142.4401\n",
       " 4     133.8751\n",
       " ..         ...\n",
       " 75     92.2954\n",
       " 76    117.2054\n",
       " 77    111.9173\n",
       " 78    138.4416\n",
       " 79    125.3577\n",
       " \n",
       " [80 rows x 1 columns]}"
      ]
     },
     "execution_count": 29,
     "metadata": {},
     "output_type": "execute_result"
    }
   ],
   "source": [
    "df_q3_pred_dict"
   ]
  },
  {
   "cell_type": "code",
   "execution_count": 30,
   "metadata": {},
   "outputs": [],
   "source": [
    "# throughput\n",
    "(\n",
    "    data_dict[\"test_set_1_2ap.csv\"][\"df\"][\"throughput\"],\n",
    "    data_dict[\"test_set_1_3ap.csv\"][\"df\"][\"throughput\"],\n",
    ") = (\n",
    "    df_q3_pred_dict[\"y_1_2ap_test_pred.csv\"][\"throughput\"],\n",
    "    df_q3_pred_dict[\"y_1_3ap_test_pred.csv\"][\"throughput\"],\n",
    ")"
   ]
  },
  {
   "cell_type": "code",
   "execution_count": 31,
   "metadata": {},
   "outputs": [],
   "source": [
    "# save the results\n",
    "for file, item in data_dict.items():\n",
    "    item[\"df\"].to_csv(f\"./answer/{file}\", index=False)"
   ]
  }
 ],
 "metadata": {
  "kernelspec": {
   "display_name": "base",
   "language": "python",
   "name": "python3"
  },
  "language_info": {
   "codemirror_mode": {
    "name": "ipython",
    "version": 3
   },
   "file_extension": ".py",
   "mimetype": "text/x-python",
   "name": "python",
   "nbconvert_exporter": "python",
   "pygments_lexer": "ipython3",
   "version": "3.11.5"
  }
 },
 "nbformat": 4,
 "nbformat_minor": 2
}
