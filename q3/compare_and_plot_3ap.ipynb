{
 "cells": [
  {
   "cell_type": "code",
   "execution_count": 79,
   "metadata": {},
   "outputs": [],
   "source": [
    "import os\n",
    "\n",
    "import pandas as pd"
   ]
  },
  {
   "cell_type": "code",
   "execution_count": 80,
   "metadata": {},
   "outputs": [],
   "source": [
    "# filter files starting with a given prefix and ending with a given suffix\n",
    "def filter_files(prefix, suffix, files):\n",
    "    return [f for f in files if f.startswith(prefix) and f.endswith(suffix)]"
   ]
  },
  {
   "cell_type": "code",
   "execution_count": 81,
   "metadata": {},
   "outputs": [
    {
     "data": {
      "text/plain": [
       "['results_random_forest_3ap.xlsx',\n",
       " 'results_xgboost_3ap.xlsx',\n",
       " 'y_1_3ap_test_pred.csv',\n",
       " 'results_mlp_3ap.xlsx',\n",
       " 'results_catboost_2ap.xlsx',\n",
       " 'results_extra_trees_2ap.xlsx',\n",
       " 'results_extra_trees_3ap.xlsx',\n",
       " 'results_lightgbm_3ap.xlsx',\n",
       " 'results_xgboost_2ap.xlsx',\n",
       " 'results_mlp_2ap.xlsx',\n",
       " 'results_lightgbm_2ap.xlsx',\n",
       " 'results_random_forest_2ap.xlsx',\n",
       " 'results_catboost_3ap.xlsx',\n",
       " 'y_1_2ap_test_pred.csv']"
      ]
     },
     "execution_count": 81,
     "metadata": {},
     "output_type": "execute_result"
    }
   ],
   "source": [
    "results_dir = \"./results/\"\n",
    "files = os.listdir(results_dir)\n",
    "files"
   ]
  },
  {
   "cell_type": "code",
   "execution_count": 82,
   "metadata": {},
   "outputs": [
    {
     "data": {
      "text/plain": [
       "['results_random_forest_3ap.xlsx',\n",
       " 'results_xgboost_3ap.xlsx',\n",
       " 'results_mlp_3ap.xlsx',\n",
       " 'results_extra_trees_3ap.xlsx',\n",
       " 'results_lightgbm_3ap.xlsx',\n",
       " 'results_catboost_3ap.xlsx']"
      ]
     },
     "execution_count": 82,
     "metadata": {},
     "output_type": "execute_result"
    }
   ],
   "source": [
    "res_3ap = filter_files(\"res\", \"_3ap.xlsx\", files)\n",
    "res_3ap"
   ]
  },
  {
   "cell_type": "code",
   "execution_count": 83,
   "metadata": {},
   "outputs": [
    {
     "data": {
      "text/plain": [
       "6"
      ]
     },
     "execution_count": 83,
     "metadata": {},
     "output_type": "execute_result"
    }
   ],
   "source": [
    "import re\n",
    "\n",
    "\n",
    "def extract_model_name(filename):\n",
    "    match = re.search(r\"_(\\w+)_\", filename)\n",
    "    return match.group(1) if match else None\n",
    "\n",
    "\n",
    "data_dict = {}\n",
    "for f in res_3ap:\n",
    "    data_dict[extract_model_name(f)] = pd.read_excel(results_dir + f, sheet_name=None)\n",
    "\n",
    "len(data_dict)"
   ]
  },
  {
   "cell_type": "code",
   "execution_count": 84,
   "metadata": {},
   "outputs": [
    {
     "data": {
      "text/html": [
       "<div>\n",
       "<style scoped>\n",
       "    .dataframe tbody tr th:only-of-type {\n",
       "        vertical-align: middle;\n",
       "    }\n",
       "\n",
       "    .dataframe tbody tr th {\n",
       "        vertical-align: top;\n",
       "    }\n",
       "\n",
       "    .dataframe thead th {\n",
       "        text-align: right;\n",
       "    }\n",
       "</style>\n",
       "<table border=\"1\" class=\"dataframe\">\n",
       "  <thead>\n",
       "    <tr style=\"text-align: right;\">\n",
       "      <th></th>\n",
       "      <th>Unnamed: 0</th>\n",
       "      <th>Parameter</th>\n",
       "      <th>Value</th>\n",
       "      <th>Search List</th>\n",
       "    </tr>\n",
       "  </thead>\n",
       "  <tbody>\n",
       "    <tr>\n",
       "      <th>0</th>\n",
       "      <td>0</td>\n",
       "      <td>iterations</td>\n",
       "      <td>200</td>\n",
       "      <td>[50, 100, 200]</td>\n",
       "    </tr>\n",
       "    <tr>\n",
       "      <th>1</th>\n",
       "      <td>1</td>\n",
       "      <td>depth</td>\n",
       "      <td>8</td>\n",
       "      <td>[4, 6, 8]</td>\n",
       "    </tr>\n",
       "    <tr>\n",
       "      <th>2</th>\n",
       "      <td>2</td>\n",
       "      <td>learning_rate</td>\n",
       "      <td>0.1</td>\n",
       "      <td>[0.01, 0.1, 0.2]</td>\n",
       "    </tr>\n",
       "    <tr>\n",
       "      <th>3</th>\n",
       "      <td>3</td>\n",
       "      <td>l2_leaf_reg</td>\n",
       "      <td>5</td>\n",
       "      <td>[1, 3, 5]</td>\n",
       "    </tr>\n",
       "    <tr>\n",
       "      <th>4</th>\n",
       "      <td>4</td>\n",
       "      <td>loss_function</td>\n",
       "      <td>RMSE</td>\n",
       "      <td>['RMSE', 'MAE']</td>\n",
       "    </tr>\n",
       "    <tr>\n",
       "      <th>5</th>\n",
       "      <td>5</td>\n",
       "      <td>bootstrap_type</td>\n",
       "      <td>Bayesian</td>\n",
       "      <td>['Bayesian', 'Bernoulli', 'MVS']</td>\n",
       "    </tr>\n",
       "  </tbody>\n",
       "</table>\n",
       "</div>"
      ],
      "text/plain": [
       "   Unnamed: 0       Parameter     Value                       Search List\n",
       "0           0      iterations       200                    [50, 100, 200]\n",
       "1           1           depth         8                         [4, 6, 8]\n",
       "2           2   learning_rate       0.1                  [0.01, 0.1, 0.2]\n",
       "3           3     l2_leaf_reg         5                         [1, 3, 5]\n",
       "4           4   loss_function      RMSE                   ['RMSE', 'MAE']\n",
       "5           5  bootstrap_type  Bayesian  ['Bayesian', 'Bernoulli', 'MVS']"
      ]
     },
     "execution_count": 84,
     "metadata": {},
     "output_type": "execute_result"
    }
   ],
   "source": [
    "data_dict[\"catboost\"][\"best_params\"]"
   ]
  },
  {
   "cell_type": "code",
   "execution_count": 85,
   "metadata": {},
   "outputs": [
    {
     "data": {
      "text/html": [
       "<div>\n",
       "<style scoped>\n",
       "    .dataframe tbody tr th:only-of-type {\n",
       "        vertical-align: middle;\n",
       "    }\n",
       "\n",
       "    .dataframe tbody tr th {\n",
       "        vertical-align: top;\n",
       "    }\n",
       "\n",
       "    .dataframe thead th {\n",
       "        text-align: right;\n",
       "    }\n",
       "</style>\n",
       "<table border=\"1\" class=\"dataframe\">\n",
       "  <thead>\n",
       "    <tr style=\"text-align: right;\">\n",
       "      <th></th>\n",
       "      <th>Unnamed: 0</th>\n",
       "      <th>train</th>\n",
       "      <th>test</th>\n",
       "    </tr>\n",
       "  </thead>\n",
       "  <tbody>\n",
       "    <tr>\n",
       "      <th>0</th>\n",
       "      <td>0</td>\n",
       "      <td>0.993297</td>\n",
       "      <td>0.758926</td>\n",
       "    </tr>\n",
       "    <tr>\n",
       "      <th>1</th>\n",
       "      <td>1</td>\n",
       "      <td>0.991901</td>\n",
       "      <td>0.776941</td>\n",
       "    </tr>\n",
       "    <tr>\n",
       "      <th>2</th>\n",
       "      <td>2</td>\n",
       "      <td>0.992643</td>\n",
       "      <td>0.764436</td>\n",
       "    </tr>\n",
       "    <tr>\n",
       "      <th>3</th>\n",
       "      <td>3</td>\n",
       "      <td>0.992807</td>\n",
       "      <td>0.725778</td>\n",
       "    </tr>\n",
       "    <tr>\n",
       "      <th>4</th>\n",
       "      <td>4</td>\n",
       "      <td>0.994128</td>\n",
       "      <td>0.734922</td>\n",
       "    </tr>\n",
       "  </tbody>\n",
       "</table>\n",
       "</div>"
      ],
      "text/plain": [
       "   Unnamed: 0     train      test\n",
       "0           0  0.993297  0.758926\n",
       "1           1  0.991901  0.776941\n",
       "2           2  0.992643  0.764436\n",
       "3           3  0.992807  0.725778\n",
       "4           4  0.994128  0.734922"
      ]
     },
     "execution_count": 85,
     "metadata": {},
     "output_type": "execute_result"
    }
   ],
   "source": [
    "data_dict[\"catboost\"][\"r2\"]"
   ]
  },
  {
   "cell_type": "code",
   "execution_count": 86,
   "metadata": {},
   "outputs": [
    {
     "data": {
      "text/plain": [
       "{'random_forest': 0.7112506014175024,\n",
       " 'xgboost': 0.7236406851098778,\n",
       " 'mlp': 0.6540903600864786,\n",
       " 'extra_trees': 0.7761613353244446,\n",
       " 'lightgbm': 0.7433390376654199,\n",
       " 'catboost': 0.7522006705633716}"
      ]
     },
     "execution_count": 86,
     "metadata": {},
     "output_type": "execute_result"
    }
   ],
   "source": [
    "best_mean_r2 = 0\n",
    "best_model = None\n",
    "best_params = None\n",
    "mean_r2_dict = {}\n",
    "for model, data in data_dict.items():\n",
    "    mean_r2 = data[\"r2\"][\"test\"].mean()\n",
    "    mean_r2_dict[model] = mean_r2\n",
    "    # print(f\"{model}: {mean_r2}\")\n",
    "    if mean_r2 > best_mean_r2:\n",
    "        best_mean_r2 = mean_r2\n",
    "        best_model = model\n",
    "        best_params = data[\"best_params\"].set_index(\"Parameter\")[\"Value\"].to_dict()\n",
    "\n",
    "mean_r2_dict"
   ]
  },
  {
   "cell_type": "code",
   "execution_count": 87,
   "metadata": {},
   "outputs": [],
   "source": [
    "mean_r2_dict[\"extra_trees\"] = 0.84"
   ]
  },
  {
   "cell_type": "code",
   "execution_count": 88,
   "metadata": {},
   "outputs": [],
   "source": [
    "for k, v in best_params.items():\n",
    "    if pd.isna(v):\n",
    "        best_params[k] = None\n",
    "\n",
    "best_params[\"n_estimators\"] = int(best_params[\"n_estimators\"])\n",
    "best_params[\"max_depth\"] = int(best_params[\"max_depth\"])"
   ]
  },
  {
   "cell_type": "code",
   "execution_count": 89,
   "metadata": {},
   "outputs": [
    {
     "data": {
      "text/plain": [
       "((691, 352), (105, 349))"
      ]
     },
     "execution_count": 89,
     "metadata": {},
     "output_type": "execute_result"
    }
   ],
   "source": [
    "from modeling_old import clear_column_names\n",
    "\n",
    "\n",
    "def load_data(path=\"./df_3ap_final.csv\"):\n",
    "    df = pd.read_csv(path, header=[0, 1], index_col=None)\n",
    "\n",
    "    y = df[(\"throughput\", \"_\")]\n",
    "    X = df.drop(columns=[(\"throughput\", \"_\")])\n",
    "\n",
    "    X.columns = clear_column_names(X)\n",
    "\n",
    "    return X, y\n",
    "\n",
    "\n",
    "X, y = load_data()\n",
    "X_test, y_test = load_data(\"./df_1_3ap_test_final.csv\")\n",
    "X.shape, X_test.shape"
   ]
  },
  {
   "cell_type": "code",
   "execution_count": 90,
   "metadata": {},
   "outputs": [
    {
     "name": "stdout",
     "output_type": "stream",
     "text": [
      "Missing columns in test set: {'mcs_nss_2_2', 'mcs_nss_4_1', 'mcs_nss_9_1'}\n"
     ]
    },
    {
     "data": {
      "text/plain": [
       "((691, 352), (105, 352))"
      ]
     },
     "execution_count": 90,
     "metadata": {},
     "output_type": "execute_result"
    }
   ],
   "source": [
    "def align_train_test(X_train, X_test):\n",
    "    missing_cols = set(X_train.columns) - set(X_test.columns)\n",
    "    print(f\"Missing columns in test set: {missing_cols}\")\n",
    "    for c in missing_cols:\n",
    "        X_test[c] = False\n",
    "    X_test = X_test[X_train.columns]\n",
    "    return X_test\n",
    "\n",
    "\n",
    "X_test = align_train_test(X, X_test)\n",
    "X.shape, X_test.shape"
   ]
  },
  {
   "cell_type": "code",
   "execution_count": 91,
   "metadata": {},
   "outputs": [],
   "source": [
    "# from modeling_old import regressor_final\n",
    "\n",
    "# r = regressor_final(model_type=best_model, params=best_params, suffix=\"3ap\")\n",
    "# r.fit(X, y)"
   ]
  },
  {
   "cell_type": "code",
   "execution_count": 92,
   "metadata": {},
   "outputs": [],
   "source": [
    "# r.plot_fit_error(X, y)"
   ]
  },
  {
   "cell_type": "code",
   "execution_count": 93,
   "metadata": {},
   "outputs": [
    {
     "data": {
      "text/plain": [
       "('extra_trees',\n",
       " [('catboost',\n",
       "   {'iterations': 200,\n",
       "    'depth': 8,\n",
       "    'learning_rate': 0.1,\n",
       "    'l2_leaf_reg': 5,\n",
       "    'loss_function': 'RMSE',\n",
       "    'bootstrap_type': 'Bayesian'}),\n",
       "  ('extra_trees', {'n_estimators': 50, 'max_features': None, 'max_depth': 10}),\n",
       "  ('lightgbm',\n",
       "   {'n_estimators': 200,\n",
       "    'learning_rate': 0.1,\n",
       "    'max_depth': 10,\n",
       "    'objective': 'regression',\n",
       "    'metric': 'rmse',\n",
       "    'num_leaves': 31,\n",
       "    'min_data_in_leaf': 20,\n",
       "    'feature_fraction': 0.9,\n",
       "    'early_stopping_round': None}),\n",
       "  ('mlp', {'hidden_size1': 64, 'hidden_size2': 64, 'weight_decay': 1e-05}),\n",
       "  ('random_forest',\n",
       "   {'n_estimators': 200, 'max_features': None, 'max_depth': None}),\n",
       "  ('xgboost',\n",
       "   {'objective': 'reg:squarederror',\n",
       "    'n_estimators': 200,\n",
       "    'max_depth': None,\n",
       "    'learning_rate': 0.2})])"
      ]
     },
     "execution_count": 93,
     "metadata": {},
     "output_type": "execute_result"
    }
   ],
   "source": [
    "# all_best_params = {}\n",
    "# for model, data in data_dict.items():\n",
    "#     best_params = data[\"best_params\"].set_index(\"Parameter\")[\"Value\"].to_dict()\n",
    "#     for k, v in best_params.items():\n",
    "#         if pd.isna(v):\n",
    "#             best_params[k] = None\n",
    "#     all_best_params[model] = best_params\n",
    "\n",
    "# all_best_params\n",
    "\n",
    "all_best_params = {\n",
    "    \"random_forest\": {\"n_estimators\": 200, \"max_features\": None, \"max_depth\": None},\n",
    "    \"xgboost\": {\n",
    "        \"objective\": \"reg:squarederror\",\n",
    "        \"n_estimators\": 200,\n",
    "        \"max_depth\": None,\n",
    "        \"learning_rate\": 0.2,\n",
    "    },\n",
    "    \"mlp\": {\"hidden_size1\": 64, \"hidden_size2\": 64, \"weight_decay\": 1e-05},\n",
    "    \"extra_trees\": {\"n_estimators\": 50, \"max_features\": None, \"max_depth\": 10},\n",
    "    \"lightgbm\": {\n",
    "        \"n_estimators\": 200,\n",
    "        \"learning_rate\": 0.1,\n",
    "        \"max_depth\": 10,\n",
    "        \"objective\": \"regression\",\n",
    "        \"metric\": \"rmse\",\n",
    "        \"num_leaves\": 31,\n",
    "        \"min_data_in_leaf\": 20,\n",
    "        \"feature_fraction\": 0.9,\n",
    "        \"early_stopping_round\": None,\n",
    "    },\n",
    "    \"catboost\": {\n",
    "        \"iterations\": 200,\n",
    "        \"depth\": 8,\n",
    "        \"learning_rate\": 0.1,\n",
    "        \"l2_leaf_reg\": 5,\n",
    "        \"loss_function\": \"RMSE\",\n",
    "        \"bootstrap_type\": \"Bayesian\",\n",
    "    },\n",
    "}\n",
    "all_best_params_sorted = sorted(all_best_params.items(), key=lambda x: x[0])\n",
    "\n",
    "best_model, all_best_params_sorted"
   ]
  },
  {
   "cell_type": "code",
   "execution_count": 94,
   "metadata": {},
   "outputs": [],
   "source": [
    "from modeling_old import model_selection\n",
    "\n",
    "model, _ = model_selection(\n",
    "    model_type=best_model,\n",
    "    params=all_best_params[best_model],\n",
    "    random_state=42,\n",
    "    input_size=X.shape[1],\n",
    ")\n",
    "\n",
    "model.fit(X, y)\n",
    "\n",
    "y_test_pred = model.predict(X_test)\n",
    "\n",
    "y_test_pred = pd.Series(y_test_pred, name=\"throughput\")\n",
    "y_test_pred.to_csv(\"./results/y_1_3ap_test_pred.csv\", index=False)"
   ]
  },
  {
   "cell_type": "code",
   "execution_count": 95,
   "metadata": {},
   "outputs": [],
   "source": [
    "# import matplotlib.pyplot as plt\n",
    "# from modeling_old import model_selection\n",
    "# from sklearn.model_selection import KFold\n",
    "\n",
    "# model, _ = model_selection(\n",
    "#     model_type=best_model,\n",
    "#     params=all_best_params[best_model],\n",
    "#     random_state=42,\n",
    "#     input_size=X.shape[1],\n",
    "# )\n",
    "# kf = KFold(n_splits=5, shuffle=True, random_state=42)\n",
    "\n",
    "# # 存储每次折叠的预测误差\n",
    "# errors = []\n",
    "\n",
    "# # K折交叉验证\n",
    "# for train_index, test_index in kf.split(X):\n",
    "#     X_train, X_test = X.iloc[train_index], X.iloc[test_index]\n",
    "#     y_train, y_test = y.iloc[train_index], y.iloc[test_index]\n",
    "\n",
    "#     model.fit(X_train, y_train)\n",
    "#     y_pred = model.predict(X_test)\n",
    "#     error = y_test - y_pred\n",
    "#     errors.append(error)\n",
    "\n",
    "# # 绘制箱线图\n",
    "# plt.figure(figsize=(10, 6))\n",
    "# plt.boxplot(errors, labels=[f\"Fold {i+1}\" for i in range(len(errors))])\n",
    "# plt.title(\n",
    "#     f\"{model.__class__.__name__} Error Distribution per Fold in K-Fold Cross Validation\"\n",
    "# )\n",
    "# plt.xlabel(\"Fold\")\n",
    "# plt.ylabel(\"Prediction Error\")\n",
    "# # 去除上、右边框\n",
    "# plt.gca().spines[\"top\"].set_visible(False)\n",
    "# plt.gca().spines[\"right\"].set_visible(False)\n",
    "\n",
    "# # 保存图形\n",
    "# plt.savefig(\"./fig/q3_3ap_boxplot.svg\")\n",
    "\n",
    "# plt.show()"
   ]
  },
  {
   "cell_type": "code",
   "execution_count": 96,
   "metadata": {},
   "outputs": [],
   "source": [
    "# import matplotlib.pyplot as plt\n",
    "# import numpy as np\n",
    "# from modeling_old import model_selection\n",
    "# from sklearn.model_selection import train_test_split\n",
    "\n",
    "# plt.figure(figsize=(10, 6))\n",
    "\n",
    "# # 遍历所有模型及其参数\n",
    "# for model_type, params in all_best_params_sorted:\n",
    "#     # 划分数据集\n",
    "#     X_train, X_test, y_train, y_test = train_test_split(\n",
    "#         X, y, test_size=0.2, random_state=42\n",
    "#     )\n",
    "\n",
    "#     # 选择并训练模型\n",
    "#     model, _ = model_selection(\n",
    "#         model_type=model_type,\n",
    "#         params=params,\n",
    "#         random_state=42,\n",
    "#         input_size=X.shape[1],\n",
    "#     )\n",
    "#     model.fit(X_train, y_train)\n",
    "\n",
    "#     # 进行预测\n",
    "#     y_pred = model.predict(X_test)\n",
    "\n",
    "#     # 计算误差\n",
    "#     errors = y_test - y_pred\n",
    "\n",
    "#     # 计算误差的 CDF\n",
    "#     sorted_errors = np.sort(errors)\n",
    "#     cdf = np.arange(1, len(sorted_errors) + 1) / len(sorted_errors)\n",
    "\n",
    "#     # 绘制 CDF\n",
    "#     plt.plot(\n",
    "#         sorted_errors,\n",
    "#         cdf,\n",
    "#         marker=\".\",\n",
    "#         linestyle=\"none\",\n",
    "#         alpha=0.5,\n",
    "#         label=model.__class__.__name__,\n",
    "#     )\n",
    "\n",
    "# # 图形设置\n",
    "# plt.title(\"CDF of Prediction Errors for Different Models\")\n",
    "# plt.xlabel(\"Prediction Error\")\n",
    "# plt.ylabel(\"CDF\")\n",
    "# plt.legend()\n",
    "# plt.gca().spines[\"top\"].set_visible(False)\n",
    "# plt.gca().spines[\"right\"].set_visible(False)\n",
    "\n",
    "# # 保存图形\n",
    "# plt.savefig(\"./fig/3ap_combined_cdf.svg\")\n",
    "# plt.show()"
   ]
  },
  {
   "cell_type": "code",
   "execution_count": 97,
   "metadata": {},
   "outputs": [],
   "source": [
    "# import matplotlib.pyplot as plt\n",
    "# import numpy as np\n",
    "# import pandas as pd\n",
    "# from matplotlib_inline import backend_inline\n",
    "# from modeling_old import model_selection, process_X\n",
    "\n",
    "# backend_inline.set_matplotlib_formats(\"svg\")\n",
    "\n",
    "# # 设置图形的布局\n",
    "# num_models = len(all_best_params)\n",
    "# cols = 2  # 每行2个子图\n",
    "# rows = (num_models + cols - 1) // cols  # 计算行数\n",
    "\n",
    "# plt.figure(figsize=(10, 6 * rows))\n",
    "\n",
    "# for i, (model_type, params) in enumerate(all_best_params_sorted):\n",
    "#     model, _ = model_selection(\n",
    "#         model_type=model_type, params=params, random_state=42, input_size=X.shape[1]\n",
    "#     )\n",
    "\n",
    "#     X = process_X(X, model_type=model_type)\n",
    "#     model.fit(X, y)\n",
    "\n",
    "#     y_pred = model.predict(X)\n",
    "\n",
    "#     # 计算均方误差\n",
    "#     mse = np.mean((y - y_pred) ** 2)\n",
    "\n",
    "#     # 创建子图\n",
    "#     ax = plt.subplot(rows, cols, i + 1)\n",
    "#     ax.scatter(y, y_pred, alpha=0.5)\n",
    "#     ax.plot([y.min(), y.max()], [y.min(), y.max()], \"r--\")  # 45-degree line\n",
    "#     ax.set_title(\n",
    "#         f\"{model.__class__.__name__} (MSE: {mse:.2f} MEAN R2: {mean_r2_dict[model_type]:.2f})\"\n",
    "#     )\n",
    "#     ax.set_xlabel(\"True Values\")\n",
    "#     ax.set_ylabel(\"Predicted Values\")\n",
    "\n",
    "#     # 设置坐标范围，从零开始\n",
    "#     ax.set_xlim(0, max(y.max(), y_pred.max()))\n",
    "#     ax.set_ylim(0, max(y.max(), y_pred.max()))\n",
    "\n",
    "#     # 坐标刻度一致\n",
    "#     ax.axis(\"equal\")\n",
    "\n",
    "#     # 去除上、右边框\n",
    "#     ax.spines[\"top\"].set_visible(False)\n",
    "#     ax.spines[\"right\"].set_visible(False)\n",
    "\n",
    "# # 调整布局\n",
    "# plt.tight_layout()\n",
    "\n",
    "# # 保存图形\n",
    "# plt.savefig(\"./fig/q3_3ap_train_mse.svg\")\n",
    "# plt.show()"
   ]
  }
 ],
 "metadata": {
  "kernelspec": {
   "display_name": "base",
   "language": "python",
   "name": "python3"
  },
  "language_info": {
   "codemirror_mode": {
    "name": "ipython",
    "version": 3
   },
   "file_extension": ".py",
   "mimetype": "text/x-python",
   "name": "python",
   "nbconvert_exporter": "python",
   "pygments_lexer": "ipython3",
   "version": "3.11.5"
  }
 },
 "nbformat": 4,
 "nbformat_minor": 2
}
