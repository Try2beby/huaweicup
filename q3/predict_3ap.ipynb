{
 "cells": [
  {
   "cell_type": "code",
   "execution_count": 9,
   "metadata": {},
   "outputs": [],
   "source": [
    "import pandas as pd\n",
    "from modeling_old import clear_column_names, regressor"
   ]
  },
  {
   "cell_type": "code",
   "execution_count": 10,
   "metadata": {},
   "outputs": [],
   "source": [
    "def load_data(path=\"./df_3ap_final.csv\"):\n",
    "    df = pd.read_csv(path, header=[0, 1], index_col=None)\n",
    "\n",
    "    y = df[(\"throughput\", \"_\")]\n",
    "    X = df.drop(columns=[(\"throughput\", \"_\")])\n",
    "\n",
    "    X.columns = clear_column_names(X)\n",
    "\n",
    "    return X, y"
   ]
  },
  {
   "cell_type": "code",
   "execution_count": 11,
   "metadata": {},
   "outputs": [
    {
     "data": {
      "text/plain": [
       "((691, 352), (105, 349))"
      ]
     },
     "execution_count": 11,
     "metadata": {},
     "output_type": "execute_result"
    }
   ],
   "source": [
    "X, y = load_data()\n",
    "X_test, y_test = load_data(\"./df_1_3ap_test_final.csv\")\n",
    "X.shape, X_test.shape"
   ]
  },
  {
   "cell_type": "code",
   "execution_count": 12,
   "metadata": {},
   "outputs": [
    {
     "name": "stdout",
     "output_type": "stream",
     "text": [
      "Missing columns in test set: {'mcs_nss_4_1', 'mcs_nss_9_1', 'mcs_nss_2_2'}\n"
     ]
    },
    {
     "data": {
      "text/plain": [
       "((691, 352), (105, 352))"
      ]
     },
     "execution_count": 12,
     "metadata": {},
     "output_type": "execute_result"
    }
   ],
   "source": [
    "def align_train_test(X_train, X_test):\n",
    "    missing_cols = set(X_train.columns) - set(X_test.columns)\n",
    "    print(f\"Missing columns in test set: {missing_cols}\")\n",
    "    for c in missing_cols:\n",
    "        X_test[c] = False\n",
    "    X_test = X_test[X_train.columns]\n",
    "    return X_test\n",
    "\n",
    "\n",
    "X_test = align_train_test(X, X_test)\n",
    "X.shape, X_test.shape"
   ]
  },
  {
   "cell_type": "code",
   "execution_count": 13,
   "metadata": {},
   "outputs": [
    {
     "data": {
      "text/plain": [
       "0     NaN\n",
       "1     NaN\n",
       "2     NaN\n",
       "3     NaN\n",
       "4     NaN\n",
       "       ..\n",
       "100   NaN\n",
       "101   NaN\n",
       "102   NaN\n",
       "103   NaN\n",
       "104   NaN\n",
       "Name: (throughput, _), Length: 105, dtype: float64"
      ]
     },
     "execution_count": 13,
     "metadata": {},
     "output_type": "execute_result"
    }
   ],
   "source": [
    "y_test"
   ]
  },
  {
   "cell_type": "code",
   "execution_count": 14,
   "metadata": {},
   "outputs": [
    {
     "name": "stdout",
     "output_type": "stream",
     "text": [
      "\n",
      "Feature Importances:\n",
      "                                             Feature  Importance\n",
      "86        sta_to_ap_2_max_ant_rssi_in_nav_ed_percent    0.182993\n",
      "340                                     mcs_nss_11_2    0.049350\n",
      "46            sta_to_ap_1_max_ant_rssi_la_ed_percent    0.041655\n",
      "111                 sta_to_ap_2_mean_ant_rssi_median    0.035187\n",
      "189  sta_from_ap_1_max_ant_rssi_wavelet_coefficients    0.031624\n",
      "..                                               ...         ...\n",
      "198                 sta_from_ap_1_mean_ant_rssi_mean    0.000000\n",
      "199                  sta_from_ap_1_mean_ant_rssi_var    0.000000\n",
      "200             sta_from_ap_1_mean_ant_rssi_kurtosis    0.000000\n",
      "205              sta_from_ap_1_mean_ant_rssi_entropy    0.000000\n",
      "186   sta_from_ap_1_max_ant_rssi_approximate_entropy    0.000000\n",
      "\n",
      "[352 rows x 2 columns]\n",
      "{'mse': {'train': [213.2136344280594, 178.9522307287519, 167.7227687022988, 187.28973074701204, 183.63871253500207], 'test': [619.2022435828975, 732.5509585332553, 673.8268283637275, 760.4939019996989, 521.0468498577376]}, 'r2': {'train': [0.9063061859118455, 0.9187486152721694, 0.9234210732504974, 0.9145538380284997, 0.9213484232433473], 'test': [0.7020686835780421, 0.692932106030735, 0.7216633044883098, 0.6866166082025077, 0.7179584490873117]}}\n"
     ]
    },
    {
     "data": {
      "text/plain": [
       "{'shap_values':                                          Feature  SHAP Value  SHAP Sign\n",
       " 86    sta_to_ap_2_max_ant_rssi_in_nav_ed_percent    0.868919        1.0\n",
       " 45    sta_to_ap_1_max_ant_rssi_in_nav_ed_percent   -0.365517       -1.0\n",
       " 6                sta_to_ap_0_max_ant_rssi_length   -0.361500       -1.0\n",
       " 315        ap_from_ap_B_mean_rssi_le_nav_percent   -0.309879       -1.0\n",
       " 94                 sta_to_ap_2_max_ant_rssi_mean    0.155364        1.0\n",
       " ..                                           ...         ...        ...\n",
       " 240             sta_from_ap_2_mean_ant_rssi_mean    0.000000        0.0\n",
       " 239              sta_from_ap_2_mean_ant_rssi_iqr    0.000000        0.0\n",
       " 238            sta_from_ap_2_mean_ant_rssi_range    0.000000        0.0\n",
       " 237           sta_from_ap_2_mean_ant_rssi_median    0.000000        0.0\n",
       " 145  sta_from_ap_0_max_ant_rssi_grouping_entropy    0.000000        0.0\n",
       " \n",
       " [352 rows x 3 columns],\n",
       " 'feature_importances':                                              Feature  Importance\n",
       " 86        sta_to_ap_2_max_ant_rssi_in_nav_ed_percent    0.182993\n",
       " 340                                     mcs_nss_11_2    0.049350\n",
       " 46            sta_to_ap_1_max_ant_rssi_la_ed_percent    0.041655\n",
       " 111                 sta_to_ap_2_mean_ant_rssi_median    0.035187\n",
       " 189  sta_from_ap_1_max_ant_rssi_wavelet_coefficients    0.031624\n",
       " ..                                               ...         ...\n",
       " 198                 sta_from_ap_1_mean_ant_rssi_mean    0.000000\n",
       " 199                  sta_from_ap_1_mean_ant_rssi_var    0.000000\n",
       " 200             sta_from_ap_1_mean_ant_rssi_kurtosis    0.000000\n",
       " 205              sta_from_ap_1_mean_ant_rssi_entropy    0.000000\n",
       " 186   sta_from_ap_1_max_ant_rssi_approximate_entropy    0.000000\n",
       " \n",
       " [352 rows x 2 columns],\n",
       " 'mse':         train        test\n",
       " 0  213.213634  619.202244\n",
       " 1  178.952231  732.550959\n",
       " 2  167.722769  673.826828\n",
       " 3  187.289731  760.493902\n",
       " 4  183.638713  521.046850,\n",
       " 'r2':       train      test\n",
       " 0  0.906306  0.702069\n",
       " 1  0.918749  0.692932\n",
       " 2  0.923421  0.721663\n",
       " 3  0.914554  0.686617\n",
       " 4  0.921348  0.717958}"
      ]
     },
     "execution_count": 14,
     "metadata": {},
     "output_type": "execute_result"
    }
   ],
   "source": [
    "regressor(X, y, \"xgboost\")"
   ]
  },
  {
   "cell_type": "code",
   "execution_count": 15,
   "metadata": {},
   "outputs": [],
   "source": [
    "import xgboost as xgb\n",
    "\n",
    "model = xgb.XGBRegressor(\n",
    "    objective=\"reg:squarederror\",\n",
    "    n_estimators=100,\n",
    "    max_depth=3,\n",
    "    learning_rate=0.1,\n",
    "    random_state=42,\n",
    ")\n",
    "\n",
    "model.fit(X, y)\n",
    "y_test_pred = model.predict(X_test)"
   ]
  },
  {
   "cell_type": "code",
   "execution_count": 16,
   "metadata": {},
   "outputs": [],
   "source": [
    "# save predictions\n",
    "y_test_pred = pd.Series(y_test_pred, name=\"throughput\")\n",
    "y_test_pred.to_csv(\"./results/y_1_3ap_test_pred.csv\", index=False)"
   ]
  }
 ],
 "metadata": {
  "kernelspec": {
   "display_name": "base",
   "language": "python",
   "name": "python3"
  },
  "language_info": {
   "codemirror_mode": {
    "name": "ipython",
    "version": 3
   },
   "file_extension": ".py",
   "mimetype": "text/x-python",
   "name": "python",
   "nbconvert_exporter": "python",
   "pygments_lexer": "ipython3",
   "version": "3.11.5"
  }
 },
 "nbformat": 4,
 "nbformat_minor": 2
}
