{
 "cells": [
  {
   "cell_type": "code",
   "execution_count": 1,
   "metadata": {},
   "outputs": [],
   "source": [
    "import pandas as pd\n",
    "from modeling_old import clear_column_names, random_search"
   ]
  },
  {
   "cell_type": "code",
   "execution_count": 2,
   "metadata": {},
   "outputs": [],
   "source": [
    "def load_data(path=\"./df_2ap_final.csv\"):\n",
    "    df = pd.read_csv(path, header=[0, 1], index_col=None)\n",
    "\n",
    "    y = df[(\"throughput\", \"_\")]\n",
    "    X = df.drop(columns=[(\"throughput\", \"_\")])\n",
    "\n",
    "    X.columns = clear_column_names(X)\n",
    "\n",
    "    return X, y\n",
    "\n",
    "\n",
    "X, y = load_data(\"./df_3ap_final.csv\")"
   ]
  },
  {
   "cell_type": "code",
   "execution_count": 5,
   "metadata": {},
   "outputs": [],
   "source": [
    "model_types = dict(\n",
    "    # random_forest=dict(\n",
    "    #     n_estimators=[50, 100, 200],\n",
    "    #     max_features=[None, \"sqrt\", \"log2\"],\n",
    "    #     max_depth=[None, 10, 20],\n",
    "    # ),\n",
    "    extra_trees=dict(\n",
    "        n_estimators=[50, 100, 200],\n",
    "        max_features=[None, \"sqrt\", \"log2\"],\n",
    "        max_depth=[None, 10, 20],\n",
    "    ),\n",
    "    # xgboost=dict(\n",
    "    #     objective=\"reg:squarederror\",\n",
    "    #     n_estimators=[50, 100, 200],\n",
    "    #     max_depth=[None, 10, 20],\n",
    "    #     learning_rate=[0.01, 0.1, 0.2],\n",
    "    # ),\n",
    "    # lightgbm=dict(\n",
    "    #     n_estimators=[50, 100, 200],\n",
    "    #     learning_rate=[0.01, 0.1, 0.2],\n",
    "    #     max_depth=[None, 10, 20],\n",
    "    #     objective=\"regression\",\n",
    "    #     metric=\"rmse\",\n",
    "    #     num_leaves=31,\n",
    "    #     min_data_in_leaf=20,\n",
    "    #     feature_fraction=0.9,\n",
    "    #     early_stopping_round=10,\n",
    "    # ),\n",
    "    # catboost=dict(\n",
    "    #     iterations=[50, 100, 200],\n",
    "    #     depth=[4, 6, 8],\n",
    "    #     learning_rate=[0.01, 0.1, 0.2],\n",
    "    #     l2_leaf_reg=[1, 3, 5],\n",
    "    #     loss_function=[\"RMSE\", \"MAE\"],\n",
    "    #     bootstrap_type=[\"Bayesian\", \"Bernoulli\", \"MVS\"],\n",
    "    # ),\n",
    "    # mlp=dict(\n",
    "    #     hidden_size1=[64, 128, 256],\n",
    "    #     hidden_size2=[32, 64, 128],\n",
    "    #     weight_decay=[0.001, 0.0001, 1e-5],\n",
    "    # ),\n",
    ")"
   ]
  },
  {
   "cell_type": "code",
   "execution_count": null,
   "metadata": {},
   "outputs": [],
   "source": [
    "results = {}\n",
    "for k, v in model_types.items():\n",
    "    print(f\"Running {k}\")\n",
    "    res, _ = random_search(\n",
    "        param_dict=v, X=X, y=y, model_type=k, suffix=\"3ap\", n_trials=10\n",
    "    )\n",
    "    results[k] = res"
   ]
  }
 ],
 "metadata": {
  "kernelspec": {
   "display_name": "myenv",
   "language": "python",
   "name": "python3"
  },
  "language_info": {
   "codemirror_mode": {
    "name": "ipython",
    "version": 3
   },
   "file_extension": ".py",
   "mimetype": "text/x-python",
   "name": "python",
   "nbconvert_exporter": "python",
   "pygments_lexer": "ipython3",
   "version": "3.11.5"
  }
 },
 "nbformat": 4,
 "nbformat_minor": 2
}
