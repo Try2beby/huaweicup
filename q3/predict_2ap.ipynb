{
 "cells": [
  {
   "cell_type": "code",
   "execution_count": 17,
   "metadata": {},
   "outputs": [],
   "source": [
    "import pandas as pd\n",
    "from modeling_old import clear_column_names, regressor"
   ]
  },
  {
   "cell_type": "code",
   "execution_count": 18,
   "metadata": {},
   "outputs": [],
   "source": [
    "def load_data(path=\"./df_2ap_final.csv\"):\n",
    "    df = pd.read_csv(path, header=[0, 1], index_col=None)\n",
    "\n",
    "    y = df[(\"throughput\", \"_\")]\n",
    "    X = df.drop(columns=[(\"throughput\", \"_\")])\n",
    "\n",
    "    X.columns = clear_column_names(X)\n",
    "\n",
    "    return X, y"
   ]
  },
  {
   "cell_type": "code",
   "execution_count": 19,
   "metadata": {},
   "outputs": [
    {
     "data": {
      "text/plain": [
       "((392, 227), (80, 218))"
      ]
     },
     "execution_count": 19,
     "metadata": {},
     "output_type": "execute_result"
    }
   ],
   "source": [
    "X, y = load_data()\n",
    "X_test, y_test = load_data(\"./df_1_2ap_test_final.csv\")\n",
    "X.shape, X_test.shape"
   ]
  },
  {
   "cell_type": "code",
   "execution_count": 20,
   "metadata": {},
   "outputs": [
    {
     "name": "stdout",
     "output_type": "stream",
     "text": [
      "Missing columns in test set: {'mcs_nss_4_1', 'mcs_nss_0_0', 'mcs_nss_5_2', 'mcs_nss_3_2', 'mcs_nss_0_1', 'mcs_nss_6_1', 'mcs_nss_7_1', 'mcs_nss_4_2', 'mcs_nss_5_1'}\n"
     ]
    },
    {
     "data": {
      "text/plain": [
       "((392, 227), (80, 227))"
      ]
     },
     "execution_count": 20,
     "metadata": {},
     "output_type": "execute_result"
    }
   ],
   "source": [
    "def align_train_test(X_train, X_test):\n",
    "    missing_cols = set(X_train.columns) - set(X_test.columns)\n",
    "    print(f\"Missing columns in test set: {missing_cols}\")\n",
    "    for c in missing_cols:\n",
    "        X_test[c] = False\n",
    "    X_test = X_test[X_train.columns]\n",
    "    return X_test\n",
    "\n",
    "\n",
    "X_test = align_train_test(X, X_test)\n",
    "X.shape, X_test.shape"
   ]
  },
  {
   "cell_type": "code",
   "execution_count": 21,
   "metadata": {},
   "outputs": [
    {
     "data": {
      "text/plain": [
       "0    NaN\n",
       "1    NaN\n",
       "2    NaN\n",
       "3    NaN\n",
       "4    NaN\n",
       "      ..\n",
       "75   NaN\n",
       "76   NaN\n",
       "77   NaN\n",
       "78   NaN\n",
       "79   NaN\n",
       "Name: (throughput, _), Length: 80, dtype: float64"
      ]
     },
     "execution_count": 21,
     "metadata": {},
     "output_type": "execute_result"
    }
   ],
   "source": [
    "y_test"
   ]
  },
  {
   "cell_type": "code",
   "execution_count": 22,
   "metadata": {},
   "outputs": [
    {
     "name": "stdout",
     "output_type": "stream",
     "text": [
      "\n",
      "Feature Importances:\n",
      "                                        Feature  Importance\n",
      "193                 ap_from_ap_mean_rssi_median    0.203347\n",
      "2    sta_to_ap_0_max_ant_rssi_in_nav_ed_percent    0.129069\n",
      "7               sta_to_ap_0_max_ant_rssi_median    0.093934\n",
      "43   sta_to_ap_1_max_ant_rssi_in_nav_ed_percent    0.086850\n",
      "51                sta_to_ap_1_max_ant_rssi_mean    0.078177\n",
      "..                                          ...         ...\n",
      "135              sta_from_ap_1_max_ant_rssi_var    0.000000\n",
      "134             sta_from_ap_1_max_ant_rssi_mean    0.000000\n",
      "133              sta_from_ap_1_max_ant_rssi_iqr    0.000000\n",
      "132            sta_from_ap_1_max_ant_rssi_range    0.000000\n",
      "70                sta_to_ap_1_mean_ant_rssi_iqr    0.000000\n",
      "\n",
      "[227 rows x 2 columns]\n",
      "{'mse': {'train': [31.97971136952882, 40.38638852857926, 42.77703684815657, 31.931505912149493, 37.37553824119215], 'test': [265.01134361508224, 188.84563038657015, 132.14596780303182, 293.99242033921456, 336.90929868709685]}, 'r2': {'train': [0.9905447099035004, 0.9890005637398387, 0.9884706317949279, 0.9907544723768021, 0.9893106487817971], 'test': [0.9366349063971994, 0.9378410458839526, 0.9522564271715737, 0.9235501572416979, 0.9098163589766463]}}\n"
     ]
    },
    {
     "data": {
      "text/plain": [
       "{'shap_values':                                           Feature  SHAP Value  SHAP Sign\n",
       " 60   sta_to_ap_1_max_ant_rssi_approximate_entropy   -0.585431       -1.0\n",
       " 2      sta_to_ap_0_max_ant_rssi_in_nav_ed_percent    0.501562        1.0\n",
       " 10                  sta_to_ap_0_max_ant_rssi_mean    0.490537        1.0\n",
       " 43     sta_to_ap_1_max_ant_rssi_in_nav_ed_percent   -0.397119       -1.0\n",
       " 215                                  mcs_nss_11_2    0.396497        1.0\n",
       " ..                                            ...         ...        ...\n",
       " 127      sta_from_ap_1_max_ant_rssi_la_ed_percent    0.000000        0.0\n",
       " 123  sta_from_ap_0_mean_ant_rssi_grouping_entropy    0.000000        0.0\n",
       " 154               sta_from_ap_1_mean_ant_rssi_iqr    0.000000        0.0\n",
       " 152            sta_from_ap_1_mean_ant_rssi_median    0.000000        0.0\n",
       " 169             ap_from_ap_max_rssi_la_ed_percent    0.000000        0.0\n",
       " \n",
       " [227 rows x 3 columns],\n",
       " 'feature_importances':                                         Feature  Importance\n",
       " 193                 ap_from_ap_mean_rssi_median    0.203347\n",
       " 2    sta_to_ap_0_max_ant_rssi_in_nav_ed_percent    0.129069\n",
       " 7               sta_to_ap_0_max_ant_rssi_median    0.093934\n",
       " 43   sta_to_ap_1_max_ant_rssi_in_nav_ed_percent    0.086850\n",
       " 51                sta_to_ap_1_max_ant_rssi_mean    0.078177\n",
       " ..                                          ...         ...\n",
       " 135              sta_from_ap_1_max_ant_rssi_var    0.000000\n",
       " 134             sta_from_ap_1_max_ant_rssi_mean    0.000000\n",
       " 133              sta_from_ap_1_max_ant_rssi_iqr    0.000000\n",
       " 132            sta_from_ap_1_max_ant_rssi_range    0.000000\n",
       " 70                sta_to_ap_1_mean_ant_rssi_iqr    0.000000\n",
       " \n",
       " [227 rows x 2 columns],\n",
       " 'mse':        train        test\n",
       " 0  31.979711  265.011344\n",
       " 1  40.386389  188.845630\n",
       " 2  42.777037  132.145968\n",
       " 3  31.931506  293.992420\n",
       " 4  37.375538  336.909299,\n",
       " 'r2':       train      test\n",
       " 0  0.990545  0.936635\n",
       " 1  0.989001  0.937841\n",
       " 2  0.988471  0.952256\n",
       " 3  0.990754  0.923550\n",
       " 4  0.989311  0.909816}"
      ]
     },
     "execution_count": 22,
     "metadata": {},
     "output_type": "execute_result"
    }
   ],
   "source": [
    "regressor(X, y, \"xgboost\")"
   ]
  },
  {
   "cell_type": "code",
   "execution_count": 23,
   "metadata": {},
   "outputs": [],
   "source": [
    "import xgboost as xgb\n",
    "\n",
    "model = xgb.XGBRegressor(\n",
    "    objective=\"reg:squarederror\",\n",
    "    n_estimators=100,\n",
    "    max_depth=3,\n",
    "    learning_rate=0.1,\n",
    "    random_state=42,\n",
    ")\n",
    "\n",
    "model.fit(X, y)\n",
    "y_test_pred = model.predict(X_test)"
   ]
  },
  {
   "cell_type": "code",
   "execution_count": 24,
   "metadata": {},
   "outputs": [],
   "source": [
    "# save predictions\n",
    "y_test_pred = pd.Series(y_test_pred, name=\"throughput\")\n",
    "y_test_pred.to_csv(\"./results/y_1_2ap_test_pred.csv\", index=False)"
   ]
  }
 ],
 "metadata": {
  "kernelspec": {
   "display_name": "base",
   "language": "python",
   "name": "python3"
  },
  "language_info": {
   "codemirror_mode": {
    "name": "ipython",
    "version": 3
   },
   "file_extension": ".py",
   "mimetype": "text/x-python",
   "name": "python",
   "nbconvert_exporter": "python",
   "pygments_lexer": "ipython3",
   "version": "3.11.5"
  }
 },
 "nbformat": 4,
 "nbformat_minor": 2
}
