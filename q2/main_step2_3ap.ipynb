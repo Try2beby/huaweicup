{
 "cells": [
  {
   "cell_type": "code",
   "execution_count": 11,
   "metadata": {},
   "outputs": [],
   "source": [
    "import pandas as pd"
   ]
  },
  {
   "cell_type": "code",
   "execution_count": 12,
   "metadata": {},
   "outputs": [
    {
     "data": {
      "text/plain": [
       "691"
      ]
     },
     "execution_count": 12,
     "metadata": {},
     "output_type": "execute_result"
    }
   ],
   "source": [
    "df_3ap = pd.read_csv(\"./df_3ap_step1.csv\", header=[0, 1], index_col=None)\n",
    "len(df_3ap)"
   ]
  },
  {
   "cell_type": "code",
   "execution_count": 13,
   "metadata": {},
   "outputs": [
    {
     "data": {
      "text/plain": [
       "382"
      ]
     },
     "execution_count": 13,
     "metadata": {},
     "output_type": "execute_result"
    }
   ],
   "source": [
    "len(df_3ap.columns)"
   ]
  },
  {
   "cell_type": "code",
   "execution_count": 14,
   "metadata": {},
   "outputs": [],
   "source": [
    "# (*rssi, !org)\n",
    "# (!*rssi, _)\n",
    "\n",
    "# 提取与 \"*rssi, !org\" 相关的列 (一级索引包含 'rssi' 且二级索引不等于 'org')\n",
    "rssi_not_org_cols = [\n",
    "    col\n",
    "    for col in df_3ap.columns\n",
    "    if \"rssi\" in col[0] and col[1] != \"org\" and col[1] != \"_\"\n",
    "]\n",
    "\n",
    "# 提取与 \"!*rssi, _\" 相关的列 (一级索引不包含 'rssi' 且二级索引等于 '_')\n",
    "not_rssi_underscore_cols = [\n",
    "    col for col in df_3ap.columns if \"rssi\" not in col[0] and col[1] == \"_\"\n",
    "]\n",
    "\n",
    "# 创建新的 DataFrame 包含提取出的列\n",
    "df_rssi_not_org = df_3ap[rssi_not_org_cols]\n",
    "df_not_rssi_underscore = df_3ap[not_rssi_underscore_cols]"
   ]
  },
  {
   "cell_type": "code",
   "execution_count": 15,
   "metadata": {},
   "outputs": [],
   "source": [
    "cols_to_use = [\n",
    "    # (\"test_id\", \"_\"),\n",
    "    # (\"test_dur\", \"_\"),\n",
    "    # (\"loc_id\", \"_\"),\n",
    "    (\"protocol\", \"_\"),\n",
    "    # (\"pkt_len\", \"_\"),\n",
    "    (\"bss_id\", \"_\"),\n",
    "    # (\"ap_name\", \"_\"),\n",
    "    # (\"ap_mac\", \"_\"),\n",
    "    # (\"ap_id\", \"_\"),\n",
    "    (\"pd\", \"_\"),\n",
    "    (\"ed\", \"_\"),\n",
    "    (\"nav\", \"_\"),\n",
    "    (\"eirp\", \"_\"),\n",
    "    # (\"sta_mac\", \"_\"),\n",
    "    # (\"sta_id\", \"_\"),\n",
    "    # (\"seq_time\", \"_\"),\n",
    "    (\"mcs_nss\", \"_\"),\n",
    "]\n",
    "\n",
    "catagory_cols = [\n",
    "    # (\"loc_id\", \"_\"),\n",
    "    (\"protocol\", \"_\"),\n",
    "    (\"bss_id\", \"_\"),\n",
    "    # (\"ap_mac\", \"_\"),\n",
    "    # (\"sta_mac\", \"_\"),\n",
    "]"
   ]
  },
  {
   "cell_type": "code",
   "execution_count": 16,
   "metadata": {},
   "outputs": [],
   "source": [
    "df_3ap = pd.concat([df_not_rssi_underscore[cols_to_use], df_rssi_not_org], axis=1)\n",
    "\n",
    "# # deal with catagory columns\n",
    "# for col in catagory_cols:\n",
    "#     df_2ap[col] = df_2ap[col].astype(\"category\")"
   ]
  },
  {
   "cell_type": "code",
   "execution_count": 17,
   "metadata": {},
   "outputs": [],
   "source": [
    "df_dummies = pd.get_dummies(df_3ap[catagory_cols])\n",
    "new_cols = [(col, \"_\") for col in df_dummies.columns]\n",
    "# new col names (org_name, _)\n",
    "df_dummies.columns = pd.MultiIndex.from_tuples(new_cols)"
   ]
  },
  {
   "cell_type": "code",
   "execution_count": 18,
   "metadata": {},
   "outputs": [],
   "source": [
    "df_3ap = pd.concat([df_3ap, df_dummies], axis=1)\n",
    "df_3ap.drop(columns=catagory_cols, inplace=True)"
   ]
  },
  {
   "cell_type": "code",
   "execution_count": 19,
   "metadata": {},
   "outputs": [
    {
     "data": {
      "text/plain": [
       "339"
      ]
     },
     "execution_count": 19,
     "metadata": {},
     "output_type": "execute_result"
    }
   ],
   "source": [
    "len(df_3ap.columns)"
   ]
  },
  {
   "cell_type": "code",
   "execution_count": 20,
   "metadata": {},
   "outputs": [],
   "source": [
    "# save\n",
    "df_3ap.to_csv(\"./df_3ap_final.csv\", index=False)"
   ]
  }
 ],
 "metadata": {
  "kernelspec": {
   "display_name": "myenv",
   "language": "python",
   "name": "python3"
  },
  "language_info": {
   "codemirror_mode": {
    "name": "ipython",
    "version": 3
   },
   "file_extension": ".py",
   "mimetype": "text/x-python",
   "name": "python",
   "nbconvert_exporter": "python",
   "pygments_lexer": "ipython3",
   "version": "3.11.5"
  }
 },
 "nbformat": 4,
 "nbformat_minor": 2
}
