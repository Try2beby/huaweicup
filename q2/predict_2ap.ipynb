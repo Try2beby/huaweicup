{
 "cells": [
  {
   "cell_type": "code",
   "execution_count": 1,
   "metadata": {},
   "outputs": [],
   "source": [
    "import pandas as pd\n",
    "from modeling_old import clear_column_names"
   ]
  },
  {
   "cell_type": "code",
   "execution_count": 6,
   "metadata": {},
   "outputs": [],
   "source": [
    "def load_data(path=\"./df_2ap_final.csv\"):\n",
    "    df = pd.read_csv(path, header=[0, 1], index_col=None)\n",
    "\n",
    "    y = df[(\"mcs_nss\", \"_\")]\n",
    "    X = df.drop(columns=[(\"mcs_nss\", \"_\")])\n",
    "\n",
    "    X.columns = clear_column_names(X)\n",
    "\n",
    "    return X, y"
   ]
  },
  {
   "cell_type": "code",
   "execution_count": 7,
   "metadata": {},
   "outputs": [
    {
     "data": {
      "text/plain": [
       "((392, 212), (64, 212))"
      ]
     },
     "execution_count": 7,
     "metadata": {},
     "output_type": "execute_result"
    }
   ],
   "source": [
    "X, y = load_data()\n",
    "X_test, y_test = load_data(\"./df_2_2ap_test_final.csv\")\n",
    "X.shape, X_test.shape"
   ]
  },
  {
   "cell_type": "code",
   "execution_count": 13,
   "metadata": {},
   "outputs": [],
   "source": [
    "from sklearn.preprocessing import LabelEncoder\n",
    "\n",
    "# 创建 LabelEncoder 实例\n",
    "le = LabelEncoder()\n",
    "\n",
    "# 转换目标变量\n",
    "y_encoded = le.fit_transform(y)"
   ]
  },
  {
   "cell_type": "code",
   "execution_count": 19,
   "metadata": {},
   "outputs": [],
   "source": [
    "import xgboost as xgb\n",
    "\n",
    "model = xgb.XGBClassifier()\n",
    "\n",
    "model.fit(X, y_encoded)\n",
    "y_test_pred_encoded = model.predict(X_test)"
   ]
  },
  {
   "cell_type": "code",
   "execution_count": 20,
   "metadata": {},
   "outputs": [
    {
     "data": {
      "text/plain": [
       "array(['5_2', '4_2', '5_2', '3_2', '5_2', '3_2', '5_2', '3_2', '5_2',\n",
       "       '11_2', '5_2', '11_2', '5_2', '11_2', '5_2', '3_2', '5_2', '11_2',\n",
       "       '5_2', '11_2', '3_2', '11_2', '5_2', '11_2', '5_1', '11_2', '5_2',\n",
       "       '11_2', '5_2', '11_2', '5_2', '11_2', '3_2', '11_2', '11_2',\n",
       "       '11_2', '5_2', '11_2', '11_2', '11_2', '5_2', '11_2', '11_2',\n",
       "       '11_2', '11_2', '11_2', '11_2', '11_2', '11_2', '11_2', '11_2',\n",
       "       '11_2', '11_2', '11_2', '11_2', '11_2', '11_2', '11_2', '11_2',\n",
       "       '11_2', '11_2', '11_2', '5_2', '11_2'], dtype=object)"
      ]
     },
     "execution_count": 20,
     "metadata": {},
     "output_type": "execute_result"
    }
   ],
   "source": [
    "y_test_pred = le.inverse_transform(y_test_pred_encoded)\n",
    "y_test_pred"
   ]
  },
  {
   "cell_type": "code",
   "execution_count": 22,
   "metadata": {},
   "outputs": [],
   "source": [
    "# save predictions\n",
    "y_test_pred = pd.Series(y_test_pred, name=\"mcs_nss\")\n",
    "y_test_pred.to_csv(\"./results/y_2_2ap_test_pred.csv\", index=False)"
   ]
  }
 ],
 "metadata": {
  "kernelspec": {
   "display_name": "base",
   "language": "python",
   "name": "python3"
  },
  "language_info": {
   "codemirror_mode": {
    "name": "ipython",
    "version": 3
   },
   "file_extension": ".py",
   "mimetype": "text/x-python",
   "name": "python",
   "nbconvert_exporter": "python",
   "pygments_lexer": "ipython3",
   "version": "3.11.5"
  }
 },
 "nbformat": 4,
 "nbformat_minor": 2
}
