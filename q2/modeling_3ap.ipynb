{
 "cells": [
  {
   "cell_type": "code",
   "execution_count": 1,
   "metadata": {},
   "outputs": [],
   "source": [
    "import pandas as pd\n",
    "from modeling_old import clear_column_names, random_search"
   ]
  },
  {
   "cell_type": "code",
   "execution_count": 2,
   "metadata": {},
   "outputs": [
    {
     "ename": "KeyError",
     "evalue": "('seq_time', '_')",
     "output_type": "error",
     "traceback": [
      "\u001b[0;31m---------------------------------------------------------------------------\u001b[0m",
      "\u001b[0;31mKeyError\u001b[0m                                  Traceback (most recent call last)",
      "File \u001b[0;32m~/miniconda3/lib/python3.11/site-packages/pandas/core/indexes/base.py:3805\u001b[0m, in \u001b[0;36mIndex.get_loc\u001b[0;34m(self, key)\u001b[0m\n\u001b[1;32m   3804\u001b[0m \u001b[38;5;28;01mtry\u001b[39;00m:\n\u001b[0;32m-> 3805\u001b[0m     \u001b[38;5;28;01mreturn\u001b[39;00m \u001b[38;5;28;43mself\u001b[39;49m\u001b[38;5;241;43m.\u001b[39;49m\u001b[43m_engine\u001b[49m\u001b[38;5;241;43m.\u001b[39;49m\u001b[43mget_loc\u001b[49m\u001b[43m(\u001b[49m\u001b[43mcasted_key\u001b[49m\u001b[43m)\u001b[49m\n\u001b[1;32m   3806\u001b[0m \u001b[38;5;28;01mexcept\u001b[39;00m \u001b[38;5;167;01mKeyError\u001b[39;00m \u001b[38;5;28;01mas\u001b[39;00m err:\n",
      "File \u001b[0;32mindex.pyx:167\u001b[0m, in \u001b[0;36mpandas._libs.index.IndexEngine.get_loc\u001b[0;34m()\u001b[0m\n",
      "File \u001b[0;32mindex.pyx:196\u001b[0m, in \u001b[0;36mpandas._libs.index.IndexEngine.get_loc\u001b[0;34m()\u001b[0m\n",
      "File \u001b[0;32mpandas/_libs/hashtable_class_helper.pxi:7081\u001b[0m, in \u001b[0;36mpandas._libs.hashtable.PyObjectHashTable.get_item\u001b[0;34m()\u001b[0m\n",
      "File \u001b[0;32mpandas/_libs/hashtable_class_helper.pxi:7089\u001b[0m, in \u001b[0;36mpandas._libs.hashtable.PyObjectHashTable.get_item\u001b[0;34m()\u001b[0m\n",
      "\u001b[0;31mKeyError\u001b[0m: 'seq_time'",
      "\nThe above exception was the direct cause of the following exception:\n",
      "\u001b[0;31mKeyError\u001b[0m                                  Traceback (most recent call last)",
      "File \u001b[0;32mindex.pyx:768\u001b[0m, in \u001b[0;36mpandas._libs.index.BaseMultiIndexCodesEngine.get_loc\u001b[0;34m()\u001b[0m\n",
      "File \u001b[0;32m~/miniconda3/lib/python3.11/site-packages/pandas/core/indexes/base.py:3812\u001b[0m, in \u001b[0;36mIndex.get_loc\u001b[0;34m(self, key)\u001b[0m\n\u001b[1;32m   3811\u001b[0m         \u001b[38;5;28;01mraise\u001b[39;00m InvalidIndexError(key)\n\u001b[0;32m-> 3812\u001b[0m     \u001b[38;5;28;01mraise\u001b[39;00m \u001b[38;5;167;01mKeyError\u001b[39;00m(key) \u001b[38;5;28;01mfrom\u001b[39;00m \u001b[38;5;21;01merr\u001b[39;00m\n\u001b[1;32m   3813\u001b[0m \u001b[38;5;28;01mexcept\u001b[39;00m \u001b[38;5;167;01mTypeError\u001b[39;00m:\n\u001b[1;32m   3814\u001b[0m     \u001b[38;5;66;03m# If we have a listlike key, _check_indexing_error will raise\u001b[39;00m\n\u001b[1;32m   3815\u001b[0m     \u001b[38;5;66;03m#  InvalidIndexError. Otherwise we fall through and re-raise\u001b[39;00m\n\u001b[1;32m   3816\u001b[0m     \u001b[38;5;66;03m#  the TypeError.\u001b[39;00m\n",
      "\u001b[0;31mKeyError\u001b[0m: 'seq_time'",
      "\nDuring handling of the above exception, another exception occurred:\n",
      "\u001b[0;31mKeyError\u001b[0m                                  Traceback (most recent call last)",
      "File \u001b[0;32m~/miniconda3/lib/python3.11/site-packages/pandas/core/indexes/multi.py:3053\u001b[0m, in \u001b[0;36mMultiIndex.get_loc\u001b[0;34m(self, key)\u001b[0m\n\u001b[1;32m   3052\u001b[0m \u001b[38;5;28;01mtry\u001b[39;00m:\n\u001b[0;32m-> 3053\u001b[0m     \u001b[38;5;28;01mreturn\u001b[39;00m \u001b[38;5;28;43mself\u001b[39;49m\u001b[38;5;241;43m.\u001b[39;49m\u001b[43m_engine\u001b[49m\u001b[38;5;241;43m.\u001b[39;49m\u001b[43mget_loc\u001b[49m\u001b[43m(\u001b[49m\u001b[43mkey\u001b[49m\u001b[43m)\u001b[49m\n\u001b[1;32m   3054\u001b[0m \u001b[38;5;28;01mexcept\u001b[39;00m \u001b[38;5;167;01mKeyError\u001b[39;00m \u001b[38;5;28;01mas\u001b[39;00m err:\n",
      "File \u001b[0;32mindex.pyx:771\u001b[0m, in \u001b[0;36mpandas._libs.index.BaseMultiIndexCodesEngine.get_loc\u001b[0;34m()\u001b[0m\n",
      "\u001b[0;31mKeyError\u001b[0m: ('seq_time', '_')",
      "\nThe above exception was the direct cause of the following exception:\n",
      "\u001b[0;31mKeyError\u001b[0m                                  Traceback (most recent call last)",
      "Cell \u001b[0;32mIn[2], line 12\u001b[0m\n\u001b[1;32m      7\u001b[0m     X\u001b[38;5;241m.\u001b[39mcolumns \u001b[38;5;241m=\u001b[39m clear_column_names(X)\n\u001b[1;32m      9\u001b[0m     \u001b[38;5;28;01mreturn\u001b[39;00m X, y\n\u001b[0;32m---> 12\u001b[0m X, y \u001b[38;5;241m=\u001b[39m \u001b[43mload_data\u001b[49m\u001b[43m(\u001b[49m\u001b[38;5;124;43m\"\u001b[39;49m\u001b[38;5;124;43m./df_3ap_final.csv\u001b[39;49m\u001b[38;5;124;43m\"\u001b[39;49m\u001b[43m)\u001b[49m\n",
      "Cell \u001b[0;32mIn[2], line 4\u001b[0m, in \u001b[0;36mload_data\u001b[0;34m(path)\u001b[0m\n\u001b[1;32m      1\u001b[0m \u001b[38;5;28;01mdef\u001b[39;00m \u001b[38;5;21mload_data\u001b[39m(path\u001b[38;5;241m=\u001b[39m\u001b[38;5;124m\"\u001b[39m\u001b[38;5;124m./df_2ap_final.csv\u001b[39m\u001b[38;5;124m\"\u001b[39m):\n\u001b[1;32m      2\u001b[0m     df \u001b[38;5;241m=\u001b[39m pd\u001b[38;5;241m.\u001b[39mread_csv(path, header\u001b[38;5;241m=\u001b[39m[\u001b[38;5;241m0\u001b[39m, \u001b[38;5;241m1\u001b[39m], index_col\u001b[38;5;241m=\u001b[39m\u001b[38;5;28;01mNone\u001b[39;00m)\n\u001b[0;32m----> 4\u001b[0m     y \u001b[38;5;241m=\u001b[39m \u001b[43mdf\u001b[49m\u001b[43m[\u001b[49m\u001b[43m(\u001b[49m\u001b[38;5;124;43m\"\u001b[39;49m\u001b[38;5;124;43mseq_time\u001b[39;49m\u001b[38;5;124;43m\"\u001b[39;49m\u001b[43m,\u001b[49m\u001b[43m \u001b[49m\u001b[38;5;124;43m\"\u001b[39;49m\u001b[38;5;124;43m_\u001b[39;49m\u001b[38;5;124;43m\"\u001b[39;49m\u001b[43m)\u001b[49m\u001b[43m]\u001b[49m\n\u001b[1;32m      5\u001b[0m     X \u001b[38;5;241m=\u001b[39m df\u001b[38;5;241m.\u001b[39mdrop(columns\u001b[38;5;241m=\u001b[39m[(\u001b[38;5;124m\"\u001b[39m\u001b[38;5;124mseq_time\u001b[39m\u001b[38;5;124m\"\u001b[39m, \u001b[38;5;124m\"\u001b[39m\u001b[38;5;124m_\u001b[39m\u001b[38;5;124m\"\u001b[39m)])\n\u001b[1;32m      7\u001b[0m     X\u001b[38;5;241m.\u001b[39mcolumns \u001b[38;5;241m=\u001b[39m clear_column_names(X)\n",
      "File \u001b[0;32m~/miniconda3/lib/python3.11/site-packages/pandas/core/frame.py:4089\u001b[0m, in \u001b[0;36mDataFrame.__getitem__\u001b[0;34m(self, key)\u001b[0m\n\u001b[1;32m   4087\u001b[0m \u001b[38;5;28;01mif\u001b[39;00m is_single_key:\n\u001b[1;32m   4088\u001b[0m     \u001b[38;5;28;01mif\u001b[39;00m \u001b[38;5;28mself\u001b[39m\u001b[38;5;241m.\u001b[39mcolumns\u001b[38;5;241m.\u001b[39mnlevels \u001b[38;5;241m>\u001b[39m \u001b[38;5;241m1\u001b[39m:\n\u001b[0;32m-> 4089\u001b[0m         \u001b[38;5;28;01mreturn\u001b[39;00m \u001b[38;5;28;43mself\u001b[39;49m\u001b[38;5;241;43m.\u001b[39;49m\u001b[43m_getitem_multilevel\u001b[49m\u001b[43m(\u001b[49m\u001b[43mkey\u001b[49m\u001b[43m)\u001b[49m\n\u001b[1;32m   4090\u001b[0m     indexer \u001b[38;5;241m=\u001b[39m \u001b[38;5;28mself\u001b[39m\u001b[38;5;241m.\u001b[39mcolumns\u001b[38;5;241m.\u001b[39mget_loc(key)\n\u001b[1;32m   4091\u001b[0m     \u001b[38;5;28;01mif\u001b[39;00m is_integer(indexer):\n",
      "File \u001b[0;32m~/miniconda3/lib/python3.11/site-packages/pandas/core/frame.py:4147\u001b[0m, in \u001b[0;36mDataFrame._getitem_multilevel\u001b[0;34m(self, key)\u001b[0m\n\u001b[1;32m   4145\u001b[0m \u001b[38;5;28;01mdef\u001b[39;00m \u001b[38;5;21m_getitem_multilevel\u001b[39m(\u001b[38;5;28mself\u001b[39m, key):\n\u001b[1;32m   4146\u001b[0m     \u001b[38;5;66;03m# self.columns is a MultiIndex\u001b[39;00m\n\u001b[0;32m-> 4147\u001b[0m     loc \u001b[38;5;241m=\u001b[39m \u001b[38;5;28;43mself\u001b[39;49m\u001b[38;5;241;43m.\u001b[39;49m\u001b[43mcolumns\u001b[49m\u001b[38;5;241;43m.\u001b[39;49m\u001b[43mget_loc\u001b[49m\u001b[43m(\u001b[49m\u001b[43mkey\u001b[49m\u001b[43m)\u001b[49m\n\u001b[1;32m   4148\u001b[0m     \u001b[38;5;28;01mif\u001b[39;00m \u001b[38;5;28misinstance\u001b[39m(loc, (\u001b[38;5;28mslice\u001b[39m, np\u001b[38;5;241m.\u001b[39mndarray)):\n\u001b[1;32m   4149\u001b[0m         new_columns \u001b[38;5;241m=\u001b[39m \u001b[38;5;28mself\u001b[39m\u001b[38;5;241m.\u001b[39mcolumns[loc]\n",
      "File \u001b[0;32m~/miniconda3/lib/python3.11/site-packages/pandas/core/indexes/multi.py:3055\u001b[0m, in \u001b[0;36mMultiIndex.get_loc\u001b[0;34m(self, key)\u001b[0m\n\u001b[1;32m   3053\u001b[0m     \u001b[38;5;28;01mreturn\u001b[39;00m \u001b[38;5;28mself\u001b[39m\u001b[38;5;241m.\u001b[39m_engine\u001b[38;5;241m.\u001b[39mget_loc(key)\n\u001b[1;32m   3054\u001b[0m \u001b[38;5;28;01mexcept\u001b[39;00m \u001b[38;5;167;01mKeyError\u001b[39;00m \u001b[38;5;28;01mas\u001b[39;00m err:\n\u001b[0;32m-> 3055\u001b[0m     \u001b[38;5;28;01mraise\u001b[39;00m \u001b[38;5;167;01mKeyError\u001b[39;00m(key) \u001b[38;5;28;01mfrom\u001b[39;00m \u001b[38;5;21;01merr\u001b[39;00m\n\u001b[1;32m   3056\u001b[0m \u001b[38;5;28;01mexcept\u001b[39;00m \u001b[38;5;167;01mTypeError\u001b[39;00m:\n\u001b[1;32m   3057\u001b[0m     \u001b[38;5;66;03m# e.g. test_partial_slicing_with_multiindex partial string slicing\u001b[39;00m\n\u001b[1;32m   3058\u001b[0m     loc, _ \u001b[38;5;241m=\u001b[39m \u001b[38;5;28mself\u001b[39m\u001b[38;5;241m.\u001b[39mget_loc_level(key, \u001b[38;5;28mlist\u001b[39m(\u001b[38;5;28mrange\u001b[39m(\u001b[38;5;28mself\u001b[39m\u001b[38;5;241m.\u001b[39mnlevels)))\n",
      "\u001b[0;31mKeyError\u001b[0m: ('seq_time', '_')"
     ]
    }
   ],
   "source": [
    "def load_data(path=\"./df_2ap_final.csv\"):\n",
    "    df = pd.read_csv(path, header=[0, 1], index_col=None)\n",
    "\n",
    "    y = df[(\"mcs_nss\", \"_\")]\n",
    "    X = df.drop(columns=[(\"mcs_nss\", \"_\")])\n",
    "\n",
    "    X.columns = clear_column_names(X)\n",
    "\n",
    "    return X, y\n",
    "\n",
    "\n",
    "X, y = load_data(\"./df_3ap_final.csv\")"
   ]
  },
  {
   "cell_type": "code",
   "execution_count": 27,
   "metadata": {},
   "outputs": [],
   "source": [
    "model_types = dict(\n",
    "    # random_forest=dict(\n",
    "    #     n_estimators=[50, 100, 200],\n",
    "    #     max_features=[None, \"sqrt\", \"log2\"],\n",
    "    #     max_depth=[None, 10, 20],\n",
    "    # ),\n",
    "    # extra_trees=dict(\n",
    "    #     n_estimators=[50, 100, 200],\n",
    "    #     max_features=[None, \"sqrt\", \"log2\"],\n",
    "    #     max_depth=[None, 10, 20],\n",
    "    # ),\n",
    "    xgboost=dict(\n",
    "        objective=\"reg:squarederror\",\n",
    "        n_estimators=[50, 100, 200],\n",
    "        max_depth=[None, 10, 20],\n",
    "        learning_rate=[0.01, 0.1, 0.2],\n",
    "    ),\n",
    "    # lightgbm=dict(\n",
    "    #     n_estimators=[50, 100, 200],\n",
    "    #     learning_rate=[0.01, 0.1, 0.2],\n",
    "    #     max_depth=[None, 10, 20],\n",
    "    #     objective=\"regression\",\n",
    "    #     metric=\"rmse\",\n",
    "    #     num_leaves=31,\n",
    "    #     min_data_in_leaf=20,\n",
    "    #     feature_fraction=0.9,\n",
    "    #     early_stopping_round=10,\n",
    "    # ),\n",
    "    # catboost=dict(\n",
    "    #     iterations=[50, 100, 200],\n",
    "    #     depth=[4, 6, 8],\n",
    "    #     learning_rate=[0.01, 0.1, 0.2],\n",
    "    #     l2_leaf_reg=[1, 3, 5],\n",
    "    #     loss_function=[\"RMSE\", \"MAE\"],\n",
    "    #     bootstrap_type=[\"Bayesian\", \"Bernoulli\", \"MVS\"],\n",
    "    # ),\n",
    "    # mlp=dict(\n",
    "    #     hidden_size1=[64, 128, 256],\n",
    "    #     hidden_size2=[32, 64, 128],\n",
    "    #     weight_decay=[0.001, 0.0001, 1e-5],\n",
    "    # ),\n",
    ")"
   ]
  },
  {
   "cell_type": "code",
   "execution_count": 28,
   "metadata": {},
   "outputs": [
    {
     "name": "stdout",
     "output_type": "stream",
     "text": [
      "Running xgboost\n",
      "\n",
      "Params: {'objective': 'reg:squarederror', 'n_estimators': 100, 'max_depth': None, 'learning_rate': 0.2}\n",
      "{'mse': {'train': [0.012185441033296815, 0.010927837415948789, 0.006032353005650644, 0.005719528358366478, 0.003264297777710653], 'test': [43.242756025899205, 50.152769478214886, 53.574329868580804, 44.69234671882342, 41.33246851566262]}, 'r2': {'train': [0.9999225128399299, 0.9999353042007414, 0.9999630753071246, 0.9999637037639837, 0.9999801803672241], 'test': [0.7619261775982724, 0.6290515605740372, 0.6602640957514921, 0.7525962398286139, 0.7301878067799679]}}\n",
      "\n",
      "Params: {'objective': 'reg:squarederror', 'n_estimators': 200, 'max_depth': 20, 'learning_rate': 0.01}\n",
      "{'mse': {'train': [5.978941348681098, 6.435818859508913, 6.4593551134188045, 6.173577589218947, 6.262139101268252], 'test': [57.31881058615759, 56.7047464206449, 61.78032502113815, 49.17614951421377, 50.893144819161165]}, 'r2': {'train': [0.9619799411388836, 0.9618981845033486, 0.9604615804955803, 0.9608223589073249, 0.9619785614456081], 'test': [0.6844301893340439, 0.5805907148972091, 0.6082266518814212, 0.7277752189405045, 0.6677771370389092]}}\n",
      "\n",
      "Params: {'objective': 'reg:squarederror', 'n_estimators': 100, 'max_depth': 10, 'learning_rate': 0.2}\n",
      "{'mse': {'train': [1.3849595506150288e-06, 1.5242184645192712e-06, 1.5980363181863792e-06, 1.1021340935436557e-06, 1.4561347623713378e-06], 'test': [54.48668542350907, 50.93491209420036, 59.96295467079712, 44.22906559179606, 43.72834291138755]}, 'r2': {'train': [0.9999999911930489, 0.999999990976208, 0.9999999902182448, 0.999999993005836, 0.9999999911588776], 'test': [0.7000225087178504, 0.6232665443959302, 0.6197513123081984, 0.7551608286510382, 0.7145478958671876]}}\n",
      "\n",
      "Params: {'objective': 'reg:squarederror', 'n_estimators': 50, 'max_depth': 20, 'learning_rate': 0.1}\n",
      "{'mse': {'train': [0.08915137547500018, 0.09386278654865578, 0.11460287928854333, 0.10580002811788458, 0.08462713466002879], 'test': [54.29452361547832, 52.45999749722437, 60.29078400798419, 44.71640449012433, 45.985353350920455]}, 'r2': {'train': [0.9994330868383821, 0.9994443065205612, 0.9992985032347407, 0.9993285910042767, 0.9994861747162629], 'test': [0.7010804592363167, 0.6119864484784192, 0.6176724174982837, 0.7524630630429187, 0.6998144681605865]}}\n",
      "\n",
      "Params: {'objective': 'reg:squarederror', 'n_estimators': 200, 'max_depth': None, 'learning_rate': 0.01}\n",
      "{'mse': {'train': [12.156772046704438, 13.148047445315328, 13.77692657152665, 13.201455000333581, 14.040539880371112], 'test': [52.773766851809825, 54.75315747514557, 59.00895048810305, 50.22594385863243, 44.72800797606768]}, 'r2': {'train': [0.9226951458758106, 0.9221599475003172, 0.9156699248296476, 0.9162233148559806, 0.9147509316386948], 'test': [0.7094530147564366, 0.5950253888198207, 0.6258010281788302, 0.7219638644853481, 0.7080222313406523]}}\n",
      "\n",
      "Params: {'objective': 'reg:squarederror', 'n_estimators': 50, 'max_depth': None, 'learning_rate': 0.1}\n",
      "{'mse': {'train': [2.00342710587353, 1.7631547510930856, 2.2799566947438925, 2.3027791507495357, 1.903083704306978], 'test': [47.85263215353835, 50.700759231870926, 59.82896583715244, 43.915823810376224, 39.2141053773724]}, 'r2': {'train': [0.9872602168097752, 0.9895616395543925, 0.9860441355730043, 0.9853865196022953, 0.9884451656283845], 'test': [0.7365464161915709, 0.6249984256015324, 0.6206009882195749, 0.7568948435385001, 0.7440161655716033]}}\n",
      "\n",
      "Params: {'objective': 'reg:squarederror', 'n_estimators': 200, 'max_depth': None, 'learning_rate': 0.1}\n",
      "{'mse': {'train': [0.012244440625244272, 0.010723736235463568, 0.012324859817405743, 0.01511074377426351, 0.006149843776701167], 'test': [47.19089124647644, 50.02536334025531, 57.51617813124964, 43.19151729548398, 38.761043036640096]}, 'r2': {'train': [0.9999221376618127, 0.9999365125357942, 0.9999245581843331, 0.9999041069318922, 0.9999626603779486], 'test': [0.7401896434430777, 0.6299939035102518, 0.6352672850174472, 0.7609043925655039, 0.7469736889958832]}}\n",
      "\n",
      "Params: {'objective': 'reg:squarederror', 'n_estimators': 200, 'max_depth': 20, 'learning_rate': 0.1}\n",
      "{'mse': {'train': [7.303269540457863e-07, 9.409458334843989e-07, 6.447985561606211e-07, 5.666150830517242e-07, 4.934882618186731e-07], 'test': [53.87528955149203, 52.35777561523964, 59.674424230073015, 44.71879489981909, 45.748317655319205]}, 'r2': {'train': [0.9999999953558545, 0.9999999944293422, 0.9999999960531175, 0.9999999964042499, 0.9999999970037182], 'test': [0.7033885604136433, 0.6127425193393494, 0.621580997353687, 0.7524498304339766, 0.7013618018475976]}}\n",
      "\n",
      "Params: {'objective': 'reg:squarederror', 'n_estimators': 100, 'max_depth': None, 'learning_rate': 0.1}\n",
      "{'mse': {'train': [0.28826028983222834, 0.32468481243582353, 0.5643640818287654, 0.41286745793830326, 0.30813110166367114], 'test': [46.78342922257947, 50.09914979867243, 57.99533588571232, 43.50728709879008, 39.05218077839325]}, 'r2': {'train': [0.9981669542235665, 0.998077776723048, 0.9965454656960697, 0.9973799352397872, 0.9981291396503426], 'test': [0.7424329334279851, 0.6294481515630441, 0.63222875717418, 0.7591563832882555, 0.7450731852163477]}}\n",
      "\n",
      "Params: {'objective': 'reg:squarederror', 'n_estimators': 50, 'max_depth': 20, 'learning_rate': 0.01}\n",
      "{'mse': {'train': [65.83845764803449, 70.67199814293234, 68.99844096454508, 66.48611563049273, 69.10502191108864], 'test': [102.04144618465695, 82.20615558004782, 95.31377956216593, 96.93922926763373, 88.24854655161879]}, 'r2': {'train': [0.5813335690848402, 0.5816023581765062, 0.5776529922716696, 0.5780778425193351, 0.5804193580017684], 'test': [0.43820886157136896, 0.39197285731403975, 0.39557782306697875, 0.4633727787932982, 0.42392664293569726]}}\n"
     ]
    }
   ],
   "source": [
    "results = {}\n",
    "for k, v in model_types.items():\n",
    "    print(f\"Running {k}\")\n",
    "    res, _ = random_search(\n",
    "        param_dict=v, X=X, y=y, model_type=k, suffix=\"3ap\", n_trials=10\n",
    "    )\n",
    "    results[k] = res"
   ]
  }
 ],
 "metadata": {
  "kernelspec": {
   "display_name": "myenv",
   "language": "python",
   "name": "python3"
  },
  "language_info": {
   "codemirror_mode": {
    "name": "ipython",
    "version": 3
   },
   "file_extension": ".py",
   "mimetype": "text/x-python",
   "name": "python",
   "nbconvert_exporter": "python",
   "pygments_lexer": "ipython3",
   "version": "3.11.5"
  }
 },
 "nbformat": 4,
 "nbformat_minor": 2
}
