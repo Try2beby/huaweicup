{
 "cells": [
  {
   "cell_type": "code",
   "execution_count": 1,
   "metadata": {},
   "outputs": [],
   "source": [
    "import pandas as pd\n",
    "from modeling_old import clear_column_names, random_search"
   ]
  },
  {
   "cell_type": "code",
   "execution_count": null,
   "metadata": {},
   "outputs": [],
   "source": [
    "def load_data(path=\"./df_2ap_final.csv\", threshold=1):\n",
    "    df = pd.read_csv(path, header=[0, 1], index_col=None)\n",
    "\n",
    "    y = df[(\"mcs_nss\", \"_\")]\n",
    "    X = df.drop(columns=[(\"mcs_nss\", \"_\")])\n",
    "\n",
    "    X.columns = clear_column_names(X)\n",
    "\n",
    "    # 计算每个类别的频次\n",
    "    value_counts = y.value_counts()\n",
    "    # 找到频次大于阈值的类别\n",
    "    valid_categories = value_counts[value_counts >= threshold].index\n",
    "\n",
    "    # 过滤样本\n",
    "    mask = y.isin(valid_categories)\n",
    "    X = X[mask]\n",
    "    y = y[mask]\n",
    "\n",
    "    return X, y\n",
    "\n",
    "\n",
    "X, y = load_data(threshold=5)  # 设置阈值为 5\n",
    "X.shape, y.shape"
   ]
  },
  {
   "cell_type": "code",
   "execution_count": 3,
   "metadata": {},
   "outputs": [],
   "source": [
    "from sklearn.preprocessing import LabelEncoder\n",
    "\n",
    "# 创建 LabelEncoder 实例\n",
    "le = LabelEncoder()\n",
    "\n",
    "# 转换目标变量\n",
    "y_encoded = le.fit_transform(y)\n",
    "\n",
    "# to pd.Series\n",
    "y_encoded = pd.Series(y_encoded)"
   ]
  },
  {
   "cell_type": "code",
   "execution_count": null,
   "metadata": {},
   "outputs": [],
   "source": [
    "y_encoded.value_counts(), len(y_encoded.value_counts())"
   ]
  },
  {
   "cell_type": "code",
   "execution_count": 5,
   "metadata": {},
   "outputs": [],
   "source": [
    "model_types = dict(\n",
    "    # random_forest=dict(\n",
    "    #     n_estimators=[50, 100, 200],\n",
    "    #     max_features=[None, \"sqrt\", \"log2\"],\n",
    "    #     max_depth=[None, 10, 20],\n",
    "    # ),\n",
    "    # extra_trees=dict(\n",
    "    #     n_estimators=[50, 100, 200],\n",
    "    #     max_features=[None, \"sqrt\", \"log2\"],\n",
    "    #     max_depth=[None, 10, 20],\n",
    "    # ),\n",
    "    # xgboost=dict(\n",
    "    #     objective=\"multi:softmax\",  # 多分类\n",
    "    #     num_class=15,  # 类别数量\n",
    "    #     n_estimators=[50, 100, 200],\n",
    "    #     max_depth=[None, 10, 20],\n",
    "    #     learning_rate=[0.01, 0.1, 0.2],\n",
    "    # ),\n",
    "    # lightgbm=dict(\n",
    "    #     objective=\"multiclass\",  # 多分类\n",
    "    #     metric=\"multi_logloss\",  # 多分类的损失函数\n",
    "    #     n_estimators=[50, 100, 200],\n",
    "    #     learning_rate=[0.01, 0.1, 0.2],\n",
    "    #     max_depth=[None, 10, 20],\n",
    "    #     num_leaves=31,\n",
    "    #     min_data_in_leaf=20,\n",
    "    #     feature_fraction=0.9,\n",
    "    #     early_stopping_round=10,\n",
    "    # ),\n",
    "    # catboost=dict(\n",
    "    #     iterations=[50, 100, 200],\n",
    "    #     depth=[4, 6, 8],\n",
    "    #     learning_rate=[0.01, 0.1, 0.2],\n",
    "    #     l2_leaf_reg=[1, 3, 5],\n",
    "    #     loss_function=\"MultiClass\",  # 多分类\n",
    "    #     bootstrap_type=[\"Bernoulli\", \"MVS\"],\n",
    "    # ),\n",
    "    mlp=dict(\n",
    "        hidden_size1=[64, 128, 256],\n",
    "        hidden_size2=[32, 64, 128],\n",
    "        weight_decay=[0.001, 0.0001, 1e-5],\n",
    "        output_size=14,  # 类别数量\n",
    "    ),\n",
    ")"
   ]
  },
  {
   "cell_type": "code",
   "execution_count": null,
   "metadata": {},
   "outputs": [],
   "source": [
    "results = {}\n",
    "for k, v in model_types.items():\n",
    "    print(f\"Running {k}\")\n",
    "    res, _ = random_search(\n",
    "        param_dict=v, X=X, y=y_encoded, model_type=k, suffix=\"2ap\", n_trials=10\n",
    "    )\n",
    "    results[k] = res"
   ]
  }
 ],
 "metadata": {
  "kernelspec": {
   "display_name": "myenv",
   "language": "python",
   "name": "python3"
  },
  "language_info": {
   "codemirror_mode": {
    "name": "ipython",
    "version": 3
   },
   "file_extension": ".py",
   "mimetype": "text/x-python",
   "name": "python",
   "nbconvert_exporter": "python",
   "pygments_lexer": "ipython3",
   "version": "3.11.5"
  }
 },
 "nbformat": 4,
 "nbformat_minor": 2
}
