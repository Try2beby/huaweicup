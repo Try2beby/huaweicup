{
 "cells": [
  {
   "cell_type": "code",
   "execution_count": 1,
   "metadata": {},
   "outputs": [],
   "source": [
    "import os\n",
    "\n",
    "import pandas as pd"
   ]
  },
  {
   "cell_type": "code",
   "execution_count": 2,
   "metadata": {},
   "outputs": [],
   "source": [
    "# filter files starting with a given prefix and ending with a given suffix\n",
    "def filter_files(prefix, suffix, files):\n",
    "    return [f for f in files if f.startswith(prefix) and f.endswith(suffix)]"
   ]
  },
  {
   "cell_type": "code",
   "execution_count": 3,
   "metadata": {},
   "outputs": [
    {
     "data": {
      "text/plain": [
       "['results_random_forest_3ap.xlsx',\n",
       " 'results_xgboost_3ap.xlsx',\n",
       " 'results_mlp_3ap.xlsx',\n",
       " 'results_catboost_2ap.xlsx',\n",
       " 'y_2_3ap_test_pred.csv',\n",
       " 'results_extra_trees_2ap.xlsx',\n",
       " 'results_extra_trees_3ap.xlsx',\n",
       " 'results_lightgbm_3ap.xlsx',\n",
       " 'results_xgboost_2ap.xlsx',\n",
       " 'results_mlp_2ap.xlsx',\n",
       " 'y_2_2ap_test_pred.csv',\n",
       " 'results_lightgbm_2ap.xlsx',\n",
       " 'results_random_forest_2ap.xlsx',\n",
       " 'results_catboost_3ap.xlsx']"
      ]
     },
     "execution_count": 3,
     "metadata": {},
     "output_type": "execute_result"
    }
   ],
   "source": [
    "results_dir = \"./results/\"\n",
    "files = os.listdir(results_dir)\n",
    "files"
   ]
  },
  {
   "cell_type": "code",
   "execution_count": 4,
   "metadata": {},
   "outputs": [
    {
     "data": {
      "text/plain": [
       "['results_catboost_2ap.xlsx',\n",
       " 'results_extra_trees_2ap.xlsx',\n",
       " 'results_xgboost_2ap.xlsx',\n",
       " 'results_mlp_2ap.xlsx',\n",
       " 'results_lightgbm_2ap.xlsx',\n",
       " 'results_random_forest_2ap.xlsx']"
      ]
     },
     "execution_count": 4,
     "metadata": {},
     "output_type": "execute_result"
    }
   ],
   "source": [
    "res_2ap = filter_files(\"res\", \"_2ap.xlsx\", files)\n",
    "res_2ap"
   ]
  },
  {
   "cell_type": "code",
   "execution_count": 5,
   "metadata": {},
   "outputs": [
    {
     "data": {
      "text/plain": [
       "6"
      ]
     },
     "execution_count": 5,
     "metadata": {},
     "output_type": "execute_result"
    }
   ],
   "source": [
    "import re\n",
    "\n",
    "\n",
    "def extract_model_name(filename):\n",
    "    match = re.search(r\"_(\\w+)_\", filename)\n",
    "    return match.group(1) if match else None\n",
    "\n",
    "\n",
    "data_dict = {}\n",
    "for f in res_2ap:\n",
    "    data_dict[extract_model_name(f)] = pd.read_excel(results_dir + f, sheet_name=None)\n",
    "\n",
    "len(data_dict)"
   ]
  },
  {
   "cell_type": "code",
   "execution_count": 6,
   "metadata": {},
   "outputs": [
    {
     "data": {
      "text/html": [
       "<div>\n",
       "<style scoped>\n",
       "    .dataframe tbody tr th:only-of-type {\n",
       "        vertical-align: middle;\n",
       "    }\n",
       "\n",
       "    .dataframe tbody tr th {\n",
       "        vertical-align: top;\n",
       "    }\n",
       "\n",
       "    .dataframe thead th {\n",
       "        text-align: right;\n",
       "    }\n",
       "</style>\n",
       "<table border=\"1\" class=\"dataframe\">\n",
       "  <thead>\n",
       "    <tr style=\"text-align: right;\">\n",
       "      <th></th>\n",
       "      <th>Unnamed: 0</th>\n",
       "      <th>Parameter</th>\n",
       "      <th>Value</th>\n",
       "      <th>Search List</th>\n",
       "    </tr>\n",
       "  </thead>\n",
       "  <tbody>\n",
       "    <tr>\n",
       "      <th>0</th>\n",
       "      <td>0</td>\n",
       "      <td>iterations</td>\n",
       "      <td>200</td>\n",
       "      <td>[50, 100, 200]</td>\n",
       "    </tr>\n",
       "    <tr>\n",
       "      <th>1</th>\n",
       "      <td>1</td>\n",
       "      <td>depth</td>\n",
       "      <td>8</td>\n",
       "      <td>[4, 6, 8]</td>\n",
       "    </tr>\n",
       "    <tr>\n",
       "      <th>2</th>\n",
       "      <td>2</td>\n",
       "      <td>learning_rate</td>\n",
       "      <td>0.1</td>\n",
       "      <td>[0.01, 0.1, 0.2]</td>\n",
       "    </tr>\n",
       "    <tr>\n",
       "      <th>3</th>\n",
       "      <td>3</td>\n",
       "      <td>l2_leaf_reg</td>\n",
       "      <td>3</td>\n",
       "      <td>[1, 3, 5]</td>\n",
       "    </tr>\n",
       "    <tr>\n",
       "      <th>4</th>\n",
       "      <td>4</td>\n",
       "      <td>loss_function</td>\n",
       "      <td>MultiClass</td>\n",
       "      <td>MultiClass</td>\n",
       "    </tr>\n",
       "    <tr>\n",
       "      <th>5</th>\n",
       "      <td>5</td>\n",
       "      <td>bootstrap_type</td>\n",
       "      <td>MVS</td>\n",
       "      <td>['Bernoulli', 'MVS']</td>\n",
       "    </tr>\n",
       "  </tbody>\n",
       "</table>\n",
       "</div>"
      ],
      "text/plain": [
       "   Unnamed: 0       Parameter       Value           Search List\n",
       "0           0      iterations         200        [50, 100, 200]\n",
       "1           1           depth           8             [4, 6, 8]\n",
       "2           2   learning_rate         0.1      [0.01, 0.1, 0.2]\n",
       "3           3     l2_leaf_reg           3             [1, 3, 5]\n",
       "4           4   loss_function  MultiClass            MultiClass\n",
       "5           5  bootstrap_type         MVS  ['Bernoulli', 'MVS']"
      ]
     },
     "execution_count": 6,
     "metadata": {},
     "output_type": "execute_result"
    }
   ],
   "source": [
    "data_dict[\"catboost\"][\"best_params\"]"
   ]
  },
  {
   "cell_type": "code",
   "execution_count": 7,
   "metadata": {},
   "outputs": [
    {
     "data": {
      "text/html": [
       "<div>\n",
       "<style scoped>\n",
       "    .dataframe tbody tr th:only-of-type {\n",
       "        vertical-align: middle;\n",
       "    }\n",
       "\n",
       "    .dataframe tbody tr th {\n",
       "        vertical-align: top;\n",
       "    }\n",
       "\n",
       "    .dataframe thead th {\n",
       "        text-align: right;\n",
       "    }\n",
       "</style>\n",
       "<table border=\"1\" class=\"dataframe\">\n",
       "  <thead>\n",
       "    <tr style=\"text-align: right;\">\n",
       "      <th></th>\n",
       "      <th>Unnamed: 0</th>\n",
       "      <th>train</th>\n",
       "      <th>test</th>\n",
       "    </tr>\n",
       "  </thead>\n",
       "  <tbody>\n",
       "    <tr>\n",
       "      <th>0</th>\n",
       "      <td>0</td>\n",
       "      <td>1</td>\n",
       "      <td>0.935555</td>\n",
       "    </tr>\n",
       "    <tr>\n",
       "      <th>1</th>\n",
       "      <td>1</td>\n",
       "      <td>1</td>\n",
       "      <td>0.803005</td>\n",
       "    </tr>\n",
       "    <tr>\n",
       "      <th>2</th>\n",
       "      <td>2</td>\n",
       "      <td>1</td>\n",
       "      <td>0.934498</td>\n",
       "    </tr>\n",
       "    <tr>\n",
       "      <th>3</th>\n",
       "      <td>3</td>\n",
       "      <td>1</td>\n",
       "      <td>0.876058</td>\n",
       "    </tr>\n",
       "    <tr>\n",
       "      <th>4</th>\n",
       "      <td>4</td>\n",
       "      <td>1</td>\n",
       "      <td>0.879342</td>\n",
       "    </tr>\n",
       "  </tbody>\n",
       "</table>\n",
       "</div>"
      ],
      "text/plain": [
       "   Unnamed: 0  train      test\n",
       "0           0      1  0.935555\n",
       "1           1      1  0.803005\n",
       "2           2      1  0.934498\n",
       "3           3      1  0.876058\n",
       "4           4      1  0.879342"
      ]
     },
     "execution_count": 7,
     "metadata": {},
     "output_type": "execute_result"
    }
   ],
   "source": [
    "data_dict[\"catboost\"][\"f1\"]"
   ]
  },
  {
   "cell_type": "code",
   "execution_count": 8,
   "metadata": {},
   "outputs": [
    {
     "data": {
      "text/plain": [
       "{'catboost': 0.8856915790131717,\n",
       " 'extra_trees': 0.9197021302537365,\n",
       " 'xgboost': 0.9063442300492917,\n",
       " 'mlp': 0.9014655234109729,\n",
       " 'lightgbm': 0.9015726138162133,\n",
       " 'random_forest': 0.8953561514053654}"
      ]
     },
     "execution_count": 8,
     "metadata": {},
     "output_type": "execute_result"
    }
   ],
   "source": [
    "best_mean_r2 = 0\n",
    "best_model = None\n",
    "best_params = None\n",
    "mean_r2_dict = {}\n",
    "for model, data in data_dict.items():\n",
    "    mean_r2 = data[\"f1\"][\"test\"].mean()\n",
    "    mean_r2_dict[model] = mean_r2\n",
    "    # print(f\"{model}: {mean_r2}\")\n",
    "    if mean_r2 > best_mean_r2:\n",
    "        best_mean_r2 = mean_r2\n",
    "        best_model = model\n",
    "        best_params = data[\"best_params\"].set_index(\"Parameter\")[\"Value\"].to_dict()\n",
    "\n",
    "mean_r2_dict"
   ]
  },
  {
   "cell_type": "code",
   "execution_count": 9,
   "metadata": {},
   "outputs": [],
   "source": [
    "# mean_r2_dict[\"lightgbm\"] = 0.92"
   ]
  },
  {
   "cell_type": "code",
   "execution_count": 10,
   "metadata": {},
   "outputs": [],
   "source": [
    "for k, v in best_params.items():\n",
    "    if pd.isna(v):\n",
    "        best_params[k] = None\n",
    "\n",
    "# del best_params[\"early_stopping_round\"]\n",
    "\n",
    "# best_params[\"early_stopping_round\"] = None"
   ]
  },
  {
   "cell_type": "code",
   "execution_count": 11,
   "metadata": {},
   "outputs": [
    {
     "data": {
      "text/plain": [
       "((392, 212), (64, 212))"
      ]
     },
     "execution_count": 11,
     "metadata": {},
     "output_type": "execute_result"
    }
   ],
   "source": [
    "from modeling_old import clear_column_names\n",
    "\n",
    "\n",
    "def load_data(path=\"./df_2ap_final.csv\"):\n",
    "    df = pd.read_csv(path, header=[0, 1], index_col=None)\n",
    "\n",
    "    y = df[(\"mcs_nss\", \"_\")]\n",
    "    X = df.drop(columns=[(\"mcs_nss\", \"_\")])\n",
    "\n",
    "    X.columns = clear_column_names(X)\n",
    "\n",
    "    return X, y\n",
    "\n",
    "\n",
    "X, y = load_data()\n",
    "X_test, y_test = load_data(\"./df_2_2ap_test_final.csv\")\n",
    "X.shape, X_test.shape"
   ]
  },
  {
   "cell_type": "code",
   "execution_count": 12,
   "metadata": {},
   "outputs": [],
   "source": [
    "from sklearn.preprocessing import LabelEncoder\n",
    "\n",
    "# 创建 LabelEncoder 实例\n",
    "le = LabelEncoder()\n",
    "\n",
    "# 转换目标变量\n",
    "y_encoded = le.fit_transform(y)\n",
    "\n",
    "# to pd.Series\n",
    "y_encoded = pd.Series(y_encoded)"
   ]
  },
  {
   "cell_type": "code",
   "execution_count": 13,
   "metadata": {},
   "outputs": [],
   "source": [
    "# from modeling_old import regressor_final\n",
    "\n",
    "# r = regressor_final(model_type=best_model, params=best_params, suffix=\"2ap\")\n",
    "# r.fit(X, y)"
   ]
  },
  {
   "cell_type": "code",
   "execution_count": 14,
   "metadata": {},
   "outputs": [],
   "source": [
    "# r.plot_fit_error(X, y)"
   ]
  },
  {
   "cell_type": "code",
   "execution_count": 15,
   "metadata": {},
   "outputs": [
    {
     "data": {
      "text/plain": [
       "('extra_trees',\n",
       " [('catboost',\n",
       "   {'iterations': 200,\n",
       "    'depth': 8,\n",
       "    'learning_rate': 0.1,\n",
       "    'l2_leaf_reg': 3,\n",
       "    'loss_function': 'MultiClass',\n",
       "    'bootstrap_type': 'MVS'}),\n",
       "  ('extra_trees',\n",
       "   {'n_estimators': 200, 'max_features': None, 'max_depth': 20}),\n",
       "  ('lightgbm',\n",
       "   {'objective': 'multiclass',\n",
       "    'metric': 'multi_logloss',\n",
       "    'n_estimators': 200,\n",
       "    'learning_rate': 0.2,\n",
       "    'max_depth': 10,\n",
       "    'num_leaves': 31,\n",
       "    'min_data_in_leaf': 20,\n",
       "    'feature_fraction': 0.9,\n",
       "    'early_stopping_round': None}),\n",
       "  ('random_forest',\n",
       "   {'n_estimators': 50, 'max_features': 'sqrt', 'max_depth': None}),\n",
       "  ('xgboost',\n",
       "   {'objective': 'multi:softmax',\n",
       "    'num_class': 15,\n",
       "    'n_estimators': 200,\n",
       "    'max_depth': None,\n",
       "    'learning_rate': 0.1})])"
      ]
     },
     "execution_count": 15,
     "metadata": {},
     "output_type": "execute_result"
    }
   ],
   "source": [
    "# all_best_params = {}\n",
    "# for model, data in data_dict.items():\n",
    "#     best_params = data[\"best_params\"].set_index(\"Parameter\")[\"Value\"].to_dict()\n",
    "#     for k, v in best_params.items():\n",
    "#         if pd.isna(v):\n",
    "#             best_params[k] = None\n",
    "#     all_best_params[model] = best_params\n",
    "\n",
    "# all_best_params\n",
    "\n",
    "all_best_params = {\n",
    "    \"catboost\": {\n",
    "        \"iterations\": 200,\n",
    "        \"depth\": 8,\n",
    "        \"learning_rate\": 0.1,\n",
    "        \"l2_leaf_reg\": 3,\n",
    "        \"loss_function\": \"MultiClass\",\n",
    "        \"bootstrap_type\": \"MVS\",\n",
    "    },\n",
    "    \"extra_trees\": {\"n_estimators\": 200, \"max_features\": None, \"max_depth\": 20},\n",
    "    \"xgboost\": {\n",
    "        \"objective\": \"multi:softmax\",\n",
    "        \"num_class\": 15,\n",
    "        \"n_estimators\": 200,\n",
    "        \"max_depth\": None,\n",
    "        \"learning_rate\": 0.1,\n",
    "    },\n",
    "    # \"mlp\": {\n",
    "    #     \"hidden_size1\": 256,\n",
    "    #     \"hidden_size2\": 64,\n",
    "    #     \"weight_decay\": 0.0001,\n",
    "    #     \"output_size\": 14,\n",
    "    # },\n",
    "    \"lightgbm\": {\n",
    "        \"objective\": \"multiclass\",\n",
    "        \"metric\": \"multi_logloss\",\n",
    "        \"n_estimators\": 200,\n",
    "        \"learning_rate\": 0.2,\n",
    "        \"max_depth\": 10,\n",
    "        \"num_leaves\": 31,\n",
    "        \"min_data_in_leaf\": 20,\n",
    "        \"feature_fraction\": 0.9,\n",
    "        \"early_stopping_round\": None,\n",
    "    },\n",
    "    \"random_forest\": {\"n_estimators\": 50, \"max_features\": \"sqrt\", \"max_depth\": None},\n",
    "}\n",
    "\n",
    "all_best_params_sorted = sorted(all_best_params.items(), key=lambda x: x[0])\n",
    "\n",
    "best_model, all_best_params_sorted"
   ]
  },
  {
   "cell_type": "code",
   "execution_count": 16,
   "metadata": {},
   "outputs": [],
   "source": [
    "from modeling_old import model_selection\n",
    "\n",
    "model, _ = model_selection(\n",
    "    model_type=best_model,\n",
    "    params=all_best_params[best_model],\n",
    "    random_state=42,\n",
    "    input_size=X.shape[1],\n",
    ")\n",
    "\n",
    "model.fit(X, y_encoded)\n",
    "\n",
    "y_test_pred = model.predict(X_test)\n",
    "y_test_pred = le.inverse_transform(y_test_pred)\n",
    "\n",
    "# save predictions\n",
    "y_test_pred = pd.Series(y_test_pred, name=\"mcs_nss\")\n",
    "\n",
    "df = pd.DataFrame()\n",
    "df[[\"mcs\", \"nss\"]] = y_test_pred.str.split(\"_\", expand=True).astype(int)\n",
    "\n",
    "df.to_csv(\"./results/y_2_2ap_test_pred.csv\", index=False)"
   ]
  },
  {
   "cell_type": "code",
   "execution_count": null,
   "metadata": {},
   "outputs": [],
   "source": [
    "# import matplotlib.pyplot as plt\n",
    "# import numpy as np\n",
    "# import pandas as pd\n",
    "# from matplotlib_inline import backend_inline\n",
    "# from modeling_old import model_selection, process_X\n",
    "# from sklearn.metrics import ConfusionMatrixDisplay, confusion_matrix\n",
    "\n",
    "# backend_inline.set_matplotlib_formats(\"svg\")\n",
    "\n",
    "# # 设置图形的布局\n",
    "# num_models = len(all_best_params)\n",
    "# cols = 2  # 每行2个子图\n",
    "# rows = (num_models + cols - 1) // cols  # 计算行数\n",
    "\n",
    "# plt.figure(figsize=(10, 6 * rows))\n",
    "\n",
    "# for i, (model_type, params) in enumerate(all_best_params_sorted):\n",
    "#     model, _ = model_selection(\n",
    "#         model_type=model_type, params=params, random_state=42, input_size=X.shape[1]\n",
    "#     )\n",
    "\n",
    "#     X = process_X(X, model_type=model_type)\n",
    "#     model.fit(X, y_encoded)\n",
    "\n",
    "#     y_pred = model.predict(X)\n",
    "\n",
    "#     # 计算混淆矩阵\n",
    "#     cm = confusion_matrix(y_encoded, y_pred)\n",
    "\n",
    "#     # 创建子图\n",
    "#     ax = plt.subplot(rows, cols, i + 1)\n",
    "#     disp = ConfusionMatrixDisplay(confusion_matrix=cm, display_labels=np.unique(y))\n",
    "#     disp.plot(ax=ax, cmap=plt.cm.Blues, values_format=\"d\")\n",
    "\n",
    "#     # 设置横轴标度旋转45度\n",
    "#     plt.xticks(rotation=45)\n",
    "\n",
    "#     ax.set_title(f\"{model.__class__.__name__} MEAN F1: {mean_r2_dict[model_type]:.2f}\")\n",
    "\n",
    "# # 调整布局\n",
    "# plt.tight_layout()\n",
    "\n",
    "# # 保存图形\n",
    "# plt.savefig(\"./fig/q2_2ap_train_confusion_matrix.svg\")\n",
    "# plt.show()"
   ]
  }
 ],
 "metadata": {
  "kernelspec": {
   "display_name": "base",
   "language": "python",
   "name": "python3"
  },
  "language_info": {
   "codemirror_mode": {
    "name": "ipython",
    "version": 3
   },
   "file_extension": ".py",
   "mimetype": "text/x-python",
   "name": "python",
   "nbconvert_exporter": "python",
   "pygments_lexer": "ipython3",
   "version": "3.11.5"
  }
 },
 "nbformat": 4,
 "nbformat_minor": 2
}
