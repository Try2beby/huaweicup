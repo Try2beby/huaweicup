{
 "cells": [
  {
   "cell_type": "code",
   "execution_count": 1,
   "metadata": {},
   "outputs": [],
   "source": [
    "import os\n",
    "\n",
    "import pandas as pd"
   ]
  },
  {
   "cell_type": "code",
   "execution_count": 2,
   "metadata": {},
   "outputs": [],
   "source": [
    "# filter files starting with a given prefix and ending with a given suffix\n",
    "def filter_files(prefix, suffix, files):\n",
    "    return [f for f in files if f.startswith(prefix) and f.endswith(suffix)]"
   ]
  },
  {
   "cell_type": "code",
   "execution_count": null,
   "metadata": {},
   "outputs": [],
   "source": [
    "results_dir = \"./results/\"\n",
    "files = os.listdir(results_dir)\n",
    "files"
   ]
  },
  {
   "cell_type": "code",
   "execution_count": null,
   "metadata": {},
   "outputs": [],
   "source": [
    "res_2ap = filter_files(\"res\", \"_2ap.xlsx\", files)\n",
    "res_2ap"
   ]
  },
  {
   "cell_type": "code",
   "execution_count": null,
   "metadata": {},
   "outputs": [],
   "source": [
    "import re\n",
    "\n",
    "\n",
    "def extract_model_name(filename):\n",
    "    match = re.search(r\"_(\\w+)_\", filename)\n",
    "    return match.group(1) if match else None\n",
    "\n",
    "\n",
    "data_dict = {}\n",
    "for f in res_2ap:\n",
    "    data_dict[extract_model_name(f)] = pd.read_excel(results_dir + f, sheet_name=None)\n",
    "\n",
    "len(data_dict)"
   ]
  },
  {
   "cell_type": "code",
   "execution_count": null,
   "metadata": {},
   "outputs": [],
   "source": [
    "data_dict[\"catboost\"][\"best_params\"]"
   ]
  },
  {
   "cell_type": "code",
   "execution_count": null,
   "metadata": {},
   "outputs": [],
   "source": [
    "data_dict[\"catboost\"][\"f1\"]"
   ]
  },
  {
   "cell_type": "code",
   "execution_count": null,
   "metadata": {},
   "outputs": [],
   "source": [
    "best_mean_r2 = 0\n",
    "best_model = None\n",
    "best_params = None\n",
    "mean_r2_dict = {}\n",
    "for model, data in data_dict.items():\n",
    "    mean_r2 = data[\"f1\"][\"test\"].mean()\n",
    "    mean_r2_dict[model] = mean_r2\n",
    "    # print(f\"{model}: {mean_r2}\")\n",
    "    if mean_r2 > best_mean_r2:\n",
    "        best_mean_r2 = mean_r2\n",
    "        best_model = model\n",
    "        best_params = data[\"best_params\"].set_index(\"Parameter\")[\"Value\"].to_dict()\n",
    "\n",
    "mean_r2_dict"
   ]
  },
  {
   "cell_type": "code",
   "execution_count": 9,
   "metadata": {},
   "outputs": [],
   "source": [
    "# mean_r2_dict[\"lightgbm\"] = 0.92"
   ]
  },
  {
   "cell_type": "code",
   "execution_count": 10,
   "metadata": {},
   "outputs": [],
   "source": [
    "for k, v in best_params.items():\n",
    "    if pd.isna(v):\n",
    "        best_params[k] = None\n",
    "\n",
    "# del best_params[\"early_stopping_round\"]\n",
    "\n",
    "# best_params[\"early_stopping_round\"] = None"
   ]
  },
  {
   "cell_type": "code",
   "execution_count": null,
   "metadata": {},
   "outputs": [],
   "source": [
    "from modeling_old import clear_column_names\n",
    "\n",
    "\n",
    "def load_data(path=\"./df_2ap_final.csv\"):\n",
    "    df = pd.read_csv(path, header=[0, 1], index_col=None)\n",
    "\n",
    "    y = df[(\"mcs_nss\", \"_\")]\n",
    "    X = df.drop(columns=[(\"mcs_nss\", \"_\")])\n",
    "\n",
    "    X.columns = clear_column_names(X)\n",
    "\n",
    "    return X, y\n",
    "\n",
    "\n",
    "X, y = load_data()\n",
    "X_test, y_test = load_data(\"./df_2_2ap_test_final.csv\")\n",
    "X.shape, X_test.shape"
   ]
  },
  {
   "cell_type": "code",
   "execution_count": 12,
   "metadata": {},
   "outputs": [],
   "source": [
    "from sklearn.preprocessing import LabelEncoder\n",
    "\n",
    "# 创建 LabelEncoder 实例\n",
    "le = LabelEncoder()\n",
    "\n",
    "# 转换目标变量\n",
    "y_encoded = le.fit_transform(y)\n",
    "\n",
    "# to pd.Series\n",
    "y_encoded = pd.Series(y_encoded)"
   ]
  },
  {
   "cell_type": "code",
   "execution_count": 13,
   "metadata": {},
   "outputs": [],
   "source": [
    "# from modeling_old import regressor_final\n",
    "\n",
    "# r = regressor_final(model_type=best_model, params=best_params, suffix=\"2ap\")\n",
    "# r.fit(X, y)"
   ]
  },
  {
   "cell_type": "code",
   "execution_count": 14,
   "metadata": {},
   "outputs": [],
   "source": [
    "# r.plot_fit_error(X, y)"
   ]
  },
  {
   "cell_type": "code",
   "execution_count": null,
   "metadata": {},
   "outputs": [],
   "source": [
    "# all_best_params = {}\n",
    "# for model, data in data_dict.items():\n",
    "#     best_params = data[\"best_params\"].set_index(\"Parameter\")[\"Value\"].to_dict()\n",
    "#     for k, v in best_params.items():\n",
    "#         if pd.isna(v):\n",
    "#             best_params[k] = None\n",
    "#     all_best_params[model] = best_params\n",
    "\n",
    "# all_best_params\n",
    "\n",
    "all_best_params = {\n",
    "    \"catboost\": {\n",
    "        \"iterations\": 200,\n",
    "        \"depth\": 8,\n",
    "        \"learning_rate\": 0.1,\n",
    "        \"l2_leaf_reg\": 3,\n",
    "        \"loss_function\": \"MultiClass\",\n",
    "        \"bootstrap_type\": \"MVS\",\n",
    "    },\n",
    "    \"extra_trees\": {\"n_estimators\": 200, \"max_features\": None, \"max_depth\": 20},\n",
    "    \"xgboost\": {\n",
    "        \"objective\": \"multi:softmax\",\n",
    "        \"num_class\": 15,\n",
    "        \"n_estimators\": 200,\n",
    "        \"max_depth\": None,\n",
    "        \"learning_rate\": 0.1,\n",
    "    },\n",
    "    # \"mlp\": {\n",
    "    #     \"hidden_size1\": 256,\n",
    "    #     \"hidden_size2\": 64,\n",
    "    #     \"weight_decay\": 0.0001,\n",
    "    #     \"output_size\": 14,\n",
    "    # },\n",
    "    \"lightgbm\": {\n",
    "        \"objective\": \"multiclass\",\n",
    "        \"metric\": \"multi_logloss\",\n",
    "        \"n_estimators\": 200,\n",
    "        \"learning_rate\": 0.2,\n",
    "        \"max_depth\": 10,\n",
    "        \"num_leaves\": 31,\n",
    "        \"min_data_in_leaf\": 20,\n",
    "        \"feature_fraction\": 0.9,\n",
    "        \"early_stopping_round\": None,\n",
    "    },\n",
    "    \"random_forest\": {\"n_estimators\": 50, \"max_features\": \"sqrt\", \"max_depth\": None},\n",
    "}\n",
    "\n",
    "all_best_params_sorted = sorted(all_best_params.items(), key=lambda x: x[0])\n",
    "\n",
    "best_model, all_best_params_sorted"
   ]
  },
  {
   "cell_type": "code",
   "execution_count": 22,
   "metadata": {},
   "outputs": [],
   "source": [
    "# X[\"mcs_nss\"]"
   ]
  },
  {
   "cell_type": "code",
   "execution_count": null,
   "metadata": {},
   "outputs": [],
   "source": [
    "import matplotlib.pyplot as plt\n",
    "import numpy as np\n",
    "import pandas as pd\n",
    "from matplotlib_inline import backend_inline\n",
    "from modeling_old import model_selection, process_X\n",
    "from sklearn.metrics import ConfusionMatrixDisplay, confusion_matrix\n",
    "\n",
    "backend_inline.set_matplotlib_formats(\"svg\")\n",
    "\n",
    "# 设置图形的布局\n",
    "num_models = len(all_best_params)\n",
    "cols = 2  # 每行2个子图\n",
    "rows = (num_models + cols - 1) // cols  # 计算行数\n",
    "\n",
    "plt.figure(figsize=(10, 6 * rows))\n",
    "\n",
    "for i, (model_type, params) in enumerate(all_best_params_sorted):\n",
    "    model, _ = model_selection(\n",
    "        model_type=model_type, params=params, random_state=42, input_size=X.shape[1]\n",
    "    )\n",
    "\n",
    "    X = process_X(X, model_type=model_type)\n",
    "    model.fit(X, y_encoded)\n",
    "\n",
    "    y_pred = model.predict(X)\n",
    "\n",
    "    # 计算混淆矩阵\n",
    "    cm = confusion_matrix(y_encoded, y_pred)\n",
    "\n",
    "    # 创建子图\n",
    "    ax = plt.subplot(rows, cols, i + 1)\n",
    "    disp = ConfusionMatrixDisplay(confusion_matrix=cm, display_labels=np.unique(y))\n",
    "    disp.plot(ax=ax, cmap=plt.cm.Blues, values_format=\"d\")\n",
    "\n",
    "    # 设置横轴标度旋转45度\n",
    "    plt.xticks(rotation=45)\n",
    "\n",
    "    ax.set_title(f\"{model.__class__.__name__} MEAN F1: {mean_r2_dict[model_type]:.2f}\")\n",
    "\n",
    "# 调整布局\n",
    "plt.tight_layout()\n",
    "\n",
    "# 保存图形\n",
    "plt.savefig(\"./fig/q2_2ap_train_confusion_matrix.svg\")\n",
    "plt.show()"
   ]
  }
 ],
 "metadata": {
  "kernelspec": {
   "display_name": "base",
   "language": "python",
   "name": "python3"
  },
  "language_info": {
   "codemirror_mode": {
    "name": "ipython",
    "version": 3
   },
   "file_extension": ".py",
   "mimetype": "text/x-python",
   "name": "python",
   "nbconvert_exporter": "python",
   "pygments_lexer": "ipython3",
   "version": "3.11.5"
  }
 },
 "nbformat": 4,
 "nbformat_minor": 2
}
