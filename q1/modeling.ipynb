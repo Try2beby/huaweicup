{
 "cells": [
  {
   "cell_type": "code",
   "execution_count": 1,
   "metadata": {},
   "outputs": [],
   "source": [
    "import pandas as pd\n",
    "from modeling import regressor"
   ]
  },
  {
   "cell_type": "code",
   "execution_count": 2,
   "metadata": {},
   "outputs": [
    {
     "name": "stdout",
     "output_type": "stream",
     "text": [
      "(392, 219)\n"
     ]
    }
   ],
   "source": [
    "df = pd.read_csv(\"./df_2ap_final.csv\", header=[0, 1], index_col=None)\n",
    "\n",
    "y = df[(\"seq_time\", \"_\")]\n",
    "X = df.drop(columns=[(\"seq_time\", \"_\")])\n",
    "\n",
    "print(X.shape)"
   ]
  },
  {
   "cell_type": "code",
   "execution_count": 3,
   "metadata": {},
   "outputs": [
    {
     "name": "stdout",
     "output_type": "stream",
     "text": [
      "Mean Squared Error (MSE) scores: [12.757067143291122, 9.049018252151873, 6.980241832820509, 16.771110021153852, 21.621520449871813]\n",
      "Average MSE: 13.435791539857835\n",
      "R^2 scores: [0.8796437931016838, 0.917626121891919, 0.9308743596508336, 0.8465463484689627, 0.8146314189896948]\n",
      "Average R^2: 0.8778644084206189\n",
      "\n",
      "SHAP Values:\n",
      "                                             Feature  SHAP Value\n",
      "204              (ap_from_ap_mean_rssi, nav_percent)    0.607533\n",
      "209                        (('loc_id', '_')_loc1, _)    0.047343\n",
      "26                  (sta_to_ap_0_mean_ant_rssi, min)    0.017620\n",
      "203     (ap_from_ap_mean_rssi, wavelet_coefficients)    0.005227\n",
      "20   (sta_to_ap_0_max_ant_rssi, approximate_entropy)    0.003667\n",
      "..                                               ...         ...\n",
      "200      (ap_from_ap_mean_rssi, approximate_entropy)   -0.020241\n",
      "205                  (ap_from_ap_max_rssi, in_pd_ed)   -0.021122\n",
      "31                  (sta_to_ap_0_mean_ant_rssi, var)   -0.023665\n",
      "3                                          (eirp, _)   -0.024400\n",
      "190                     (ap_from_ap_mean_rssi, mean)   -0.407058\n",
      "\n",
      "[219 rows x 2 columns]\n",
      "\n",
      "Feature Importances:\n",
      "                                 Feature    Importance\n",
      "204  (ap_from_ap_mean_rssi, nav_percent)  8.508129e-01\n",
      "209            (('loc_id', '_')_loc1, _)  2.110289e-02\n",
      "190         (ap_from_ap_mean_rssi, mean)  1.290555e-02\n",
      "211           (('protocol', '_')_tcp, _)  9.027344e-03\n",
      "212           (('protocol', '_')_udp, _)  8.998313e-03\n",
      "..                                   ...           ...\n",
      "213  (('ap_mac', '_')_6c14-6ef5-9510, _)  2.238049e-06\n",
      "216           (('sta_mac', '_')_6d53, _)  7.857838e-07\n",
      "217           (('sta_mac', '_')_8889, _)  5.240513e-07\n",
      "1                                (ed, _)  0.000000e+00\n",
      "0                                (pd, _)  0.000000e+00\n",
      "\n",
      "[219 rows x 2 columns]\n"
     ]
    }
   ],
   "source": [
    "res_rf = regressor(X, y, model_type=\"random_forest\")"
   ]
  },
  {
   "cell_type": "code",
   "execution_count": 4,
   "metadata": {},
   "outputs": [
    {
     "name": "stdout",
     "output_type": "stream",
     "text": [
      "Mean Squared Error (MSE) scores: [15.04133339164954, 10.189587461139103, 7.733381691023927, 16.316817568923096, 17.888756503600664]\n",
      "Average MSE: 13.433975323267266\n",
      "R^2 scores: [0.858092944610395, 0.9072434365688342, 0.9234159826751244, 0.8507030700914354, 0.8466336621978412]\n",
      "Average R^2: 0.877217819228726\n",
      "\n",
      "SHAP Values:\n",
      "                                               Feature  SHAP Value\n",
      "204                (ap_from_ap_mean_rssi, nav_percent)    0.570451\n",
      "122  (sta_from_ap_0_mean_ant_rssi, fourier_coeffici...    0.017466\n",
      "26                    (sta_to_ap_0_mean_ant_rssi, min)    0.014018\n",
      "140  (sta_from_ap_1_max_ant_rssi, approximate_entropy)    0.012864\n",
      "203       (ap_from_ap_mean_rssi, wavelet_coefficients)    0.011770\n",
      "..                                                 ...         ...\n",
      "71                    (sta_to_ap_1_mean_ant_rssi, var)   -0.019748\n",
      "73               (sta_to_ap_1_mean_ant_rssi, skewness)   -0.022967\n",
      "31                    (sta_to_ap_0_mean_ant_rssi, var)   -0.023414\n",
      "170                        (ap_from_ap_max_rssi, mean)   -0.052339\n",
      "190                       (ap_from_ap_mean_rssi, mean)   -0.402678\n",
      "\n",
      "[219 rows x 2 columns]\n",
      "\n",
      "Feature Importances:\n",
      "                                               Feature  Importance\n",
      "204                (ap_from_ap_mean_rssi, nav_percent)    0.486315\n",
      "209                          (('loc_id', '_')_loc1, _)    0.058177\n",
      "205                    (ap_from_ap_max_rssi, in_pd_ed)    0.027174\n",
      "190                       (ap_from_ap_mean_rssi, mean)    0.025102\n",
      "43   (sta_to_ap_0_mean_ant_rssi, wavelet_coefficients)    0.022809\n",
      "..                                                 ...         ...\n",
      "125                  (sta_from_ap_1_max_ant_rssi, max)    0.000000\n",
      "123  (sta_from_ap_0_mean_ant_rssi, wavelet_coeffici...    0.000000\n",
      "121    (sta_from_ap_0_mean_ant_rssi, grouping_entropy)    0.000000\n",
      "119     (sta_from_ap_0_mean_ant_rssi, autocorrelation)    0.000000\n",
      "82   (sta_to_ap_1_mean_ant_rssi, fourier_coefficients)    0.000000\n",
      "\n",
      "[219 rows x 2 columns]\n"
     ]
    }
   ],
   "source": [
    "res_xgb = regressor(X, y, model_type=\"xgboost\")"
   ]
  },
  {
   "cell_type": "code",
   "execution_count": 5,
   "metadata": {},
   "outputs": [
    {
     "name": "stdout",
     "output_type": "stream",
     "text": [
      "Mean Squared Error (MSE) scores: [69.19438886450537, 92.38378197423144, 77.87577547347989, 94.57907976507765, 85.13706453293392]\n",
      "Average MSE: 83.83401812204565\n",
      "R^2 scores: [0.3471873990442549, 0.15902364395174162, 0.22879278738155107, 0.13461272807285063, 0.27009125558761027]\n",
      "Average R^2: 0.22794156280760172\n",
      "svr model does not support feature importance.\n"
     ]
    }
   ],
   "source": [
    "res_svr = regressor(X, y, model_type=\"svr\")"
   ]
  },
  {
   "cell_type": "code",
   "execution_count": 6,
   "metadata": {},
   "outputs": [
    {
     "name": "stderr",
     "output_type": "stream",
     "text": [
      "/data/twh/code/huaweicup/q1/modeling.py:16: FutureWarning: Downcasting behavior in `replace` is deprecated and will be removed in a future version. To retain the old behavior, explicitly call `result.infer_objects(copy=False)`. To opt-in to the future behavior, set `pd.set_option('future.no_silent_downcasting', True)`\n",
      "  X = X.replace({True: 1, False: 0})\n"
     ]
    },
    {
     "name": "stdout",
     "output_type": "stream",
     "text": [
      "Epoch [20/600], Loss: 22.444851\n",
      "Epoch [40/600], Loss: 9.269837\n",
      "Epoch [60/600], Loss: 5.671462\n",
      "Epoch [80/600], Loss: 4.340784\n",
      "Epoch [100/600], Loss: 3.826522\n",
      "Epoch [120/600], Loss: 3.097945\n",
      "Epoch [140/600], Loss: 2.771935\n",
      "Epoch [160/600], Loss: 2.424123\n",
      "Epoch [180/600], Loss: 2.014868\n",
      "Epoch [200/600], Loss: 1.691339\n",
      "Epoch [220/600], Loss: 1.683904\n",
      "Epoch [240/600], Loss: 1.594347\n",
      "Epoch [260/600], Loss: 1.602752\n",
      "Epoch [280/600], Loss: 1.538198\n",
      "Epoch [300/600], Loss: 1.506433\n",
      "Epoch [320/600], Loss: 1.503500\n",
      "Epoch [340/600], Loss: 1.462125\n",
      "Epoch [360/600], Loss: 1.371884\n",
      "Epoch [380/600], Loss: 1.329896\n",
      "Epoch [400/600], Loss: 1.300335\n",
      "Epoch [420/600], Loss: 1.331096\n",
      "Epoch [440/600], Loss: 1.286476\n",
      "Epoch [460/600], Loss: 1.272536\n",
      "Epoch [480/600], Loss: 1.283102\n",
      "Epoch [500/600], Loss: 1.277668\n",
      "Epoch [520/600], Loss: 1.260666\n",
      "Epoch [540/600], Loss: 1.255806\n",
      "Epoch [560/600], Loss: 1.309019\n",
      "Epoch [580/600], Loss: 1.296911\n",
      "Epoch [600/600], Loss: 1.250229\n"
     ]
    },
    {
     "name": "stderr",
     "output_type": "stream",
     "text": [
      "/data/twh/code/huaweicup/q1/modeling.py:16: FutureWarning: Downcasting behavior in `replace` is deprecated and will be removed in a future version. To retain the old behavior, explicitly call `result.infer_objects(copy=False)`. To opt-in to the future behavior, set `pd.set_option('future.no_silent_downcasting', True)`\n",
      "  X = X.replace({True: 1, False: 0})\n",
      "/data/twh/code/huaweicup/q1/modeling.py:16: FutureWarning: Downcasting behavior in `replace` is deprecated and will be removed in a future version. To retain the old behavior, explicitly call `result.infer_objects(copy=False)`. To opt-in to the future behavior, set `pd.set_option('future.no_silent_downcasting', True)`\n",
      "  X = X.replace({True: 1, False: 0})\n"
     ]
    },
    {
     "name": "stdout",
     "output_type": "stream",
     "text": [
      "Epoch [20/600], Loss: 1.157127\n",
      "Epoch [40/600], Loss: 0.772140\n",
      "Epoch [60/600], Loss: 0.246714\n",
      "Epoch [80/600], Loss: 0.061676\n",
      "Epoch [100/600], Loss: 0.038550\n",
      "Epoch [120/600], Loss: 0.225393\n",
      "Epoch [140/600], Loss: 0.015637\n",
      "Epoch [160/600], Loss: 0.016388\n",
      "Epoch [180/600], Loss: 0.163438\n",
      "Epoch [200/600], Loss: 0.249912\n",
      "Epoch [220/600], Loss: 0.002832\n",
      "Epoch [240/600], Loss: 0.000826\n",
      "Epoch [260/600], Loss: 0.000332\n",
      "Epoch [280/600], Loss: 0.000156\n",
      "Epoch [300/600], Loss: 0.000082\n",
      "Epoch [320/600], Loss: 0.000044\n",
      "Epoch [340/600], Loss: 0.000026\n",
      "Epoch [360/600], Loss: 0.000016\n",
      "Epoch [380/600], Loss: 0.000010\n",
      "Epoch [400/600], Loss: 0.000006\n",
      "Epoch [420/600], Loss: 0.000005\n",
      "Epoch [440/600], Loss: 0.000005\n",
      "Epoch [460/600], Loss: 0.000005\n",
      "Epoch [480/600], Loss: 0.000005\n",
      "Epoch [500/600], Loss: 0.000004\n",
      "Epoch [520/600], Loss: 0.000004\n",
      "Epoch [540/600], Loss: 0.000004\n",
      "Epoch [560/600], Loss: 0.000004\n",
      "Epoch [580/600], Loss: 0.000003\n",
      "Epoch [600/600], Loss: 0.000003\n"
     ]
    },
    {
     "name": "stderr",
     "output_type": "stream",
     "text": [
      "/data/twh/code/huaweicup/q1/modeling.py:16: FutureWarning: Downcasting behavior in `replace` is deprecated and will be removed in a future version. To retain the old behavior, explicitly call `result.infer_objects(copy=False)`. To opt-in to the future behavior, set `pd.set_option('future.no_silent_downcasting', True)`\n",
      "  X = X.replace({True: 1, False: 0})\n",
      "/data/twh/code/huaweicup/q1/modeling.py:16: FutureWarning: Downcasting behavior in `replace` is deprecated and will be removed in a future version. To retain the old behavior, explicitly call `result.infer_objects(copy=False)`. To opt-in to the future behavior, set `pd.set_option('future.no_silent_downcasting', True)`\n",
      "  X = X.replace({True: 1, False: 0})\n"
     ]
    },
    {
     "name": "stdout",
     "output_type": "stream",
     "text": [
      "Epoch [20/600], Loss: 0.133373\n",
      "Epoch [40/600], Loss: 0.045936\n",
      "Epoch [60/600], Loss: 0.018645\n",
      "Epoch [80/600], Loss: 0.090852\n",
      "Epoch [100/600], Loss: 0.323569\n",
      "Epoch [120/600], Loss: 0.124703\n",
      "Epoch [140/600], Loss: 0.079066\n",
      "Epoch [160/600], Loss: 0.265827\n",
      "Epoch [180/600], Loss: 0.183782\n",
      "Epoch [200/600], Loss: 0.036119\n",
      "Epoch [220/600], Loss: 0.000489\n",
      "Epoch [240/600], Loss: 0.000169\n",
      "Epoch [260/600], Loss: 0.000080\n",
      "Epoch [280/600], Loss: 0.000043\n",
      "Epoch [300/600], Loss: 0.000025\n",
      "Epoch [320/600], Loss: 0.000016\n",
      "Epoch [340/600], Loss: 0.000010\n",
      "Epoch [360/600], Loss: 0.000007\n",
      "Epoch [380/600], Loss: 0.000004\n",
      "Epoch [400/600], Loss: 0.000003\n",
      "Epoch [420/600], Loss: 0.000002\n",
      "Epoch [440/600], Loss: 0.000003\n",
      "Epoch [460/600], Loss: 0.000002\n",
      "Epoch [480/600], Loss: 0.000002\n",
      "Epoch [500/600], Loss: 0.000002\n",
      "Epoch [520/600], Loss: 0.000002\n",
      "Epoch [540/600], Loss: 0.000002\n",
      "Epoch [560/600], Loss: 0.000002\n",
      "Epoch [580/600], Loss: 0.000002\n",
      "Epoch [600/600], Loss: 0.000002\n"
     ]
    },
    {
     "name": "stderr",
     "output_type": "stream",
     "text": [
      "/data/twh/code/huaweicup/q1/modeling.py:16: FutureWarning: Downcasting behavior in `replace` is deprecated and will be removed in a future version. To retain the old behavior, explicitly call `result.infer_objects(copy=False)`. To opt-in to the future behavior, set `pd.set_option('future.no_silent_downcasting', True)`\n",
      "  X = X.replace({True: 1, False: 0})\n",
      "/data/twh/code/huaweicup/q1/modeling.py:16: FutureWarning: Downcasting behavior in `replace` is deprecated and will be removed in a future version. To retain the old behavior, explicitly call `result.infer_objects(copy=False)`. To opt-in to the future behavior, set `pd.set_option('future.no_silent_downcasting', True)`\n",
      "  X = X.replace({True: 1, False: 0})\n"
     ]
    },
    {
     "name": "stdout",
     "output_type": "stream",
     "text": [
      "Epoch [20/600], Loss: 0.008464\n",
      "Epoch [40/600], Loss: 0.000741\n",
      "Epoch [60/600], Loss: 0.000946\n",
      "Epoch [80/600], Loss: 0.007540\n",
      "Epoch [100/600], Loss: 0.080184\n",
      "Epoch [120/600], Loss: 0.230560\n",
      "Epoch [140/600], Loss: 0.075276\n",
      "Epoch [160/600], Loss: 0.030193\n",
      "Epoch [180/600], Loss: 0.028776\n",
      "Epoch [200/600], Loss: 0.002755\n",
      "Epoch [220/600], Loss: 0.000043\n",
      "Epoch [240/600], Loss: 0.000014\n",
      "Epoch [260/600], Loss: 0.000006\n",
      "Epoch [280/600], Loss: 0.000003\n",
      "Epoch [300/600], Loss: 0.000002\n",
      "Epoch [320/600], Loss: 0.000001\n",
      "Epoch [340/600], Loss: 0.000001\n",
      "Epoch [360/600], Loss: 0.000000\n",
      "Epoch [380/600], Loss: 0.000000\n",
      "Epoch [400/600], Loss: 0.000000\n",
      "Epoch [420/600], Loss: 0.000000\n",
      "Epoch [440/600], Loss: 0.000000\n",
      "Epoch [460/600], Loss: 0.000000\n",
      "Epoch [480/600], Loss: 0.000000\n",
      "Epoch [500/600], Loss: 0.000000\n",
      "Epoch [520/600], Loss: 0.000000\n",
      "Epoch [540/600], Loss: 0.000000\n",
      "Epoch [560/600], Loss: 0.000000\n",
      "Epoch [580/600], Loss: 0.000000\n",
      "Epoch [600/600], Loss: 0.000000\n"
     ]
    },
    {
     "name": "stderr",
     "output_type": "stream",
     "text": [
      "/data/twh/code/huaweicup/q1/modeling.py:16: FutureWarning: Downcasting behavior in `replace` is deprecated and will be removed in a future version. To retain the old behavior, explicitly call `result.infer_objects(copy=False)`. To opt-in to the future behavior, set `pd.set_option('future.no_silent_downcasting', True)`\n",
      "  X = X.replace({True: 1, False: 0})\n",
      "/data/twh/code/huaweicup/q1/modeling.py:16: FutureWarning: Downcasting behavior in `replace` is deprecated and will be removed in a future version. To retain the old behavior, explicitly call `result.infer_objects(copy=False)`. To opt-in to the future behavior, set `pd.set_option('future.no_silent_downcasting', True)`\n",
      "  X = X.replace({True: 1, False: 0})\n"
     ]
    },
    {
     "name": "stdout",
     "output_type": "stream",
     "text": [
      "Epoch [20/600], Loss: 0.005758\n",
      "Epoch [40/600], Loss: 0.004769\n",
      "Epoch [60/600], Loss: 0.137915\n",
      "Epoch [80/600], Loss: 0.235443\n",
      "Epoch [100/600], Loss: 0.006245\n",
      "Epoch [120/600], Loss: 0.013618\n",
      "Epoch [140/600], Loss: 0.007525\n",
      "Epoch [160/600], Loss: 0.014826\n",
      "Epoch [180/600], Loss: 0.530041\n",
      "Epoch [200/600], Loss: 0.237678\n",
      "Epoch [220/600], Loss: 0.004057\n",
      "Epoch [240/600], Loss: 0.001706\n",
      "Epoch [260/600], Loss: 0.000904\n",
      "Epoch [280/600], Loss: 0.000524\n",
      "Epoch [300/600], Loss: 0.000335\n",
      "Epoch [320/600], Loss: 0.000213\n",
      "Epoch [340/600], Loss: 0.000135\n",
      "Epoch [360/600], Loss: 0.000088\n",
      "Epoch [380/600], Loss: 0.000058\n",
      "Epoch [400/600], Loss: 0.000037\n",
      "Epoch [420/600], Loss: 0.000033\n",
      "Epoch [440/600], Loss: 0.000031\n",
      "Epoch [460/600], Loss: 0.000031\n",
      "Epoch [480/600], Loss: 0.000028\n",
      "Epoch [500/600], Loss: 0.000027\n",
      "Epoch [520/600], Loss: 0.000025\n",
      "Epoch [540/600], Loss: 0.000024\n",
      "Epoch [560/600], Loss: 0.000022\n",
      "Epoch [580/600], Loss: 0.000021\n",
      "Epoch [600/600], Loss: 0.000020\n"
     ]
    },
    {
     "name": "stderr",
     "output_type": "stream",
     "text": [
      "/data/twh/code/huaweicup/q1/modeling.py:16: FutureWarning: Downcasting behavior in `replace` is deprecated and will be removed in a future version. To retain the old behavior, explicitly call `result.infer_objects(copy=False)`. To opt-in to the future behavior, set `pd.set_option('future.no_silent_downcasting', True)`\n",
      "  X = X.replace({True: 1, False: 0})\n",
      "/data/twh/code/huaweicup/q1/modeling.py:16: FutureWarning: Downcasting behavior in `replace` is deprecated and will be removed in a future version. To retain the old behavior, explicitly call `result.infer_objects(copy=False)`. To opt-in to the future behavior, set `pd.set_option('future.no_silent_downcasting', True)`\n",
      "  X = X.replace({True: 1, False: 0})\n"
     ]
    },
    {
     "name": "stdout",
     "output_type": "stream",
     "text": [
      "Mean Squared Error (MSE) scores: [14.590332502940248, 8.002015972198523, 1.4999333487433741, 0.34167927394226916, 13.896043119508617]\n",
      "Average MSE: 7.666000843466607\n",
      "R^2 scores: [0.8500605597097928, 0.9290811636932913, 0.9862882267159485, 0.9966600786751437, 0.8891720958065606]\n",
      "Average R^2: 0.9302524249201474\n",
      "\n",
      "SHAP Values:\n",
      "                                            Feature  SHAP Value\n",
      "98                (sta_from_ap_0_max_ant_rssi, snr)  292.699956\n",
      "138               (sta_from_ap_1_max_ant_rssi, snr)   54.649463\n",
      "198                     (ap_from_ap_mean_rssi, snr)    4.503363\n",
      "51                  (sta_to_ap_1_max_ant_rssi, var)    0.303345\n",
      "35   (sta_to_ap_0_mean_ant_rssi, sum_absolute_diff)    0.240751\n",
      "..                                              ...         ...\n",
      "78                 (sta_to_ap_1_mean_ant_rssi, snr)   -3.846364\n",
      "38                 (sta_to_ap_0_mean_ant_rssi, snr)   -4.906909\n",
      "18                  (sta_to_ap_0_max_ant_rssi, snr)   -5.337083\n",
      "158              (sta_from_ap_1_mean_ant_rssi, snr) -229.982381\n",
      "118              (sta_from_ap_0_mean_ant_rssi, snr) -563.282938\n",
      "\n",
      "[219 rows x 2 columns]\n",
      "mlp model does not support feature importance.\n"
     ]
    }
   ],
   "source": [
    "res_mlp = regressor(X, y, model_type=\"mlp\", random_state=2)"
   ]
  },
  {
   "cell_type": "code",
   "execution_count": null,
   "metadata": {},
   "outputs": [],
   "source": [
    "res"
   ]
  }
 ],
 "metadata": {
  "kernelspec": {
   "display_name": "myenv",
   "language": "python",
   "name": "python3"
  },
  "language_info": {
   "codemirror_mode": {
    "name": "ipython",
    "version": 3
   },
   "file_extension": ".py",
   "mimetype": "text/x-python",
   "name": "python",
   "nbconvert_exporter": "python",
   "pygments_lexer": "ipython3",
   "version": "3.11.5"
  }
 },
 "nbformat": 4,
 "nbformat_minor": 2
}
