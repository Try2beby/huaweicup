{
 "cells": [
  {
   "cell_type": "code",
   "execution_count": 1,
   "metadata": {},
   "outputs": [],
   "source": [
    "import pandas as pd\n",
    "from modeling import regressor"
   ]
  },
  {
   "cell_type": "code",
   "execution_count": 2,
   "metadata": {},
   "outputs": [
    {
     "name": "stdout",
     "output_type": "stream",
     "text": [
      "(392, 218)\n"
     ]
    }
   ],
   "source": [
    "df = pd.read_csv(\"./df_2ap_final.csv\", header=[0, 1], index_col=None)\n",
    "\n",
    "y = df[(\"seq_time\", \"_\")]\n",
    "X = df.drop(columns=[(\"seq_time\", \"_\")])\n",
    "\n",
    "print(X.shape)"
   ]
  },
  {
   "cell_type": "code",
   "execution_count": 3,
   "metadata": {},
   "outputs": [],
   "source": [
    "res_rf = regressor(X, y, model_type=\"random_forest\")"
   ]
  },
  {
   "cell_type": "code",
   "execution_count": 4,
   "metadata": {},
   "outputs": [
    {
     "name": "stdout",
     "output_type": "stream",
     "text": [
      "\n",
      "正向影响的 SHAP 值 (按绝对值排序):\n",
      "                                               Feature    SHAP Value\n",
      "189             (ap_from_ap_mean_rssi, le_nav_percent)  5.933017e-01\n",
      "2        (sta_to_ap_0_max_ant_rssi, in_nav_ed_percent)  9.476765e-02\n",
      "173                      (ap_from_ap_max_rssi, median)  1.129526e-02\n",
      "210                         (('protocol', '_')_tcp, _)  1.000515e-02\n",
      "97     (sta_from_ap_0_max_ant_rssi, sum_absolute_diff)  7.653847e-03\n",
      "..                                                 ...           ...\n",
      "53                (sta_to_ap_1_max_ant_rssi, kurtosis)  1.313488e-04\n",
      "166  (sta_from_ap_1_mean_ant_rssi, fourier_coeffici...  1.129842e-04\n",
      "114                 (sta_from_ap_0_mean_ant_rssi, var)  3.928028e-05\n",
      "182                       (ap_from_ap_max_rssi, trend)  2.262201e-05\n",
      "99               (sta_from_ap_0_max_ant_rssi, entropy)  7.346040e-07\n",
      "\n",
      "[85 rows x 2 columns]\n",
      "\n",
      "负向影响的 SHAP 值 (按绝对值排序):\n",
      "                                               Feature  SHAP Value\n",
      "196                       (ap_from_ap_mean_rssi, mean)   -0.328717\n",
      "168           (ap_from_ap_max_rssi, in_nav_ed_percent)   -0.156075\n",
      "22    (sta_to_ap_0_max_ant_rssi, wavelet_coefficients)   -0.037450\n",
      "74               (sta_to_ap_1_mean_ant_rssi, skewness)   -0.022665\n",
      "176                        (ap_from_ap_max_rssi, mean)   -0.019246\n",
      "..                                                 ...         ...\n",
      "175                         (ap_from_ap_max_rssi, iqr)   -0.000044\n",
      "82   (sta_to_ap_1_mean_ant_rssi, fourier_coefficients)   -0.000035\n",
      "3            (sta_to_ap_0_max_ant_rssi, la_ed_percent)   -0.000028\n",
      "10                    (sta_to_ap_0_max_ant_rssi, mean)   -0.000025\n",
      "31                    (sta_to_ap_0_mean_ant_rssi, var)   -0.000018\n",
      "\n",
      "[96 rows x 2 columns]\n",
      "\n",
      "Feature Importances:\n",
      "                                               Feature  Importance\n",
      "189             (ap_from_ap_mean_rssi, le_nav_percent)    0.471636\n",
      "2        (sta_to_ap_0_max_ant_rssi, in_nav_ed_percent)    0.025487\n",
      "196                       (ap_from_ap_mean_rssi, mean)    0.025147\n",
      "129                  (sta_from_ap_1_max_ant_rssi, max)    0.023095\n",
      "74               (sta_to_ap_1_mean_ant_rssi, skewness)    0.021618\n",
      "..                                                 ...         ...\n",
      "135                  (sta_from_ap_1_max_ant_rssi, var)    0.000000\n",
      "134                 (sta_from_ap_1_max_ant_rssi, mean)    0.000000\n",
      "132                (sta_from_ap_1_max_ant_rssi, range)    0.000000\n",
      "131               (sta_from_ap_1_max_ant_rssi, median)    0.000000\n",
      "145  (sta_from_ap_1_max_ant_rssi, fourier_coefficie...    0.000000\n",
      "\n",
      "[218 rows x 2 columns]\n",
      "{'mse': {'train': [2.0714014092346775, 2.396741464584394, 2.4237795368462876, 2.4879216858653663, 1.3588233725368501], 'test': [12.711487747706565, 9.44338761223745, 7.358799205542434, 14.435020926547203, 21.555509388748344]}, 'r2': {'train': [0.9817144668023942, 0.9773996211967225, 0.9776652503582594, 0.9774660193367473, 0.9875753459441576], 'test': [0.8651006448917216, 0.9228308010464189, 0.933508316238332, 0.8620164197382231, 0.8040285371033334]}}\n"
     ]
    }
   ],
   "source": [
    "res_xgb = regressor(X, y, model_type=\"xgboost\")"
   ]
  },
  {
   "cell_type": "code",
   "execution_count": 5,
   "metadata": {},
   "outputs": [
    {
     "name": "stdout",
     "output_type": "stream",
     "text": [
      "svr model does not support feature importance.\n",
      "{'mse': {'train': [43.01475623397288, 40.460286238153564, 42.572317839308454, 42.593275905479025, 37.207777464311256], 'test': [39.64566286658077, 51.330317952365824, 54.60203241411035, 44.879878594454844, 48.373742159725985]}, 'r2': {'train': [0.6202823124495997, 0.6184745793473101, 0.6077027443482936, 0.6142177380053624, 0.6597837713684906], 'test': [0.5792644842452137, 0.5805404076304592, 0.5066340348994811, 0.5709956804573868, 0.5602111346171198]}}\n"
     ]
    }
   ],
   "source": [
    "res_svr = regressor(X, y, model_type=\"svr\")"
   ]
  },
  {
   "cell_type": "code",
   "execution_count": 6,
   "metadata": {},
   "outputs": [
    {
     "name": "stderr",
     "output_type": "stream",
     "text": [
      "/data/twh/code/huaweicup/q1/modeling.py:16: FutureWarning: Downcasting behavior in `replace` is deprecated and will be removed in a future version. To retain the old behavior, explicitly call `result.infer_objects(copy=False)`. To opt-in to the future behavior, set `pd.set_option('future.no_silent_downcasting', True)`\n",
      "  X = X.replace({True: 1, False: 0})\n"
     ]
    },
    {
     "name": "stdout",
     "output_type": "stream",
     "text": [
      "Epoch [20/600], Loss: 14.400872\n",
      "Epoch [40/600], Loss: 6.598659\n",
      "Epoch [60/600], Loss: 4.479925\n",
      "Epoch [80/600], Loss: 3.346828\n",
      "Epoch [100/600], Loss: 2.787228\n",
      "Epoch [120/600], Loss: 2.240053\n",
      "Epoch [140/600], Loss: 1.828874\n",
      "Epoch [160/600], Loss: 1.447531\n",
      "Epoch [180/600], Loss: 1.204885\n",
      "Epoch [200/600], Loss: 0.864454\n",
      "Epoch [220/600], Loss: 0.790172\n",
      "Epoch [240/600], Loss: 0.726068\n",
      "Epoch [260/600], Loss: 0.732073\n",
      "Epoch [280/600], Loss: 0.680723\n",
      "Epoch [300/600], Loss: 0.646879\n",
      "Epoch [320/600], Loss: 0.615590\n",
      "Epoch [340/600], Loss: 0.586931\n",
      "Epoch [360/600], Loss: 0.580546\n",
      "Epoch [380/600], Loss: 0.555056\n",
      "Epoch [400/600], Loss: 0.506562\n",
      "Epoch [420/600], Loss: 0.536950\n",
      "Epoch [440/600], Loss: 0.491260\n",
      "Epoch [460/600], Loss: 0.488879\n",
      "Epoch [480/600], Loss: 0.488619\n",
      "Epoch [500/600], Loss: 0.485323\n",
      "Epoch [520/600], Loss: 0.505431\n",
      "Epoch [540/600], Loss: 0.491976\n",
      "Epoch [560/600], Loss: 0.471088\n",
      "Epoch [580/600], Loss: 0.466960\n",
      "Epoch [600/600], Loss: 0.485066\n"
     ]
    },
    {
     "name": "stderr",
     "output_type": "stream",
     "text": [
      "/data/twh/code/huaweicup/q1/modeling.py:16: FutureWarning: Downcasting behavior in `replace` is deprecated and will be removed in a future version. To retain the old behavior, explicitly call `result.infer_objects(copy=False)`. To opt-in to the future behavior, set `pd.set_option('future.no_silent_downcasting', True)`\n",
      "  X = X.replace({True: 1, False: 0})\n",
      "/data/twh/code/huaweicup/q1/modeling.py:16: FutureWarning: Downcasting behavior in `replace` is deprecated and will be removed in a future version. To retain the old behavior, explicitly call `result.infer_objects(copy=False)`. To opt-in to the future behavior, set `pd.set_option('future.no_silent_downcasting', True)`\n",
      "  X = X.replace({True: 1, False: 0})\n",
      "/data/twh/code/huaweicup/q1/modeling.py:16: FutureWarning: Downcasting behavior in `replace` is deprecated and will be removed in a future version. To retain the old behavior, explicitly call `result.infer_objects(copy=False)`. To opt-in to the future behavior, set `pd.set_option('future.no_silent_downcasting', True)`\n",
      "  X = X.replace({True: 1, False: 0})\n"
     ]
    },
    {
     "name": "stdout",
     "output_type": "stream",
     "text": [
      "Epoch [20/600], Loss: 0.936441\n",
      "Epoch [40/600], Loss: 0.362074\n",
      "Epoch [60/600], Loss: 0.162862\n",
      "Epoch [80/600], Loss: 0.098872\n",
      "Epoch [100/600], Loss: 0.118772\n",
      "Epoch [120/600], Loss: 0.054589\n",
      "Epoch [140/600], Loss: 0.109822\n",
      "Epoch [160/600], Loss: 0.111783\n",
      "Epoch [180/600], Loss: 0.179499\n",
      "Epoch [200/600], Loss: 0.246103\n",
      "Epoch [220/600], Loss: 0.004152\n",
      "Epoch [240/600], Loss: 0.001430\n",
      "Epoch [260/600], Loss: 0.000674\n",
      "Epoch [280/600], Loss: 0.000351\n",
      "Epoch [300/600], Loss: 0.000193\n",
      "Epoch [320/600], Loss: 0.000110\n",
      "Epoch [340/600], Loss: 0.000063\n",
      "Epoch [360/600], Loss: 0.000039\n",
      "Epoch [380/600], Loss: 0.000023\n",
      "Epoch [400/600], Loss: 0.000013\n",
      "Epoch [420/600], Loss: 0.000012\n",
      "Epoch [440/600], Loss: 0.000011\n",
      "Epoch [460/600], Loss: 0.000011\n",
      "Epoch [480/600], Loss: 0.000010\n",
      "Epoch [500/600], Loss: 0.000010\n",
      "Epoch [520/600], Loss: 0.000009\n",
      "Epoch [540/600], Loss: 0.000008\n",
      "Epoch [560/600], Loss: 0.000008\n",
      "Epoch [580/600], Loss: 0.000007\n",
      "Epoch [600/600], Loss: 0.000007\n"
     ]
    },
    {
     "name": "stderr",
     "output_type": "stream",
     "text": [
      "/data/twh/code/huaweicup/q1/modeling.py:16: FutureWarning: Downcasting behavior in `replace` is deprecated and will be removed in a future version. To retain the old behavior, explicitly call `result.infer_objects(copy=False)`. To opt-in to the future behavior, set `pd.set_option('future.no_silent_downcasting', True)`\n",
      "  X = X.replace({True: 1, False: 0})\n",
      "/data/twh/code/huaweicup/q1/modeling.py:16: FutureWarning: Downcasting behavior in `replace` is deprecated and will be removed in a future version. To retain the old behavior, explicitly call `result.infer_objects(copy=False)`. To opt-in to the future behavior, set `pd.set_option('future.no_silent_downcasting', True)`\n",
      "  X = X.replace({True: 1, False: 0})\n",
      "/data/twh/code/huaweicup/q1/modeling.py:16: FutureWarning: Downcasting behavior in `replace` is deprecated and will be removed in a future version. To retain the old behavior, explicitly call `result.infer_objects(copy=False)`. To opt-in to the future behavior, set `pd.set_option('future.no_silent_downcasting', True)`\n",
      "  X = X.replace({True: 1, False: 0})\n"
     ]
    },
    {
     "name": "stdout",
     "output_type": "stream",
     "text": [
      "Epoch [20/600], Loss: 0.046670\n",
      "Epoch [40/600], Loss: 0.020826\n",
      "Epoch [60/600], Loss: 0.019615\n",
      "Epoch [80/600], Loss: 0.178561\n",
      "Epoch [100/600], Loss: 0.056989\n",
      "Epoch [120/600], Loss: 0.076169\n",
      "Epoch [140/600], Loss: 0.067114\n",
      "Epoch [160/600], Loss: 0.094004\n",
      "Epoch [180/600], Loss: 0.167511\n",
      "Epoch [200/600], Loss: 0.226696\n",
      "Epoch [220/600], Loss: 0.002743\n",
      "Epoch [240/600], Loss: 0.000794\n",
      "Epoch [260/600], Loss: 0.000314\n",
      "Epoch [280/600], Loss: 0.000146\n",
      "Epoch [300/600], Loss: 0.000074\n",
      "Epoch [320/600], Loss: 0.000041\n",
      "Epoch [340/600], Loss: 0.000025\n",
      "Epoch [360/600], Loss: 0.000014\n",
      "Epoch [380/600], Loss: 0.000009\n",
      "Epoch [400/600], Loss: 0.000006\n",
      "Epoch [420/600], Loss: 0.000005\n",
      "Epoch [440/600], Loss: 0.000005\n",
      "Epoch [460/600], Loss: 0.000004\n",
      "Epoch [480/600], Loss: 0.000004\n",
      "Epoch [500/600], Loss: 0.000004\n",
      "Epoch [520/600], Loss: 0.000004\n",
      "Epoch [540/600], Loss: 0.000003\n",
      "Epoch [560/600], Loss: 0.000003\n",
      "Epoch [580/600], Loss: 0.000003\n",
      "Epoch [600/600], Loss: 0.000003\n"
     ]
    },
    {
     "name": "stderr",
     "output_type": "stream",
     "text": [
      "/data/twh/code/huaweicup/q1/modeling.py:16: FutureWarning: Downcasting behavior in `replace` is deprecated and will be removed in a future version. To retain the old behavior, explicitly call `result.infer_objects(copy=False)`. To opt-in to the future behavior, set `pd.set_option('future.no_silent_downcasting', True)`\n",
      "  X = X.replace({True: 1, False: 0})\n",
      "/data/twh/code/huaweicup/q1/modeling.py:16: FutureWarning: Downcasting behavior in `replace` is deprecated and will be removed in a future version. To retain the old behavior, explicitly call `result.infer_objects(copy=False)`. To opt-in to the future behavior, set `pd.set_option('future.no_silent_downcasting', True)`\n",
      "  X = X.replace({True: 1, False: 0})\n",
      "/data/twh/code/huaweicup/q1/modeling.py:16: FutureWarning: Downcasting behavior in `replace` is deprecated and will be removed in a future version. To retain the old behavior, explicitly call `result.infer_objects(copy=False)`. To opt-in to the future behavior, set `pd.set_option('future.no_silent_downcasting', True)`\n",
      "  X = X.replace({True: 1, False: 0})\n"
     ]
    },
    {
     "name": "stdout",
     "output_type": "stream",
     "text": [
      "Epoch [20/600], Loss: 0.053647\n",
      "Epoch [40/600], Loss: 0.013942\n",
      "Epoch [60/600], Loss: 0.057413\n",
      "Epoch [80/600], Loss: 0.345261\n",
      "Epoch [100/600], Loss: 0.153481\n",
      "Epoch [120/600], Loss: 0.026282\n",
      "Epoch [140/600], Loss: 0.317810\n",
      "Epoch [160/600], Loss: 0.211469\n",
      "Epoch [180/600], Loss: 0.020868\n",
      "Epoch [200/600], Loss: 0.019597\n",
      "Epoch [220/600], Loss: 0.000239\n",
      "Epoch [240/600], Loss: 0.000067\n",
      "Epoch [260/600], Loss: 0.000028\n",
      "Epoch [280/600], Loss: 0.000013\n",
      "Epoch [300/600], Loss: 0.000007\n",
      "Epoch [320/600], Loss: 0.000003\n",
      "Epoch [340/600], Loss: 0.000002\n",
      "Epoch [360/600], Loss: 0.000001\n",
      "Epoch [380/600], Loss: 0.000001\n",
      "Epoch [400/600], Loss: 0.000000\n",
      "Epoch [420/600], Loss: 0.000000\n",
      "Epoch [440/600], Loss: 0.000000\n",
      "Epoch [460/600], Loss: 0.000000\n",
      "Epoch [480/600], Loss: 0.000000\n",
      "Epoch [500/600], Loss: 0.000000\n",
      "Epoch [520/600], Loss: 0.000000\n",
      "Epoch [540/600], Loss: 0.000000\n",
      "Epoch [560/600], Loss: 0.000000\n",
      "Epoch [580/600], Loss: 0.000000\n",
      "Epoch [600/600], Loss: 0.000000\n"
     ]
    },
    {
     "name": "stderr",
     "output_type": "stream",
     "text": [
      "/data/twh/code/huaweicup/q1/modeling.py:16: FutureWarning: Downcasting behavior in `replace` is deprecated and will be removed in a future version. To retain the old behavior, explicitly call `result.infer_objects(copy=False)`. To opt-in to the future behavior, set `pd.set_option('future.no_silent_downcasting', True)`\n",
      "  X = X.replace({True: 1, False: 0})\n",
      "/data/twh/code/huaweicup/q1/modeling.py:16: FutureWarning: Downcasting behavior in `replace` is deprecated and will be removed in a future version. To retain the old behavior, explicitly call `result.infer_objects(copy=False)`. To opt-in to the future behavior, set `pd.set_option('future.no_silent_downcasting', True)`\n",
      "  X = X.replace({True: 1, False: 0})\n",
      "/data/twh/code/huaweicup/q1/modeling.py:16: FutureWarning: Downcasting behavior in `replace` is deprecated and will be removed in a future version. To retain the old behavior, explicitly call `result.infer_objects(copy=False)`. To opt-in to the future behavior, set `pd.set_option('future.no_silent_downcasting', True)`\n",
      "  X = X.replace({True: 1, False: 0})\n"
     ]
    },
    {
     "name": "stdout",
     "output_type": "stream",
     "text": [
      "Epoch [20/600], Loss: 0.007616\n",
      "Epoch [40/600], Loss: 0.007933\n",
      "Epoch [60/600], Loss: 0.006598\n",
      "Epoch [80/600], Loss: 0.109363\n",
      "Epoch [100/600], Loss: 0.200480\n",
      "Epoch [120/600], Loss: 0.131256\n",
      "Epoch [140/600], Loss: 0.110706\n",
      "Epoch [160/600], Loss: 0.030542\n",
      "Epoch [180/600], Loss: 0.008469\n",
      "Epoch [200/600], Loss: 0.054904\n",
      "Epoch [220/600], Loss: 0.000649\n",
      "Epoch [240/600], Loss: 0.000186\n",
      "Epoch [260/600], Loss: 0.000070\n",
      "Epoch [280/600], Loss: 0.000030\n",
      "Epoch [300/600], Loss: 0.000014\n",
      "Epoch [320/600], Loss: 0.000007\n",
      "Epoch [340/600], Loss: 0.000004\n",
      "Epoch [360/600], Loss: 0.000002\n",
      "Epoch [380/600], Loss: 0.000001\n",
      "Epoch [400/600], Loss: 0.000001\n",
      "Epoch [420/600], Loss: 0.000000\n",
      "Epoch [440/600], Loss: 0.000000\n",
      "Epoch [460/600], Loss: 0.000000\n",
      "Epoch [480/600], Loss: 0.000000\n",
      "Epoch [500/600], Loss: 0.000000\n",
      "Epoch [520/600], Loss: 0.000000\n",
      "Epoch [540/600], Loss: 0.000000\n",
      "Epoch [560/600], Loss: 0.000000\n",
      "Epoch [580/600], Loss: 0.000000\n",
      "Epoch [600/600], Loss: 0.000000\n"
     ]
    },
    {
     "name": "stderr",
     "output_type": "stream",
     "text": [
      "/data/twh/code/huaweicup/q1/modeling.py:16: FutureWarning: Downcasting behavior in `replace` is deprecated and will be removed in a future version. To retain the old behavior, explicitly call `result.infer_objects(copy=False)`. To opt-in to the future behavior, set `pd.set_option('future.no_silent_downcasting', True)`\n",
      "  X = X.replace({True: 1, False: 0})\n",
      "/data/twh/code/huaweicup/q1/modeling.py:16: FutureWarning: Downcasting behavior in `replace` is deprecated and will be removed in a future version. To retain the old behavior, explicitly call `result.infer_objects(copy=False)`. To opt-in to the future behavior, set `pd.set_option('future.no_silent_downcasting', True)`\n",
      "  X = X.replace({True: 1, False: 0})\n",
      "/data/twh/code/huaweicup/q1/modeling.py:16: FutureWarning: Downcasting behavior in `replace` is deprecated and will be removed in a future version. To retain the old behavior, explicitly call `result.infer_objects(copy=False)`. To opt-in to the future behavior, set `pd.set_option('future.no_silent_downcasting', True)`\n",
      "  X = X.replace({True: 1, False: 0})\n"
     ]
    },
    {
     "name": "stdout",
     "output_type": "stream",
     "text": [
      "\n",
      "正向影响的 SHAP 值 (按绝对值排序):\n",
      "                                               Feature  SHAP Value\n",
      "35      (sta_to_ap_0_mean_ant_rssi, sum_absolute_diff)    0.329683\n",
      "181           (ap_from_ap_max_rssi, sum_absolute_diff)    0.110195\n",
      "68                 (sta_to_ap_1_mean_ant_rssi, median)    0.084332\n",
      "178                    (ap_from_ap_max_rssi, kurtosis)    0.073780\n",
      "48                  (sta_to_ap_1_max_ant_rssi, median)    0.073163\n",
      "..                                                 ...         ...\n",
      "202                      (ap_from_ap_mean_rssi, trend)    0.000077\n",
      "182                       (ap_from_ap_max_rssi, trend)    0.000060\n",
      "138       (sta_from_ap_1_max_ant_rssi, rate_of_change)    0.000024\n",
      "164  (sta_from_ap_1_mean_ant_rssi, approximate_entr...    0.000015\n",
      "169               (ap_from_ap_max_rssi, la_ed_percent)    0.000003\n",
      "\n",
      "[96 rows x 2 columns]\n",
      "\n",
      "负向影响的 SHAP 值 (按绝对值排序):\n",
      "                                               Feature  SHAP Value\n",
      "15       (sta_to_ap_0_max_ant_rssi, sum_absolute_diff)   -0.469459\n",
      "201          (ap_from_ap_mean_rssi, sum_absolute_diff)   -0.307460\n",
      "166  (sta_from_ap_1_mean_ant_rssi, fourier_coeffici...   -0.227044\n",
      "106                (sta_from_ap_0_mean_ant_rssi, sinr)   -0.181959\n",
      "56       (sta_to_ap_1_max_ant_rssi, sum_absolute_diff)   -0.173474\n",
      "..                                                 ...         ...\n",
      "205        (ap_from_ap_mean_rssi, approximate_entropy)   -0.000176\n",
      "158            (sta_from_ap_1_mean_ant_rssi, skewness)   -0.000101\n",
      "161               (sta_from_ap_1_mean_ant_rssi, trend)   -0.000093\n",
      "119               (sta_from_ap_0_mean_ant_rssi, trend)   -0.000077\n",
      "159      (sta_from_ap_1_mean_ant_rssi, rate_of_change)   -0.000038\n",
      "\n",
      "[122 rows x 2 columns]\n",
      "mlp model does not support feature importance.\n",
      "{'mse': {'train': [0.4708761960819759, 6.592127289049219e-06, 2.878775793192261e-06, 1.4475480215384702e-07, 2.3067890301960017e-07], 'test': [18.31505915561968, 34.363875641996955, 1.089983888891478, 0.2750698790062207, 0.29594124107081443]}, 'r2': {'train': [0.9956441376201386, 0.9999999414615395, 0.9999999734918037, 0.9999999987201447, 0.9999999978125862], 'test': [0.8413939239305825, 0.643829158570731, 0.9903033109326852, 0.9971137061875024, 0.9976558229625132]}}\n"
     ]
    }
   ],
   "source": [
    "res_mlp = regressor(X, y, model_type=\"mlp\", random_state=2)"
   ]
  },
  {
   "cell_type": "code",
   "execution_count": 7,
   "metadata": {},
   "outputs": [
    {
     "data": {
      "text/plain": [
       "{'shap_values':                                            Feature  SHAP Value\n",
       " 0                                         (nav, _)    0.001958\n",
       " 1                                        (eirp, _)   -0.009483\n",
       " 2    (sta_to_ap_0_max_ant_rssi, in_nav_ed_percent)    0.000221\n",
       " 3        (sta_to_ap_0_max_ant_rssi, la_ed_percent)    0.000244\n",
       " 4               (sta_to_ap_0_max_ant_rssi, length)   -0.129244\n",
       " ..                                             ...         ...\n",
       " 213            (('ap_mac', '_')_8c68-3a11-e370, _)   -0.000551\n",
       " 214                     (('sta_mac', '_')_471f, _)   -0.001877\n",
       " 215                     (('sta_mac', '_')_6d53, _)    0.000142\n",
       " 216                     (('sta_mac', '_')_8889, _)   -0.001678\n",
       " 217                     (('sta_mac', '_')_d4e0, _)    0.000405\n",
       " \n",
       " [218 rows x 2 columns],\n",
       " 'positive_shap_values':                                                Feature  SHAP Value\n",
       " 35      (sta_to_ap_0_mean_ant_rssi, sum_absolute_diff)    0.329683\n",
       " 181           (ap_from_ap_max_rssi, sum_absolute_diff)    0.110195\n",
       " 68                 (sta_to_ap_1_mean_ant_rssi, median)    0.084332\n",
       " 178                    (ap_from_ap_max_rssi, kurtosis)    0.073780\n",
       " 48                  (sta_to_ap_1_max_ant_rssi, median)    0.073163\n",
       " ..                                                 ...         ...\n",
       " 202                      (ap_from_ap_mean_rssi, trend)    0.000077\n",
       " 182                       (ap_from_ap_max_rssi, trend)    0.000060\n",
       " 138       (sta_from_ap_1_max_ant_rssi, rate_of_change)    0.000024\n",
       " 164  (sta_from_ap_1_mean_ant_rssi, approximate_entr...    0.000015\n",
       " 169               (ap_from_ap_max_rssi, la_ed_percent)    0.000003\n",
       " \n",
       " [96 rows x 2 columns],\n",
       " 'negative_shap_values':                                                Feature  SHAP Value\n",
       " 15       (sta_to_ap_0_max_ant_rssi, sum_absolute_diff)   -0.469459\n",
       " 201          (ap_from_ap_mean_rssi, sum_absolute_diff)   -0.307460\n",
       " 166  (sta_from_ap_1_mean_ant_rssi, fourier_coeffici...   -0.227044\n",
       " 106                (sta_from_ap_0_mean_ant_rssi, sinr)   -0.181959\n",
       " 56       (sta_to_ap_1_max_ant_rssi, sum_absolute_diff)   -0.173474\n",
       " ..                                                 ...         ...\n",
       " 205        (ap_from_ap_mean_rssi, approximate_entropy)   -0.000176\n",
       " 158            (sta_from_ap_1_mean_ant_rssi, skewness)   -0.000101\n",
       " 161               (sta_from_ap_1_mean_ant_rssi, trend)   -0.000093\n",
       " 119               (sta_from_ap_0_mean_ant_rssi, trend)   -0.000077\n",
       " 159      (sta_from_ap_1_mean_ant_rssi, rate_of_change)   -0.000038\n",
       " \n",
       " [122 rows x 2 columns],\n",
       " 'mse':           train       test\n",
       " 0  4.708762e-01  18.315059\n",
       " 1  6.592127e-06  34.363876\n",
       " 2  2.878776e-06   1.089984\n",
       " 3  1.447548e-07   0.275070\n",
       " 4  2.306789e-07   0.295941,\n",
       " 'r2':       train      test\n",
       " 0  0.995644  0.841394\n",
       " 1  1.000000  0.643829\n",
       " 2  1.000000  0.990303\n",
       " 3  1.000000  0.997114\n",
       " 4  1.000000  0.997656}"
      ]
     },
     "execution_count": 7,
     "metadata": {},
     "output_type": "execute_result"
    }
   ],
   "source": [
    "res_mlp"
   ]
  },
  {
   "cell_type": "code",
   "execution_count": 8,
   "metadata": {},
   "outputs": [
    {
     "ename": "NameError",
     "evalue": "name 'res_rf' is not defined",
     "output_type": "error",
     "traceback": [
      "\u001b[0;31m---------------------------------------------------------------------------\u001b[0m",
      "\u001b[0;31mNameError\u001b[0m                                 Traceback (most recent call last)",
      "Cell \u001b[0;32mIn[8], line 2\u001b[0m\n\u001b[1;32m      1\u001b[0m temp_rf_pos, temp_rf_neg \u001b[38;5;241m=\u001b[39m (\n\u001b[0;32m----> 2\u001b[0m     \u001b[43mres_rf\u001b[49m[\u001b[38;5;124m\"\u001b[39m\u001b[38;5;124mpositive_shap_values\u001b[39m\u001b[38;5;124m\"\u001b[39m],\n\u001b[1;32m      3\u001b[0m     res_rf[\u001b[38;5;124m\"\u001b[39m\u001b[38;5;124mnegative_shap_values\u001b[39m\u001b[38;5;124m\"\u001b[39m],\n\u001b[1;32m      4\u001b[0m )\n",
      "\u001b[0;31mNameError\u001b[0m: name 'res_rf' is not defined"
     ]
    }
   ],
   "source": [
    "temp_rf_pos, temp_rf_neg = (\n",
    "    res_rf[\"positive_shap_values\"],\n",
    "    res_rf[\"negative_shap_values\"],\n",
    ")"
   ]
  },
  {
   "cell_type": "code",
   "execution_count": 9,
   "metadata": {},
   "outputs": [],
   "source": [
    "temp_xgb = res_xgb[\"shap_values\"]"
   ]
  },
  {
   "cell_type": "code",
   "execution_count": 11,
   "metadata": {},
   "outputs": [],
   "source": [
    "temp_mlp_pos, temp_mlp_neg = (\n",
    "    res_mlp[\"positive_shap_values\"],\n",
    "    res_mlp[\"negative_shap_values\"],\n",
    ")"
   ]
  }
 ],
 "metadata": {
  "kernelspec": {
   "display_name": "myenv",
   "language": "python",
   "name": "python3"
  },
  "language_info": {
   "codemirror_mode": {
    "name": "ipython",
    "version": 3
   },
   "file_extension": ".py",
   "mimetype": "text/x-python",
   "name": "python",
   "nbconvert_exporter": "python",
   "pygments_lexer": "ipython3",
   "version": "3.11.5"
  }
 },
 "nbformat": 4,
 "nbformat_minor": 2
}
