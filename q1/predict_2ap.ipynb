{
 "cells": [
  {
   "cell_type": "code",
   "execution_count": 1,
   "metadata": {},
   "outputs": [],
   "source": [
    "import pandas as pd\n",
    "from modeling_old import clear_column_names, regressor"
   ]
  },
  {
   "cell_type": "code",
   "execution_count": 2,
   "metadata": {},
   "outputs": [],
   "source": [
    "def load_data(path=\"./df_2ap_final.csv\"):\n",
    "    df = pd.read_csv(path, header=[0, 1], index_col=None)\n",
    "\n",
    "    y = df[(\"seq_time\", \"_\")]\n",
    "    X = df.drop(columns=[(\"seq_time\", \"_\")])\n",
    "\n",
    "    X.columns = clear_column_names(X)\n",
    "\n",
    "    return X, y"
   ]
  },
  {
   "cell_type": "code",
   "execution_count": 3,
   "metadata": {},
   "outputs": [
    {
     "data": {
      "text/plain": [
       "((392, 212), (80, 212))"
      ]
     },
     "execution_count": 3,
     "metadata": {},
     "output_type": "execute_result"
    }
   ],
   "source": [
    "X, y = load_data()\n",
    "X_test, y_test = load_data(\"./df_1_2ap_test_final.csv\")\n",
    "X.shape, X_test.shape"
   ]
  },
  {
   "cell_type": "code",
   "execution_count": 4,
   "metadata": {},
   "outputs": [
    {
     "data": {
      "text/plain": [
       "0    NaN\n",
       "1    NaN\n",
       "2    NaN\n",
       "3    NaN\n",
       "4    NaN\n",
       "      ..\n",
       "75   NaN\n",
       "76   NaN\n",
       "77   NaN\n",
       "78   NaN\n",
       "79   NaN\n",
       "Name: (seq_time, _), Length: 80, dtype: float64"
      ]
     },
     "execution_count": 4,
     "metadata": {},
     "output_type": "execute_result"
    }
   ],
   "source": [
    "y_test"
   ]
  },
  {
   "cell_type": "code",
   "execution_count": 5,
   "metadata": {},
   "outputs": [
    {
     "name": "stdout",
     "output_type": "stream",
     "text": [
      "\n",
      "Feature Importances:\n",
      "                                        Feature  Importance\n",
      "189         ap_from_ap_mean_rssi_le_nav_percent    0.471636\n",
      "2    sta_to_ap_0_max_ant_rssi_in_nav_ed_percent    0.025487\n",
      "196                   ap_from_ap_mean_rssi_mean    0.025147\n",
      "129              sta_from_ap_1_max_ant_rssi_max    0.023095\n",
      "74           sta_to_ap_1_mean_ant_rssi_skewness    0.021618\n",
      "..                                          ...         ...\n",
      "90             sta_from_ap_0_max_ant_rssi_range    0.000000\n",
      "135              sta_from_ap_1_max_ant_rssi_var    0.000000\n",
      "134             sta_from_ap_1_max_ant_rssi_mean    0.000000\n",
      "132            sta_from_ap_1_max_ant_rssi_range    0.000000\n",
      "148            sta_from_ap_1_mean_ant_rssi_sinr    0.000000\n",
      "\n",
      "[212 rows x 2 columns]\n",
      "{'mse': {'train': [2.0714014092346775, 2.396741464584394, 2.4237795368462876, 2.4879216858653663, 1.3588233725368501], 'test': [12.711487747706565, 9.44338761223745, 7.358799205542434, 14.435020926547203, 21.555509388748344]}, 'r2': {'train': [0.9817144668023942, 0.9773996211967225, 0.9776652503582594, 0.9774660193367473, 0.9875753459441576], 'test': [0.8651006448917216, 0.9228308010464189, 0.933508316238332, 0.8620164197382231, 0.8040285371033334]}}\n"
     ]
    },
    {
     "data": {
      "text/plain": [
       "{'shap_values':                                            Feature  SHAP Value  SHAP Sign\n",
       " 189            ap_from_ap_mean_rssi_le_nav_percent    0.593302        1.0\n",
       " 196                      ap_from_ap_mean_rssi_mean   -0.328717       -1.0\n",
       " 168          ap_from_ap_max_rssi_in_nav_ed_percent   -0.156075       -1.0\n",
       " 2       sta_to_ap_0_max_ant_rssi_in_nav_ed_percent    0.094768        1.0\n",
       " 22   sta_to_ap_0_max_ant_rssi_wavelet_coefficients   -0.037450       -1.0\n",
       " ..                                             ...         ...        ...\n",
       " 126   sta_from_ap_1_max_ant_rssi_in_nav_ed_percent    0.000000        0.0\n",
       " 44          sta_to_ap_1_max_ant_rssi_la_ed_percent    0.000000        0.0\n",
       " 111              sta_from_ap_0_mean_ant_rssi_range    0.000000        0.0\n",
       " 27                sta_to_ap_0_mean_ant_rssi_median    0.000000        0.0\n",
       " 211                                   protocol_udp    0.000000        0.0\n",
       " \n",
       " [212 rows x 3 columns],\n",
       " 'feature_importances':                                         Feature  Importance\n",
       " 189         ap_from_ap_mean_rssi_le_nav_percent    0.471636\n",
       " 2    sta_to_ap_0_max_ant_rssi_in_nav_ed_percent    0.025487\n",
       " 196                   ap_from_ap_mean_rssi_mean    0.025147\n",
       " 129              sta_from_ap_1_max_ant_rssi_max    0.023095\n",
       " 74           sta_to_ap_1_mean_ant_rssi_skewness    0.021618\n",
       " ..                                          ...         ...\n",
       " 90             sta_from_ap_0_max_ant_rssi_range    0.000000\n",
       " 135              sta_from_ap_1_max_ant_rssi_var    0.000000\n",
       " 134             sta_from_ap_1_max_ant_rssi_mean    0.000000\n",
       " 132            sta_from_ap_1_max_ant_rssi_range    0.000000\n",
       " 148            sta_from_ap_1_mean_ant_rssi_sinr    0.000000\n",
       " \n",
       " [212 rows x 2 columns],\n",
       " 'mse':       train       test\n",
       " 0  2.071401  12.711488\n",
       " 1  2.396741   9.443388\n",
       " 2  2.423780   7.358799\n",
       " 3  2.487922  14.435021\n",
       " 4  1.358823  21.555509,\n",
       " 'r2':       train      test\n",
       " 0  0.981714  0.865101\n",
       " 1  0.977400  0.922831\n",
       " 2  0.977665  0.933508\n",
       " 3  0.977466  0.862016\n",
       " 4  0.987575  0.804029}"
      ]
     },
     "execution_count": 5,
     "metadata": {},
     "output_type": "execute_result"
    }
   ],
   "source": [
    "regressor(X, y, \"xgboost\")"
   ]
  },
  {
   "cell_type": "code",
   "execution_count": 6,
   "metadata": {},
   "outputs": [],
   "source": [
    "import xgboost as xgb\n",
    "\n",
    "model = xgb.XGBRegressor(\n",
    "    objective=\"reg:squarederror\",\n",
    "    n_estimators=100,\n",
    "    max_depth=3,\n",
    "    learning_rate=0.1,\n",
    "    random_state=42,\n",
    ")\n",
    "\n",
    "model.fit(X, y)\n",
    "y_test_pred = model.predict(X_test)"
   ]
  },
  {
   "cell_type": "code",
   "execution_count": 7,
   "metadata": {},
   "outputs": [],
   "source": [
    "# save predictions\n",
    "y_test_pred = pd.Series(y_test_pred, name=\"seq_time\")\n",
    "y_test_pred.to_csv(\"./results/y_1_2ap_test_pred.csv\", index=False)"
   ]
  }
 ],
 "metadata": {
  "kernelspec": {
   "display_name": "base",
   "language": "python",
   "name": "python3"
  },
  "language_info": {
   "codemirror_mode": {
    "name": "ipython",
    "version": 3
   },
   "file_extension": ".py",
   "mimetype": "text/x-python",
   "name": "python",
   "nbconvert_exporter": "python",
   "pygments_lexer": "ipython3",
   "version": "3.11.5"
  }
 },
 "nbformat": 4,
 "nbformat_minor": 2
}
