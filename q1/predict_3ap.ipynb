{
 "cells": [
  {
   "cell_type": "code",
   "execution_count": 1,
   "metadata": {},
   "outputs": [],
   "source": [
    "import pandas as pd\n",
    "from modeling_old import clear_column_names, regressor"
   ]
  },
  {
   "cell_type": "code",
   "execution_count": 2,
   "metadata": {},
   "outputs": [],
   "source": [
    "def load_data(path=\"./df_3ap_final.csv\"):\n",
    "    df = pd.read_csv(path, header=[0, 1], index_col=None)\n",
    "\n",
    "    y = df[(\"seq_time\", \"_\")]\n",
    "    X = df.drop(columns=[(\"seq_time\", \"_\")])\n",
    "\n",
    "    X.columns = clear_column_names(X)\n",
    "\n",
    "    return X, y"
   ]
  },
  {
   "cell_type": "code",
   "execution_count": 3,
   "metadata": {},
   "outputs": [
    {
     "data": {
      "text/plain": [
       "((691, 338), (105, 338))"
      ]
     },
     "execution_count": 3,
     "metadata": {},
     "output_type": "execute_result"
    }
   ],
   "source": [
    "X, y = load_data()\n",
    "X_test, y_test = load_data(\"./df_1_3ap_test_final.csv\")\n",
    "X.shape, X_test.shape"
   ]
  },
  {
   "cell_type": "code",
   "execution_count": 4,
   "metadata": {},
   "outputs": [
    {
     "data": {
      "text/plain": [
       "0     NaN\n",
       "1     NaN\n",
       "2     NaN\n",
       "3     NaN\n",
       "4     NaN\n",
       "       ..\n",
       "100   NaN\n",
       "101   NaN\n",
       "102   NaN\n",
       "103   NaN\n",
       "104   NaN\n",
       "Name: (seq_time, _), Length: 105, dtype: float64"
      ]
     },
     "execution_count": 4,
     "metadata": {},
     "output_type": "execute_result"
    }
   ],
   "source": [
    "y_test"
   ]
  },
  {
   "cell_type": "code",
   "execution_count": 5,
   "metadata": {},
   "outputs": [
    {
     "name": "stdout",
     "output_type": "stream",
     "text": [
      "\n",
      "Feature Importances:\n",
      "                                          Feature  Importance\n",
      "315         ap_from_ap_B_mean_rssi_le_nav_percent    0.167334\n",
      "274         ap_from_ap_A_mean_rssi_le_nav_percent    0.052442\n",
      "294       ap_from_ap_B_max_rssi_in_nav_ed_percent    0.038273\n",
      "87         sta_to_ap_2_max_ant_rssi_la_ed_percent    0.032613\n",
      "149              sta_from_ap_0_mean_ant_rssi_sinr    0.031316\n",
      "..                                            ...         ...\n",
      "169  sta_from_ap_1_max_ant_rssi_in_nav_ed_percent    0.000000\n",
      "154             sta_from_ap_0_mean_ant_rssi_range    0.000000\n",
      "155               sta_from_ap_0_mean_ant_rssi_iqr    0.000000\n",
      "157               sta_from_ap_0_mean_ant_rssi_var    0.000000\n",
      "175              sta_from_ap_1_max_ant_rssi_range    0.000000\n",
      "\n",
      "[338 rows x 2 columns]\n",
      "{'mse': {'train': [15.58654623864419, 14.971061124662903, 14.771109994318152, 15.350514169848278, 15.722746699172362], 'test': [45.94056037796103, 50.208811205308685, 61.12342064606214, 51.24134768803414, 42.8652348296579]}, 'r2': {'train': [0.9008852285253666, 0.9113672057568565, 0.9095844193040248, 0.9025853443901682, 0.9045371816464793], 'test': [0.747073364012508, 0.6286370552251909, 0.6123923409795153, 0.7163428858630596, 0.7201821367649739]}}\n"
     ]
    },
    {
     "data": {
      "text/plain": [
       "{'shap_values':                                         Feature  SHAP Value  SHAP Sign\n",
       " 315       ap_from_ap_B_mean_rssi_le_nav_percent    0.353566        1.0\n",
       " 274       ap_from_ap_A_mean_rssi_le_nav_percent   -0.335449       -1.0\n",
       " 86   sta_to_ap_2_max_ant_rssi_in_nav_ed_percent   -0.097607       -1.0\n",
       " 302                  ap_from_ap_B_max_rssi_mean    0.061723        1.0\n",
       " 149            sta_from_ap_0_mean_ant_rssi_sinr    0.059922        1.0\n",
       " ..                                          ...         ...        ...\n",
       " 197             sta_from_ap_1_mean_ant_rssi_iqr    0.000000        0.0\n",
       " 129           sta_from_ap_0_max_ant_rssi_length    0.000000        0.0\n",
       " 151             sta_from_ap_0_mean_ant_rssi_max    0.000000        0.0\n",
       " 150          sta_from_ap_0_mean_ant_rssi_length    0.000000        0.0\n",
       " 236             sta_from_ap_2_mean_ant_rssi_min    0.000000        0.0\n",
       " \n",
       " [338 rows x 3 columns],\n",
       " 'feature_importances':                                           Feature  Importance\n",
       " 315         ap_from_ap_B_mean_rssi_le_nav_percent    0.167334\n",
       " 274         ap_from_ap_A_mean_rssi_le_nav_percent    0.052442\n",
       " 294       ap_from_ap_B_max_rssi_in_nav_ed_percent    0.038273\n",
       " 87         sta_to_ap_2_max_ant_rssi_la_ed_percent    0.032613\n",
       " 149              sta_from_ap_0_mean_ant_rssi_sinr    0.031316\n",
       " ..                                            ...         ...\n",
       " 169  sta_from_ap_1_max_ant_rssi_in_nav_ed_percent    0.000000\n",
       " 154             sta_from_ap_0_mean_ant_rssi_range    0.000000\n",
       " 155               sta_from_ap_0_mean_ant_rssi_iqr    0.000000\n",
       " 157               sta_from_ap_0_mean_ant_rssi_var    0.000000\n",
       " 175              sta_from_ap_1_max_ant_rssi_range    0.000000\n",
       " \n",
       " [338 rows x 2 columns],\n",
       " 'mse':        train       test\n",
       " 0  15.586546  45.940560\n",
       " 1  14.971061  50.208811\n",
       " 2  14.771110  61.123421\n",
       " 3  15.350514  51.241348\n",
       " 4  15.722747  42.865235,\n",
       " 'r2':       train      test\n",
       " 0  0.900885  0.747073\n",
       " 1  0.911367  0.628637\n",
       " 2  0.909584  0.612392\n",
       " 3  0.902585  0.716343\n",
       " 4  0.904537  0.720182}"
      ]
     },
     "execution_count": 5,
     "metadata": {},
     "output_type": "execute_result"
    }
   ],
   "source": [
    "regressor(X, y, \"xgboost\")"
   ]
  },
  {
   "cell_type": "code",
   "execution_count": 6,
   "metadata": {},
   "outputs": [],
   "source": [
    "import xgboost as xgb\n",
    "\n",
    "model = xgb.XGBRegressor(\n",
    "    objective=\"reg:squarederror\",\n",
    "    n_estimators=100,\n",
    "    max_depth=3,\n",
    "    learning_rate=0.1,\n",
    "    random_state=42,\n",
    ")\n",
    "\n",
    "model.fit(X, y)\n",
    "y_test_pred = model.predict(X_test)"
   ]
  },
  {
   "cell_type": "code",
   "execution_count": 7,
   "metadata": {},
   "outputs": [],
   "source": [
    "# save predictions\n",
    "y_test_pred = pd.Series(y_test_pred, name=\"seq_time\")\n",
    "y_test_pred.to_csv(\"./results/y_1_3ap_test_pred.csv\", index=False)"
   ]
  }
 ],
 "metadata": {
  "kernelspec": {
   "display_name": "base",
   "language": "python",
   "name": "python3"
  },
  "language_info": {
   "codemirror_mode": {
    "name": "ipython",
    "version": 3
   },
   "file_extension": ".py",
   "mimetype": "text/x-python",
   "name": "python",
   "nbconvert_exporter": "python",
   "pygments_lexer": "ipython3",
   "version": "3.11.5"
  }
 },
 "nbformat": 4,
 "nbformat_minor": 2
}
