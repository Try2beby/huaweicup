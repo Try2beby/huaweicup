{
 "cells": [
  {
   "cell_type": "code",
   "execution_count": 71,
   "metadata": {},
   "outputs": [],
   "source": [
    "import pandas as pd"
   ]
  },
  {
   "cell_type": "code",
   "execution_count": 72,
   "metadata": {},
   "outputs": [
    {
     "data": {
      "text/plain": [
       "392"
      ]
     },
     "execution_count": 72,
     "metadata": {},
     "output_type": "execute_result"
    }
   ],
   "source": [
    "df_2ap = pd.read_csv(\"./df_2ap_1.csv\", header=[0, 1], index_col=None)\n",
    "len(df_2ap)"
   ]
  },
  {
   "cell_type": "code",
   "execution_count": 73,
   "metadata": {},
   "outputs": [
    {
     "data": {
      "text/plain": [
       "247"
      ]
     },
     "execution_count": 73,
     "metadata": {},
     "output_type": "execute_result"
    }
   ],
   "source": [
    "len(df_2ap.columns)"
   ]
  },
  {
   "cell_type": "code",
   "execution_count": 74,
   "metadata": {},
   "outputs": [],
   "source": [
    "# (*rssi, !org)\n",
    "# (!*rssi, _)\n",
    "\n",
    "# 提取与 \"*rssi, !org\" 相关的列 (一级索引包含 'rssi' 且二级索引不等于 'org')\n",
    "rssi_not_org_cols = [\n",
    "    col\n",
    "    for col in df_2ap.columns\n",
    "    if \"rssi\" in col[0] and col[1] != \"org\" and col[1] != \"_\"\n",
    "]\n",
    "\n",
    "# 提取与 \"!*rssi, _\" 相关的列 (一级索引不包含 'rssi' 且二级索引等于 '_')\n",
    "not_rssi_underscore_cols = [\n",
    "    col for col in df_2ap.columns if \"rssi\" not in col[0] and col[1] == \"_\"\n",
    "]\n",
    "\n",
    "# 创建新的 DataFrame 包含提取出的列\n",
    "df_rssi_not_org = df_2ap[rssi_not_org_cols]\n",
    "df_not_rssi_underscore = df_2ap[not_rssi_underscore_cols]"
   ]
  },
  {
   "cell_type": "code",
   "execution_count": 75,
   "metadata": {},
   "outputs": [],
   "source": [
    "cols_to_use = [\n",
    "    # (\"test_id\", \"_\"),\n",
    "    # (\"test_dur\", \"_\"),\n",
    "    # (\"loc_id\", \"_\"),\n",
    "    (\"protocol\", \"_\"),\n",
    "    # (\"pkt_len\", \"_\"),\n",
    "    (\"bss_id\", \"_\"),\n",
    "    # (\"ap_name\", \"_\"),\n",
    "    (\"ap_mac\", \"_\"),\n",
    "    # (\"ap_id\", \"_\"),\n",
    "    # (\"pd\", \"_\"),\n",
    "    # (\"ed\", \"_\"),\n",
    "    (\"nav\", \"_\"),\n",
    "    (\"eirp\", \"_\"),\n",
    "    (\"sta_mac\", \"_\"),\n",
    "    # (\"sta_id\", \"_\"),\n",
    "    (\"seq_time\", \"_\"),\n",
    "]\n",
    "\n",
    "catagory_cols = [\n",
    "    # (\"loc_id\", \"_\"),\n",
    "    (\"protocol\", \"_\"),\n",
    "    (\"bss_id\", \"_\"),\n",
    "    (\"ap_mac\", \"_\"),\n",
    "    (\"sta_mac\", \"_\"),\n",
    "]"
   ]
  },
  {
   "cell_type": "code",
   "execution_count": 76,
   "metadata": {},
   "outputs": [],
   "source": [
    "df_2ap = pd.concat([df_not_rssi_underscore[cols_to_use], df_rssi_not_org], axis=1)\n",
    "\n",
    "# # deal with catagory columns\n",
    "# for col in catagory_cols:\n",
    "#     df_2ap[col] = df_2ap[col].astype(\"category\")"
   ]
  },
  {
   "cell_type": "code",
   "execution_count": 77,
   "metadata": {},
   "outputs": [],
   "source": [
    "df_dummies = pd.get_dummies(df_2ap[catagory_cols])\n",
    "new_cols = [(col, \"_\") for col in df_dummies.columns]\n",
    "# new col names (org_name, _)\n",
    "df_dummies.columns = pd.MultiIndex.from_tuples(new_cols)"
   ]
  },
  {
   "cell_type": "code",
   "execution_count": 78,
   "metadata": {},
   "outputs": [],
   "source": [
    "df_2ap = pd.concat([df_2ap, df_dummies], axis=1)\n",
    "df_2ap.drop(columns=catagory_cols, inplace=True)"
   ]
  },
  {
   "cell_type": "code",
   "execution_count": 79,
   "metadata": {},
   "outputs": [
    {
     "data": {
      "text/plain": [
       "MultiIndex([(                            'pd',                    '_'),\n",
       "            (                            'ed',                    '_'),\n",
       "            (                           'nav',                    '_'),\n",
       "            (                          'eirp',                    '_'),\n",
       "            (                      'seq_time',                    '_'),\n",
       "            (      'sta_to_ap_0_max_ant_rssi',    'in_nav_ed_percent'),\n",
       "            (      'sta_to_ap_0_max_ant_rssi',        'la_ed_percent'),\n",
       "            (      'sta_to_ap_0_max_ant_rssi',               'length'),\n",
       "            (      'sta_to_ap_0_max_ant_rssi',                  'max'),\n",
       "            (      'sta_to_ap_0_max_ant_rssi',                  'min'),\n",
       "            ...\n",
       "            (          'ap_from_ap_mean_rssi', 'wavelet_coefficients'),\n",
       "            (                 ('bss_id', '_'),                    '_'),\n",
       "            (         '('protocol', '_')_tcp',                    '_'),\n",
       "            (         '('protocol', '_')_udp',                    '_'),\n",
       "            ('('ap_mac', '_')_6c14-6ef5-9510',                    '_'),\n",
       "            ('('ap_mac', '_')_8c68-3a11-e370',                    '_'),\n",
       "            (         '('sta_mac', '_')_471f',                    '_'),\n",
       "            (         '('sta_mac', '_')_6d53',                    '_'),\n",
       "            (         '('sta_mac', '_')_8889',                    '_'),\n",
       "            (         '('sta_mac', '_')_d4e0',                    '_')],\n",
       "           length=221)"
      ]
     },
     "execution_count": 79,
     "metadata": {},
     "output_type": "execute_result"
    }
   ],
   "source": [
    "df_2ap.columns"
   ]
  },
  {
   "cell_type": "code",
   "execution_count": 80,
   "metadata": {},
   "outputs": [],
   "source": [
    "# save\n",
    "df_2ap.to_csv(\"./df_2ap_final.csv\", index=False)"
   ]
  }
 ],
 "metadata": {
  "kernelspec": {
   "display_name": "myenv",
   "language": "python",
   "name": "python3"
  },
  "language_info": {
   "codemirror_mode": {
    "name": "ipython",
    "version": 3
   },
   "file_extension": ".py",
   "mimetype": "text/x-python",
   "name": "python",
   "nbconvert_exporter": "python",
   "pygments_lexer": "ipython3",
   "version": "3.11.5"
  }
 },
 "nbformat": 4,
 "nbformat_minor": 2
}
