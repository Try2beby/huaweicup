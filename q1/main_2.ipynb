{
 "cells": [
  {
   "cell_type": "code",
   "execution_count": 1,
   "metadata": {},
   "outputs": [],
   "source": [
    "import ast\n",
    "\n",
    "import numpy as np\n",
    "import pandas as pd\n"
   ]
  },
  {
   "cell_type": "code",
   "execution_count": 2,
   "metadata": {},
   "outputs": [],
   "source": [
    "aps_cols = [\"ap_from_ap_max_rssi\", \"ap_from_ap_mean_rssi\"]"
   ]
  },
  {
   "cell_type": "code",
   "execution_count": 3,
   "metadata": {},
   "outputs": [],
   "source": [
    "def resolve_nav_from_aps(row):\n",
    "    # count how many values in \"ap_from_ap_mean_rssi\" > \"nav\"\n",
    "    aps_mean = np.array(ast.literal_eval(row[(aps_cols[1], \"org\")]))\n",
    "    nav_value = pd.to_numeric(row[(\"nav\", \"_\")], errors=\"coerce\")\n",
    "    nav_percent = np.mean(aps_mean > nav_value)\n",
    "    return nav_percent\n",
    "\n",
    "\n",
    "def resolve_in_PD_ED_from_aps(row):\n",
    "    aps_max = np.array(ast.literal_eval(row[(aps_cols[0], \"org\")]))\n",
    "    in_PD_ED = sum((aps_max >= row[(\"pd\", \"_\")]) & (aps_max <= row[(\"ed\", \"_\")])) / len(\n",
    "        aps_max\n",
    "    )\n",
    "    return in_PD_ED\n",
    "\n",
    "\n",
    "def resolve_larger_ED_from_aps(row):\n",
    "    aps_max = np.array(ast.literal_eval(row[(aps_cols[0], \"org\")]))\n",
    "    larger_ED = sum(aps_max > row[(\"ed\", \"_\")]) / len(aps_max)\n",
    "    return larger_ED\n"
   ]
  },
  {
   "cell_type": "code",
   "execution_count": 4,
   "metadata": {},
   "outputs": [
    {
     "data": {
      "text/plain": [
       "392"
      ]
     },
     "execution_count": 4,
     "metadata": {},
     "output_type": "execute_result"
    }
   ],
   "source": [
    "df_2ap = pd.read_csv(\"./df_2ap_1.csv\", header=[0, 1], index_col=None)\n",
    "len(df_2ap)"
   ]
  },
  {
   "cell_type": "code",
   "execution_count": 5,
   "metadata": {},
   "outputs": [],
   "source": [
    "df_2ap[(aps_cols[1], \"nav_percent\")] = df_2ap.apply(resolve_nav_from_aps, axis=1)\n",
    "df_2ap[(aps_cols[0], \"in_pd_ed\")] = df_2ap.apply(resolve_in_PD_ED_from_aps, axis=1)\n",
    "df_2ap[(aps_cols[0], \"larger_ed\")] = df_2ap.apply(resolve_larger_ED_from_aps, axis=1)"
   ]
  },
  {
   "cell_type": "code",
   "execution_count": 6,
   "metadata": {},
   "outputs": [
    {
     "data": {
      "text/html": [
       "<div>\n",
       "<style scoped>\n",
       "    .dataframe tbody tr th:only-of-type {\n",
       "        vertical-align: middle;\n",
       "    }\n",
       "\n",
       "    .dataframe tbody tr th {\n",
       "        vertical-align: top;\n",
       "    }\n",
       "\n",
       "    .dataframe thead tr th {\n",
       "        text-align: left;\n",
       "    }\n",
       "</style>\n",
       "<table border=\"1\" class=\"dataframe\">\n",
       "  <thead>\n",
       "    <tr>\n",
       "      <th></th>\n",
       "      <th>ap_from_ap_mean_rssi</th>\n",
       "      <th colspan=\"2\" halign=\"left\">ap_from_ap_max_rssi</th>\n",
       "    </tr>\n",
       "    <tr>\n",
       "      <th></th>\n",
       "      <th>nav_percent</th>\n",
       "      <th>in_pd_ed</th>\n",
       "      <th>larger_ed</th>\n",
       "    </tr>\n",
       "  </thead>\n",
       "  <tbody>\n",
       "    <tr>\n",
       "      <th>0</th>\n",
       "      <td>0.0</td>\n",
       "      <td>0.000000</td>\n",
       "      <td>0.0</td>\n",
       "    </tr>\n",
       "    <tr>\n",
       "      <th>1</th>\n",
       "      <td>0.0</td>\n",
       "      <td>0.000000</td>\n",
       "      <td>0.0</td>\n",
       "    </tr>\n",
       "    <tr>\n",
       "      <th>2</th>\n",
       "      <td>0.0</td>\n",
       "      <td>0.000000</td>\n",
       "      <td>0.0</td>\n",
       "    </tr>\n",
       "    <tr>\n",
       "      <th>3</th>\n",
       "      <td>0.0</td>\n",
       "      <td>0.000000</td>\n",
       "      <td>0.0</td>\n",
       "    </tr>\n",
       "    <tr>\n",
       "      <th>4</th>\n",
       "      <td>0.0</td>\n",
       "      <td>0.000000</td>\n",
       "      <td>0.0</td>\n",
       "    </tr>\n",
       "    <tr>\n",
       "      <th>5</th>\n",
       "      <td>0.0</td>\n",
       "      <td>0.061224</td>\n",
       "      <td>0.0</td>\n",
       "    </tr>\n",
       "    <tr>\n",
       "      <th>6</th>\n",
       "      <td>0.0</td>\n",
       "      <td>0.000000</td>\n",
       "      <td>0.0</td>\n",
       "    </tr>\n",
       "    <tr>\n",
       "      <th>7</th>\n",
       "      <td>0.0</td>\n",
       "      <td>0.061224</td>\n",
       "      <td>0.0</td>\n",
       "    </tr>\n",
       "    <tr>\n",
       "      <th>8</th>\n",
       "      <td>0.0</td>\n",
       "      <td>0.000000</td>\n",
       "      <td>0.0</td>\n",
       "    </tr>\n",
       "    <tr>\n",
       "      <th>9</th>\n",
       "      <td>0.0</td>\n",
       "      <td>0.040000</td>\n",
       "      <td>0.0</td>\n",
       "    </tr>\n",
       "  </tbody>\n",
       "</table>\n",
       "</div>"
      ],
      "text/plain": [
       "  ap_from_ap_mean_rssi ap_from_ap_max_rssi          \n",
       "           nav_percent            in_pd_ed larger_ed\n",
       "0                  0.0            0.000000       0.0\n",
       "1                  0.0            0.000000       0.0\n",
       "2                  0.0            0.000000       0.0\n",
       "3                  0.0            0.000000       0.0\n",
       "4                  0.0            0.000000       0.0\n",
       "5                  0.0            0.061224       0.0\n",
       "6                  0.0            0.000000       0.0\n",
       "7                  0.0            0.061224       0.0\n",
       "8                  0.0            0.000000       0.0\n",
       "9                  0.0            0.040000       0.0"
      ]
     },
     "execution_count": 6,
     "metadata": {},
     "output_type": "execute_result"
    }
   ],
   "source": [
    "cols_to_check = [\n",
    "    (aps_cols[1], \"nav_percent\"),\n",
    "    (aps_cols[0], \"in_pd_ed\"),\n",
    "    (aps_cols[0], \"larger_ed\"),\n",
    "]\n",
    "df_2ap[cols_to_check].head(10)"
   ]
  },
  {
   "cell_type": "code",
   "execution_count": 7,
   "metadata": {},
   "outputs": [
    {
     "data": {
      "text/plain": [
       "243"
      ]
     },
     "execution_count": 7,
     "metadata": {},
     "output_type": "execute_result"
    }
   ],
   "source": [
    "len(df_2ap.columns)"
   ]
  },
  {
   "cell_type": "code",
   "execution_count": 8,
   "metadata": {},
   "outputs": [],
   "source": [
    "# (*rssi, !org)\n",
    "# (!*rssi, _)\n",
    "\n",
    "# 提取与 \"*rssi, !org\" 相关的列 (一级索引包含 'rssi' 且二级索引不等于 'org')\n",
    "rssi_not_org_cols = [\n",
    "    col\n",
    "    for col in df_2ap.columns\n",
    "    if \"rssi\" in col[0] and col[1] != \"org\" and col[1] != \"_\"\n",
    "]\n",
    "\n",
    "# 提取与 \"!*rssi, _\" 相关的列 (一级索引不包含 'rssi' 且二级索引等于 '_')\n",
    "not_rssi_underscore_cols = [\n",
    "    col for col in df_2ap.columns if \"rssi\" not in col[0] and col[1] == \"_\"\n",
    "]\n",
    "\n",
    "# 创建新的 DataFrame 包含提取出的列\n",
    "df_rssi_not_org = df_2ap[rssi_not_org_cols]\n",
    "df_not_rssi_underscore = df_2ap[not_rssi_underscore_cols]"
   ]
  },
  {
   "cell_type": "code",
   "execution_count": 9,
   "metadata": {},
   "outputs": [],
   "source": [
    "cols_to_use = [\n",
    "    # (\"test_id\", \"_\"),\n",
    "    # (\"test_dur\", \"_\"),\n",
    "    (\"loc_id\", \"_\"),\n",
    "    (\"protocol\", \"_\"),\n",
    "    # (\"pkt_len\", \"_\"),\n",
    "    (\"bss_id\", \"_\"),\n",
    "    # (\"ap_name\", \"_\"),\n",
    "    (\"ap_mac\", \"_\"),\n",
    "    # (\"ap_id\", \"_\"),\n",
    "    (\"pd\", \"_\"),\n",
    "    (\"ed\", \"_\"),\n",
    "    (\"nav\", \"_\"),\n",
    "    (\"eirp\", \"_\"),\n",
    "    (\"sta_mac\", \"_\"),\n",
    "    # (\"sta_id\", \"_\"),\n",
    "    (\"seq_time\", \"_\"),\n",
    "]\n",
    "\n",
    "catagory_cols = [\n",
    "    (\"loc_id\", \"_\"),\n",
    "    (\"protocol\", \"_\"),\n",
    "    (\"bss_id\", \"_\"),\n",
    "    (\"ap_mac\", \"_\"),\n",
    "    (\"sta_mac\", \"_\"),\n",
    "]"
   ]
  },
  {
   "cell_type": "code",
   "execution_count": 10,
   "metadata": {},
   "outputs": [],
   "source": [
    "df_2ap = pd.concat([df_not_rssi_underscore[cols_to_use], df_rssi_not_org], axis=1)\n",
    "\n",
    "# # deal with catagory columns\n",
    "# for col in catagory_cols:\n",
    "#     df_2ap[col] = df_2ap[col].astype(\"category\")"
   ]
  },
  {
   "cell_type": "code",
   "execution_count": 11,
   "metadata": {},
   "outputs": [],
   "source": [
    "df_dummies = pd.get_dummies(df_2ap[catagory_cols])\n",
    "new_cols = [(col, \"_\") for col in df_dummies.columns]\n",
    "# new col names (org_name, _)\n",
    "df_dummies.columns = pd.MultiIndex.from_tuples(new_cols)"
   ]
  },
  {
   "cell_type": "code",
   "execution_count": 12,
   "metadata": {},
   "outputs": [],
   "source": [
    "df_2ap = pd.concat([df_2ap, df_dummies], axis=1)\n",
    "df_2ap.drop(columns=catagory_cols, inplace=True)"
   ]
  },
  {
   "cell_type": "code",
   "execution_count": 13,
   "metadata": {},
   "outputs": [
    {
     "data": {
      "text/plain": [
       "MultiIndex([(                            'pd',      '_'),\n",
       "            (                            'ed',      '_'),\n",
       "            (                           'nav',      '_'),\n",
       "            (                          'eirp',      '_'),\n",
       "            (                      'seq_time',      '_'),\n",
       "            (      'sta_to_ap_0_max_ant_rssi', 'length'),\n",
       "            (      'sta_to_ap_0_max_ant_rssi',    'max'),\n",
       "            (      'sta_to_ap_0_max_ant_rssi',    'min'),\n",
       "            (      'sta_to_ap_0_max_ant_rssi', 'median'),\n",
       "            (      'sta_to_ap_0_max_ant_rssi',  'range'),\n",
       "            ...\n",
       "            (          '('loc_id', '_')_loc1',      '_'),\n",
       "            (          '('loc_id', '_')_loc2',      '_'),\n",
       "            (         '('protocol', '_')_tcp',      '_'),\n",
       "            (         '('protocol', '_')_udp',      '_'),\n",
       "            ('('ap_mac', '_')_6c14-6ef5-9510',      '_'),\n",
       "            ('('ap_mac', '_')_8c68-3a11-e370',      '_'),\n",
       "            (         '('sta_mac', '_')_471f',      '_'),\n",
       "            (         '('sta_mac', '_')_6d53',      '_'),\n",
       "            (         '('sta_mac', '_')_8889',      '_'),\n",
       "            (         '('sta_mac', '_')_d4e0',      '_')],\n",
       "           length=220)"
      ]
     },
     "execution_count": 13,
     "metadata": {},
     "output_type": "execute_result"
    }
   ],
   "source": [
    "df_2ap.columns"
   ]
  },
  {
   "cell_type": "code",
   "execution_count": 14,
   "metadata": {},
   "outputs": [],
   "source": [
    "# save\n",
    "df_2ap.to_csv(\"./df_2ap_final.csv\", index=False)"
   ]
  }
 ],
 "metadata": {
  "kernelspec": {
   "display_name": "myenv",
   "language": "python",
   "name": "python3"
  },
  "language_info": {
   "codemirror_mode": {
    "name": "ipython",
    "version": 3
   },
   "file_extension": ".py",
   "mimetype": "text/x-python",
   "name": "python",
   "nbconvert_exporter": "python",
   "pygments_lexer": "ipython3",
   "version": "3.11.5"
  }
 },
 "nbformat": 4,
 "nbformat_minor": 2
}
