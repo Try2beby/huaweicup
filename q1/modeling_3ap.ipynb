{
 "cells": [
  {
   "cell_type": "code",
   "execution_count": 1,
   "metadata": {},
   "outputs": [],
   "source": [
    "import pandas as pd\n",
    "from modeling import regressor"
   ]
  },
  {
   "cell_type": "code",
   "execution_count": 2,
   "metadata": {},
   "outputs": [
    {
     "name": "stdout",
     "output_type": "stream",
     "text": [
      "(691, 347)\n"
     ]
    }
   ],
   "source": [
    "df = pd.read_csv(\"./df_3ap_final.csv\", header=[0, 1], index_col=None)\n",
    "\n",
    "y = df[(\"seq_time\", \"_\")]\n",
    "X = df.drop(columns=[(\"seq_time\", \"_\")])\n",
    "\n",
    "print(X.shape)"
   ]
  },
  {
   "cell_type": "code",
   "execution_count": 3,
   "metadata": {},
   "outputs": [
    {
     "name": "stdout",
     "output_type": "stream",
     "text": [
      "Mean Squared Error (MSE) scores: [43.29507679532377, 42.77906946695651, 52.13760448659419, 47.277402216521715, 40.797532764637666]\n",
      "Average MSE: 45.257337146006776\n",
      "R^2 scores: [0.7616381245990499, 0.6835901741028401, 0.6693749366710771, 0.7382861286499385, 0.7336797876221273]\n",
      "Average R^2: 0.7173138303290065\n",
      "\n",
      "SHAP Values:\n",
      "                                           Feature  SHAP Value\n",
      "315       (ap_from_ap_B_mean_rssi, le_nav_percent)    0.500593\n",
      "336                     (('protocol', '_')_tcp, _)    0.037087\n",
      "337                     (('protocol', '_')_udp, _)    0.025032\n",
      "135             (sta_from_ap_0_max_ant_rssi, mean)    0.024243\n",
      "149            (sta_from_ap_0_mean_ant_rssi, sinr)    0.022911\n",
      "..                                             ...         ...\n",
      "346                     (('sta_mac', '_')_e158, _)   -0.026027\n",
      "322                 (ap_from_ap_B_mean_rssi, mean)   -0.037528\n",
      "86   (sta_to_ap_2_max_ant_rssi, in_nav_ed_percent)   -0.089233\n",
      "294     (ap_from_ap_B_max_rssi, in_nav_ed_percent)   -0.090981\n",
      "274       (ap_from_ap_A_mean_rssi, le_nav_percent)   -0.314105\n",
      "\n",
      "[347 rows x 2 columns]\n",
      "\n",
      "Feature Importances:\n",
      "                                           Feature  Importance\n",
      "315       (ap_from_ap_B_mean_rssi, le_nav_percent)    0.375507\n",
      "274       (ap_from_ap_A_mean_rssi, le_nav_percent)    0.150249\n",
      "294     (ap_from_ap_B_max_rssi, in_nav_ed_percent)    0.042786\n",
      "253     (ap_from_ap_A_max_rssi, in_nav_ed_percent)    0.028644\n",
      "337                     (('protocol', '_')_udp, _)    0.028545\n",
      "..                                             ...         ...\n",
      "338            (('ap_mac', '_')_6c14-6ef5-8e30, _)    0.000007\n",
      "232  (sta_from_ap_2_mean_ant_rssi, le_nav_percent)    0.000007\n",
      "343                     (('sta_mac', '_')_6d53, _)    0.000007\n",
      "0                                          (pd, _)    0.000000\n",
      "1                                          (ed, _)    0.000000\n",
      "\n",
      "[347 rows x 2 columns]\n"
     ]
    }
   ],
   "source": [
    "res_rf = regressor(X, y, model_type=\"random_forest\", suffix=\"3ap\")"
   ]
  },
  {
   "cell_type": "code",
   "execution_count": 4,
   "metadata": {},
   "outputs": [
    {
     "name": "stdout",
     "output_type": "stream",
     "text": [
      "Mean Squared Error (MSE) scores: [46.29852935822273, 49.926278228582596, 60.18363072436314, 52.94352844403172, 42.555679345606286]\n",
      "Average MSE: 50.3815292201613\n",
      "R^2 scores: [0.7451025589282735, 0.6307267736573592, 0.6183519186286478, 0.7069201110382191, 0.7222028688207813]\n",
      "Average R^2: 0.6846608462146562\n",
      "\n",
      "SHAP Values:\n",
      "                                               Feature  SHAP Value\n",
      "315           (ap_from_ap_B_mean_rssi, le_nav_percent)    0.330871\n",
      "149                (sta_from_ap_0_mean_ant_rssi, sinr)    0.058073\n",
      "302                      (ap_from_ap_B_max_rssi, mean)    0.052323\n",
      "45       (sta_to_ap_1_max_ant_rssi, in_nav_ed_percent)    0.034273\n",
      "128        (sta_from_ap_0_max_ant_rssi, la_ed_percent)    0.029385\n",
      "..                                                 ...         ...\n",
      "294         (ap_from_ap_B_max_rssi, in_nav_ed_percent)   -0.015631\n",
      "261                      (ap_from_ap_A_max_rssi, mean)   -0.018080\n",
      "189  (sta_from_ap_1_max_ant_rssi, wavelet_coefficie...   -0.033750\n",
      "86       (sta_to_ap_2_max_ant_rssi, in_nav_ed_percent)   -0.116689\n",
      "274           (ap_from_ap_A_mean_rssi, le_nav_percent)   -0.322381\n",
      "\n",
      "[347 rows x 2 columns]\n",
      "\n",
      "Feature Importances:\n",
      "                                             Feature  Importance\n",
      "315         (ap_from_ap_B_mean_rssi, le_nav_percent)    0.169465\n",
      "274         (ap_from_ap_A_mean_rssi, le_nav_percent)    0.061482\n",
      "87         (sta_to_ap_2_max_ant_rssi, la_ed_percent)    0.034210\n",
      "132             (sta_from_ap_0_max_ant_rssi, median)    0.029031\n",
      "149              (sta_from_ap_0_mean_ant_rssi, sinr)    0.026166\n",
      "..                                               ...         ...\n",
      "214                (sta_from_ap_2_max_ant_rssi, max)    0.000000\n",
      "215                (sta_from_ap_2_max_ant_rssi, min)    0.000000\n",
      "216             (sta_from_ap_2_max_ant_rssi, median)    0.000000\n",
      "217              (sta_from_ap_2_max_ant_rssi, range)    0.000000\n",
      "169  (sta_from_ap_1_max_ant_rssi, in_nav_ed_percent)    0.000000\n",
      "\n",
      "[347 rows x 2 columns]\n"
     ]
    }
   ],
   "source": [
    "res_xgb = regressor(X, y, model_type=\"xgboost\", suffix=\"3ap\")"
   ]
  },
  {
   "cell_type": "code",
   "execution_count": 5,
   "metadata": {},
   "outputs": [
    {
     "name": "stdout",
     "output_type": "stream",
     "text": [
      "Mean Squared Error (MSE) scores: [101.18006390580935, 86.81357822733999, 96.97240479009315, 109.25095975832565, 75.77375151738546]\n",
      "Average MSE: 93.99815163979072\n",
      "R^2 scores: [0.44295121822300176, 0.35789465468295134, 0.38505982791890125, 0.3952186396343672, 0.5053602453560655]\n",
      "Average R^2: 0.4172969171630575\n",
      "svr model does not support feature importance.\n"
     ]
    }
   ],
   "source": [
    "res_svr = regressor(X, y, model_type=\"svr\", suffix=\"3ap\")"
   ]
  },
  {
   "cell_type": "code",
   "execution_count": 6,
   "metadata": {},
   "outputs": [
    {
     "name": "stderr",
     "output_type": "stream",
     "text": [
      "/data/twh/code/huaweicup/q1/modeling.py:16: FutureWarning: Downcasting behavior in `replace` is deprecated and will be removed in a future version. To retain the old behavior, explicitly call `result.infer_objects(copy=False)`. To opt-in to the future behavior, set `pd.set_option('future.no_silent_downcasting', True)`\n",
      "  X = X.replace({True: 1, False: 0})\n"
     ]
    },
    {
     "name": "stdout",
     "output_type": "stream",
     "text": [
      "Epoch [20/600], Loss: 35.458259\n",
      "Epoch [40/600], Loss: 18.825221\n",
      "Epoch [60/600], Loss: 9.219765\n",
      "Epoch [80/600], Loss: 4.200792\n",
      "Epoch [100/600], Loss: 1.293786\n",
      "Epoch [120/600], Loss: 0.367105\n",
      "Epoch [140/600], Loss: 0.144225\n",
      "Epoch [160/600], Loss: 0.067091\n",
      "Epoch [180/600], Loss: 0.485021\n",
      "Epoch [200/600], Loss: 0.016849\n",
      "Epoch [220/600], Loss: 0.006298\n",
      "Epoch [240/600], Loss: 0.005692\n",
      "Epoch [260/600], Loss: 0.005009\n",
      "Epoch [280/600], Loss: 0.004485\n",
      "Epoch [300/600], Loss: 0.004238\n",
      "Epoch [320/600], Loss: 0.003521\n",
      "Epoch [340/600], Loss: 0.003568\n",
      "Epoch [360/600], Loss: 0.002634\n",
      "Epoch [380/600], Loss: 0.002289\n",
      "Epoch [400/600], Loss: 0.002024\n",
      "Epoch [420/600], Loss: 0.001782\n",
      "Epoch [440/600], Loss: 0.001731\n",
      "Epoch [460/600], Loss: 0.001689\n",
      "Epoch [480/600], Loss: 0.001659\n",
      "Epoch [500/600], Loss: 0.001618\n",
      "Epoch [520/600], Loss: 0.001573\n",
      "Epoch [540/600], Loss: 0.001755\n",
      "Epoch [560/600], Loss: 0.001474\n",
      "Epoch [580/600], Loss: 0.001424\n",
      "Epoch [600/600], Loss: 0.001509\n"
     ]
    },
    {
     "name": "stderr",
     "output_type": "stream",
     "text": [
      "/data/twh/code/huaweicup/q1/modeling.py:16: FutureWarning: Downcasting behavior in `replace` is deprecated and will be removed in a future version. To retain the old behavior, explicitly call `result.infer_objects(copy=False)`. To opt-in to the future behavior, set `pd.set_option('future.no_silent_downcasting', True)`\n",
      "  X = X.replace({True: 1, False: 0})\n",
      "/data/twh/code/huaweicup/q1/modeling.py:16: FutureWarning: Downcasting behavior in `replace` is deprecated and will be removed in a future version. To retain the old behavior, explicitly call `result.infer_objects(copy=False)`. To opt-in to the future behavior, set `pd.set_option('future.no_silent_downcasting', True)`\n",
      "  X = X.replace({True: 1, False: 0})\n"
     ]
    },
    {
     "name": "stdout",
     "output_type": "stream",
     "text": [
      "Epoch [20/600], Loss: 1.129124\n",
      "Epoch [40/600], Loss: 0.120994\n",
      "Epoch [60/600], Loss: 0.047453\n",
      "Epoch [80/600], Loss: 0.675537\n",
      "Epoch [100/600], Loss: 0.536683\n",
      "Epoch [120/600], Loss: 0.268196\n",
      "Epoch [140/600], Loss: 0.201859\n",
      "Epoch [160/600], Loss: 0.123258\n",
      "Epoch [180/600], Loss: 0.905111\n",
      "Epoch [200/600], Loss: 0.216166\n",
      "Epoch [220/600], Loss: 0.003011\n",
      "Epoch [240/600], Loss: 0.000691\n",
      "Epoch [260/600], Loss: 0.000220\n",
      "Epoch [280/600], Loss: 0.000086\n",
      "Epoch [300/600], Loss: 0.000034\n",
      "Epoch [320/600], Loss: 0.000016\n",
      "Epoch [340/600], Loss: 0.000008\n",
      "Epoch [360/600], Loss: 0.000004\n",
      "Epoch [380/600], Loss: 0.000002\n",
      "Epoch [400/600], Loss: 0.000001\n",
      "Epoch [420/600], Loss: 0.000001\n",
      "Epoch [440/600], Loss: 0.000001\n",
      "Epoch [460/600], Loss: 0.000001\n",
      "Epoch [480/600], Loss: 0.000001\n",
      "Epoch [500/600], Loss: 0.000000\n",
      "Epoch [520/600], Loss: 0.000000\n",
      "Epoch [540/600], Loss: 0.000000\n",
      "Epoch [560/600], Loss: 0.000000\n",
      "Epoch [580/600], Loss: 0.000000\n",
      "Epoch [600/600], Loss: 0.000000\n"
     ]
    },
    {
     "name": "stderr",
     "output_type": "stream",
     "text": [
      "/data/twh/code/huaweicup/q1/modeling.py:16: FutureWarning: Downcasting behavior in `replace` is deprecated and will be removed in a future version. To retain the old behavior, explicitly call `result.infer_objects(copy=False)`. To opt-in to the future behavior, set `pd.set_option('future.no_silent_downcasting', True)`\n",
      "  X = X.replace({True: 1, False: 0})\n",
      "/data/twh/code/huaweicup/q1/modeling.py:16: FutureWarning: Downcasting behavior in `replace` is deprecated and will be removed in a future version. To retain the old behavior, explicitly call `result.infer_objects(copy=False)`. To opt-in to the future behavior, set `pd.set_option('future.no_silent_downcasting', True)`\n",
      "  X = X.replace({True: 1, False: 0})\n"
     ]
    },
    {
     "name": "stdout",
     "output_type": "stream",
     "text": [
      "Epoch [20/600], Loss: 0.240633\n",
      "Epoch [40/600], Loss: 0.566744\n",
      "Epoch [60/600], Loss: 0.167598\n",
      "Epoch [80/600], Loss: 0.027642\n",
      "Epoch [100/600], Loss: 0.226459\n",
      "Epoch [120/600], Loss: 0.561775\n",
      "Epoch [140/600], Loss: 0.158953\n",
      "Epoch [160/600], Loss: 0.157932\n",
      "Epoch [180/600], Loss: 0.049244\n",
      "Epoch [200/600], Loss: 0.093477\n",
      "Epoch [220/600], Loss: 0.000956\n",
      "Epoch [240/600], Loss: 0.000180\n",
      "Epoch [260/600], Loss: 0.000043\n",
      "Epoch [280/600], Loss: 0.000012\n",
      "Epoch [300/600], Loss: 0.000004\n",
      "Epoch [320/600], Loss: 0.000001\n",
      "Epoch [340/600], Loss: 0.000000\n",
      "Epoch [360/600], Loss: 0.000000\n",
      "Epoch [380/600], Loss: 0.000000\n",
      "Epoch [400/600], Loss: 0.000000\n",
      "Epoch [420/600], Loss: 0.000000\n",
      "Epoch [440/600], Loss: 0.000000\n",
      "Epoch [460/600], Loss: 0.000000\n",
      "Epoch [480/600], Loss: 0.000000\n",
      "Epoch [500/600], Loss: 0.000000\n",
      "Epoch [520/600], Loss: 0.000000\n",
      "Epoch [540/600], Loss: 0.000000\n",
      "Epoch [560/600], Loss: 0.000000\n",
      "Epoch [580/600], Loss: 0.000000\n",
      "Epoch [600/600], Loss: 0.000000\n"
     ]
    },
    {
     "name": "stderr",
     "output_type": "stream",
     "text": [
      "/data/twh/code/huaweicup/q1/modeling.py:16: FutureWarning: Downcasting behavior in `replace` is deprecated and will be removed in a future version. To retain the old behavior, explicitly call `result.infer_objects(copy=False)`. To opt-in to the future behavior, set `pd.set_option('future.no_silent_downcasting', True)`\n",
      "  X = X.replace({True: 1, False: 0})\n",
      "/data/twh/code/huaweicup/q1/modeling.py:16: FutureWarning: Downcasting behavior in `replace` is deprecated and will be removed in a future version. To retain the old behavior, explicitly call `result.infer_objects(copy=False)`. To opt-in to the future behavior, set `pd.set_option('future.no_silent_downcasting', True)`\n",
      "  X = X.replace({True: 1, False: 0})\n"
     ]
    },
    {
     "name": "stdout",
     "output_type": "stream",
     "text": [
      "Epoch [20/600], Loss: 0.055563\n",
      "Epoch [40/600], Loss: 0.782454\n",
      "Epoch [60/600], Loss: 0.079733\n",
      "Epoch [80/600], Loss: 0.384355\n",
      "Epoch [100/600], Loss: 0.261881\n",
      "Epoch [120/600], Loss: 0.016920\n",
      "Epoch [140/600], Loss: 0.027783\n",
      "Epoch [160/600], Loss: 0.293754\n",
      "Epoch [180/600], Loss: 0.612064\n",
      "Epoch [200/600], Loss: 0.072745\n",
      "Epoch [220/600], Loss: 0.001317\n",
      "Epoch [240/600], Loss: 0.000294\n",
      "Epoch [260/600], Loss: 0.000095\n",
      "Epoch [280/600], Loss: 0.000034\n",
      "Epoch [300/600], Loss: 0.000013\n",
      "Epoch [320/600], Loss: 0.000006\n",
      "Epoch [340/600], Loss: 0.000003\n",
      "Epoch [360/600], Loss: 0.000001\n",
      "Epoch [380/600], Loss: 0.000001\n",
      "Epoch [400/600], Loss: 0.000000\n",
      "Epoch [420/600], Loss: 0.000000\n",
      "Epoch [440/600], Loss: 0.000000\n",
      "Epoch [460/600], Loss: 0.000000\n",
      "Epoch [480/600], Loss: 0.000000\n",
      "Epoch [500/600], Loss: 0.000000\n",
      "Epoch [520/600], Loss: 0.000000\n",
      "Epoch [540/600], Loss: 0.000000\n",
      "Epoch [560/600], Loss: 0.000000\n",
      "Epoch [580/600], Loss: 0.000000\n",
      "Epoch [600/600], Loss: 0.000000\n"
     ]
    },
    {
     "name": "stderr",
     "output_type": "stream",
     "text": [
      "/data/twh/code/huaweicup/q1/modeling.py:16: FutureWarning: Downcasting behavior in `replace` is deprecated and will be removed in a future version. To retain the old behavior, explicitly call `result.infer_objects(copy=False)`. To opt-in to the future behavior, set `pd.set_option('future.no_silent_downcasting', True)`\n",
      "  X = X.replace({True: 1, False: 0})\n",
      "/data/twh/code/huaweicup/q1/modeling.py:16: FutureWarning: Downcasting behavior in `replace` is deprecated and will be removed in a future version. To retain the old behavior, explicitly call `result.infer_objects(copy=False)`. To opt-in to the future behavior, set `pd.set_option('future.no_silent_downcasting', True)`\n",
      "  X = X.replace({True: 1, False: 0})\n"
     ]
    },
    {
     "name": "stdout",
     "output_type": "stream",
     "text": [
      "Epoch [20/600], Loss: 0.072800\n",
      "Epoch [40/600], Loss: 0.323334\n",
      "Epoch [60/600], Loss: 0.270564\n",
      "Epoch [80/600], Loss: 0.067094\n",
      "Epoch [100/600], Loss: 0.259000\n",
      "Epoch [120/600], Loss: 0.416663\n",
      "Epoch [140/600], Loss: 0.462612\n",
      "Epoch [160/600], Loss: 0.007559\n",
      "Epoch [180/600], Loss: 0.001435\n",
      "Epoch [200/600], Loss: 0.001036\n",
      "Epoch [220/600], Loss: 0.000009\n",
      "Epoch [240/600], Loss: 0.000002\n",
      "Epoch [260/600], Loss: 0.000001\n",
      "Epoch [280/600], Loss: 0.000000\n",
      "Epoch [300/600], Loss: 0.000000\n",
      "Epoch [320/600], Loss: 0.000000\n",
      "Epoch [340/600], Loss: 0.000000\n",
      "Epoch [360/600], Loss: 0.000000\n",
      "Epoch [380/600], Loss: 0.000000\n",
      "Epoch [400/600], Loss: 0.000000\n",
      "Epoch [420/600], Loss: 0.000000\n",
      "Epoch [440/600], Loss: 0.000000\n",
      "Epoch [460/600], Loss: 0.000000\n",
      "Epoch [480/600], Loss: 0.000000\n",
      "Epoch [500/600], Loss: 0.000000\n",
      "Epoch [520/600], Loss: 0.000000\n",
      "Epoch [540/600], Loss: 0.000000\n",
      "Epoch [560/600], Loss: 0.000000\n",
      "Epoch [580/600], Loss: 0.000000\n",
      "Epoch [600/600], Loss: 0.000000\n"
     ]
    },
    {
     "name": "stderr",
     "output_type": "stream",
     "text": [
      "/data/twh/code/huaweicup/q1/modeling.py:16: FutureWarning: Downcasting behavior in `replace` is deprecated and will be removed in a future version. To retain the old behavior, explicitly call `result.infer_objects(copy=False)`. To opt-in to the future behavior, set `pd.set_option('future.no_silent_downcasting', True)`\n",
      "  X = X.replace({True: 1, False: 0})\n",
      "/data/twh/code/huaweicup/q1/modeling.py:16: FutureWarning: Downcasting behavior in `replace` is deprecated and will be removed in a future version. To retain the old behavior, explicitly call `result.infer_objects(copy=False)`. To opt-in to the future behavior, set `pd.set_option('future.no_silent_downcasting', True)`\n",
      "  X = X.replace({True: 1, False: 0})\n"
     ]
    },
    {
     "name": "stdout",
     "output_type": "stream",
     "text": [
      "Mean Squared Error (MSE) scores: [156.37909694299097, 13.386263486564014, 3.384666847606743, 1.8749766595385757, 1.0927199481993484]\n",
      "Average MSE: 35.223544776979935\n",
      "R^2 scores: [0.08136653520468251, 0.9165632441851574, 0.979558688141364, 0.9883954386597914, 0.9928886312269739]\n",
      "Average R^2: 0.7917545074835939\n",
      "\n",
      "SHAP Values:\n",
      "                                            Feature  SHAP Value\n",
      "266      (ap_from_ap_A_max_rssi, sum_absolute_diff)    1.422471\n",
      "286     (ap_from_ap_A_mean_rssi, sum_absolute_diff)    0.829443\n",
      "99    (sta_to_ap_2_max_ant_rssi, sum_absolute_diff)    0.729389\n",
      "26              (sta_to_ap_0_mean_ant_rssi, length)    0.665220\n",
      "6                (sta_to_ap_0_max_ant_rssi, length)    0.593424\n",
      "..                                              ...         ...\n",
      "119  (sta_to_ap_2_mean_ant_rssi, sum_absolute_diff)   -0.319104\n",
      "327     (ap_from_ap_B_mean_rssi, sum_absolute_diff)   -0.566113\n",
      "58    (sta_to_ap_1_max_ant_rssi, sum_absolute_diff)   -0.942653\n",
      "37   (sta_to_ap_0_mean_ant_rssi, sum_absolute_diff)   -2.046486\n",
      "17    (sta_to_ap_0_max_ant_rssi, sum_absolute_diff)   -3.225053\n",
      "\n",
      "[347 rows x 2 columns]\n",
      "mlp model does not support feature importance.\n"
     ]
    }
   ],
   "source": [
    "res_mlp = regressor(X, y, model_type=\"mlp\", random_state=2, suffix=\"3ap\")"
   ]
  },
  {
   "cell_type": "code",
   "execution_count": 7,
   "metadata": {},
   "outputs": [
    {
     "data": {
      "text/plain": [
       "{'shap_values':                                             Feature  SHAP Value\n",
       " 266      (ap_from_ap_A_max_rssi, sum_absolute_diff)    1.422471\n",
       " 286     (ap_from_ap_A_mean_rssi, sum_absolute_diff)    0.829443\n",
       " 99    (sta_to_ap_2_max_ant_rssi, sum_absolute_diff)    0.729389\n",
       " 26              (sta_to_ap_0_mean_ant_rssi, length)    0.665220\n",
       " 6                (sta_to_ap_0_max_ant_rssi, length)    0.593424\n",
       " ..                                              ...         ...\n",
       " 119  (sta_to_ap_2_mean_ant_rssi, sum_absolute_diff)   -0.319104\n",
       " 327     (ap_from_ap_B_mean_rssi, sum_absolute_diff)   -0.566113\n",
       " 58    (sta_to_ap_1_max_ant_rssi, sum_absolute_diff)   -0.942653\n",
       " 37   (sta_to_ap_0_mean_ant_rssi, sum_absolute_diff)   -2.046486\n",
       " 17    (sta_to_ap_0_max_ant_rssi, sum_absolute_diff)   -3.225053\n",
       " \n",
       " [347 rows x 2 columns]}"
      ]
     },
     "execution_count": 7,
     "metadata": {},
     "output_type": "execute_result"
    }
   ],
   "source": [
    "res_mlp"
   ]
  },
  {
   "cell_type": "code",
   "execution_count": 8,
   "metadata": {},
   "outputs": [],
   "source": [
    "temp = res_mlp[\"shap_values\"]"
   ]
  }
 ],
 "metadata": {
  "kernelspec": {
   "display_name": "myenv",
   "language": "python",
   "name": "python3"
  },
  "language_info": {
   "codemirror_mode": {
    "name": "ipython",
    "version": 3
   },
   "file_extension": ".py",
   "mimetype": "text/x-python",
   "name": "python",
   "nbconvert_exporter": "python",
   "pygments_lexer": "ipython3",
   "version": "3.11.5"
  }
 },
 "nbformat": 4,
 "nbformat_minor": 2
}
